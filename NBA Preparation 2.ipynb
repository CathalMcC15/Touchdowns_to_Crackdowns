{
 "cells": [
  {
   "cell_type": "markdown",
   "metadata": {},
   "source": [
    "# NBA Preparation 2"
   ]
  },
  {
   "cell_type": "markdown",
   "metadata": {},
   "source": [
    "Preparing the NBA dataset for our weather question..."
   ]
  },
  {
   "cell_type": "code",
   "execution_count": 20,
   "metadata": {
    "collapsed": true
   },
   "outputs": [],
   "source": [
    "import os.path\n",
    "import datetime\n",
    "import pandas as pd\n",
    "import numpy as np\n",
    "import matplotlib\n",
    "import matplotlib.pyplot as plt\n",
    "%matplotlib inline"
   ]
  },
  {
   "cell_type": "code",
   "execution_count": 21,
   "metadata": {
    "collapsed": true
   },
   "outputs": [],
   "source": [
    "if not os.path.exists( \"../../data/prep/600_NBA.csv\" ):\n",
    "    print(\"Missing dataset file\")"
   ]
  },
  {
   "cell_type": "code",
   "execution_count": 22,
   "metadata": {},
   "outputs": [
    {
     "data": {
      "text/plain": [
       "(5354, 9)"
      ]
     },
     "execution_count": 22,
     "metadata": {},
     "output_type": "execute_result"
    }
   ],
   "source": [
    "nba = pd.read_csv(\"../../data/prep/600_NBA.csv\")\n",
    "nba.shape"
   ]
  },
  {
   "cell_type": "code",
   "execution_count": 23,
   "metadata": {},
   "outputs": [
    {
     "data": {
      "text/html": [
       "<div>\n",
       "<style>\n",
       "    .dataframe thead tr:only-child th {\n",
       "        text-align: right;\n",
       "    }\n",
       "\n",
       "    .dataframe thead th {\n",
       "        text-align: left;\n",
       "    }\n",
       "\n",
       "    .dataframe tbody tr th {\n",
       "        vertical-align: top;\n",
       "    }\n",
       "</style>\n",
       "<table border=\"1\" class=\"dataframe\">\n",
       "  <thead>\n",
       "    <tr style=\"text-align: right;\">\n",
       "      <th></th>\n",
       "      <th>Date</th>\n",
       "      <th>Start (ET)</th>\n",
       "      <th>Visitor/Neutral</th>\n",
       "      <th>PTS</th>\n",
       "      <th>Home/Neutral</th>\n",
       "      <th>PTS.1</th>\n",
       "      <th>Attend.</th>\n",
       "      <th>Result</th>\n",
       "      <th>Difference</th>\n",
       "    </tr>\n",
       "  </thead>\n",
       "  <tbody>\n",
       "    <tr>\n",
       "      <th>0</th>\n",
       "      <td>2007-10-30</td>\n",
       "      <td>7:30 pm</td>\n",
       "      <td>Houston Rockets</td>\n",
       "      <td>95</td>\n",
       "      <td>Los Angeles Lakers</td>\n",
       "      <td>93</td>\n",
       "      <td>18997.0</td>\n",
       "      <td>Away Win</td>\n",
       "      <td>2</td>\n",
       "    </tr>\n",
       "    <tr>\n",
       "      <th>1</th>\n",
       "      <td>2007-10-31</td>\n",
       "      <td>8:30 pm</td>\n",
       "      <td>Seattle SuperSonics</td>\n",
       "      <td>103</td>\n",
       "      <td>Denver Nuggets</td>\n",
       "      <td>120</td>\n",
       "      <td>19380.0</td>\n",
       "      <td>Home Win</td>\n",
       "      <td>-17</td>\n",
       "    </tr>\n",
       "    <tr>\n",
       "      <th>2</th>\n",
       "      <td>2007-10-31</td>\n",
       "      <td>7:30 pm</td>\n",
       "      <td>Chicago Bulls</td>\n",
       "      <td>103</td>\n",
       "      <td>New Jersey Nets</td>\n",
       "      <td>112</td>\n",
       "      <td>17342.0</td>\n",
       "      <td>Home Win</td>\n",
       "      <td>-9</td>\n",
       "    </tr>\n",
       "    <tr>\n",
       "      <th>3</th>\n",
       "      <td>2007-10-31</td>\n",
       "      <td>7:00 pm</td>\n",
       "      <td>Philadelphia 76ers</td>\n",
       "      <td>97</td>\n",
       "      <td>Toronto Raptors</td>\n",
       "      <td>106</td>\n",
       "      <td>19800.0</td>\n",
       "      <td>Home Win</td>\n",
       "      <td>-9</td>\n",
       "    </tr>\n",
       "    <tr>\n",
       "      <th>4</th>\n",
       "      <td>2007-11-02</td>\n",
       "      <td>8:00 pm</td>\n",
       "      <td>Washington Wizards</td>\n",
       "      <td>83</td>\n",
       "      <td>Boston Celtics</td>\n",
       "      <td>103</td>\n",
       "      <td>18624.0</td>\n",
       "      <td>Home Win</td>\n",
       "      <td>-20</td>\n",
       "    </tr>\n",
       "  </tbody>\n",
       "</table>\n",
       "</div>"
      ],
      "text/plain": [
       "         Date Start (ET)      Visitor/Neutral  PTS        Home/Neutral  PTS.1  \\\n",
       "0  2007-10-30    7:30 pm      Houston Rockets   95  Los Angeles Lakers     93   \n",
       "1  2007-10-31    8:30 pm  Seattle SuperSonics  103      Denver Nuggets    120   \n",
       "2  2007-10-31    7:30 pm        Chicago Bulls  103     New Jersey Nets    112   \n",
       "3  2007-10-31    7:00 pm   Philadelphia 76ers   97     Toronto Raptors    106   \n",
       "4  2007-11-02    8:00 pm   Washington Wizards   83      Boston Celtics    103   \n",
       "\n",
       "   Attend.    Result  Difference  \n",
       "0  18997.0  Away Win           2  \n",
       "1  19380.0  Home Win         -17  \n",
       "2  17342.0  Home Win          -9  \n",
       "3  19800.0  Home Win          -9  \n",
       "4  18624.0  Home Win         -20  "
      ]
     },
     "execution_count": 23,
     "metadata": {},
     "output_type": "execute_result"
    }
   ],
   "source": [
    "nba.head()"
   ]
  },
  {
   "cell_type": "markdown",
   "metadata": {},
   "source": [
    "### Rounding Dates"
   ]
  },
  {
   "cell_type": "code",
   "execution_count": 24,
   "metadata": {
    "collapsed": true
   },
   "outputs": [],
   "source": [
    "nba['Date'] = pd.to_datetime(nba['Date'].apply(str)+' '+nba['Start (ET)'])"
   ]
  },
  {
   "cell_type": "code",
   "execution_count": 25,
   "metadata": {
    "collapsed": true
   },
   "outputs": [],
   "source": [
    "nba['Date'] = nba['Date'].dt.round('60min')"
   ]
  },
  {
   "cell_type": "code",
   "execution_count": 26,
   "metadata": {},
   "outputs": [
    {
     "data": {
      "text/html": [
       "<div>\n",
       "<style>\n",
       "    .dataframe thead tr:only-child th {\n",
       "        text-align: right;\n",
       "    }\n",
       "\n",
       "    .dataframe thead th {\n",
       "        text-align: left;\n",
       "    }\n",
       "\n",
       "    .dataframe tbody tr th {\n",
       "        vertical-align: top;\n",
       "    }\n",
       "</style>\n",
       "<table border=\"1\" class=\"dataframe\">\n",
       "  <thead>\n",
       "    <tr style=\"text-align: right;\">\n",
       "      <th></th>\n",
       "      <th>Date</th>\n",
       "      <th>Start (ET)</th>\n",
       "      <th>Visitor/Neutral</th>\n",
       "      <th>PTS</th>\n",
       "      <th>Home/Neutral</th>\n",
       "      <th>PTS.1</th>\n",
       "      <th>Attend.</th>\n",
       "      <th>Result</th>\n",
       "      <th>Difference</th>\n",
       "    </tr>\n",
       "  </thead>\n",
       "  <tbody>\n",
       "    <tr>\n",
       "      <th>0</th>\n",
       "      <td>2007-10-30 20:00:00</td>\n",
       "      <td>7:30 pm</td>\n",
       "      <td>Houston Rockets</td>\n",
       "      <td>95</td>\n",
       "      <td>Los Angeles Lakers</td>\n",
       "      <td>93</td>\n",
       "      <td>18997.0</td>\n",
       "      <td>Away Win</td>\n",
       "      <td>2</td>\n",
       "    </tr>\n",
       "    <tr>\n",
       "      <th>1</th>\n",
       "      <td>2007-10-31 20:00:00</td>\n",
       "      <td>8:30 pm</td>\n",
       "      <td>Seattle SuperSonics</td>\n",
       "      <td>103</td>\n",
       "      <td>Denver Nuggets</td>\n",
       "      <td>120</td>\n",
       "      <td>19380.0</td>\n",
       "      <td>Home Win</td>\n",
       "      <td>-17</td>\n",
       "    </tr>\n",
       "    <tr>\n",
       "      <th>2</th>\n",
       "      <td>2007-10-31 20:00:00</td>\n",
       "      <td>7:30 pm</td>\n",
       "      <td>Chicago Bulls</td>\n",
       "      <td>103</td>\n",
       "      <td>New Jersey Nets</td>\n",
       "      <td>112</td>\n",
       "      <td>17342.0</td>\n",
       "      <td>Home Win</td>\n",
       "      <td>-9</td>\n",
       "    </tr>\n",
       "    <tr>\n",
       "      <th>3</th>\n",
       "      <td>2007-10-31 19:00:00</td>\n",
       "      <td>7:00 pm</td>\n",
       "      <td>Philadelphia 76ers</td>\n",
       "      <td>97</td>\n",
       "      <td>Toronto Raptors</td>\n",
       "      <td>106</td>\n",
       "      <td>19800.0</td>\n",
       "      <td>Home Win</td>\n",
       "      <td>-9</td>\n",
       "    </tr>\n",
       "    <tr>\n",
       "      <th>4</th>\n",
       "      <td>2007-11-02 20:00:00</td>\n",
       "      <td>8:00 pm</td>\n",
       "      <td>Washington Wizards</td>\n",
       "      <td>83</td>\n",
       "      <td>Boston Celtics</td>\n",
       "      <td>103</td>\n",
       "      <td>18624.0</td>\n",
       "      <td>Home Win</td>\n",
       "      <td>-20</td>\n",
       "    </tr>\n",
       "  </tbody>\n",
       "</table>\n",
       "</div>"
      ],
      "text/plain": [
       "                 Date Start (ET)      Visitor/Neutral  PTS  \\\n",
       "0 2007-10-30 20:00:00    7:30 pm      Houston Rockets   95   \n",
       "1 2007-10-31 20:00:00    8:30 pm  Seattle SuperSonics  103   \n",
       "2 2007-10-31 20:00:00    7:30 pm        Chicago Bulls  103   \n",
       "3 2007-10-31 19:00:00    7:00 pm   Philadelphia 76ers   97   \n",
       "4 2007-11-02 20:00:00    8:00 pm   Washington Wizards   83   \n",
       "\n",
       "         Home/Neutral  PTS.1  Attend.    Result  Difference  \n",
       "0  Los Angeles Lakers     93  18997.0  Away Win           2  \n",
       "1      Denver Nuggets    120  19380.0  Home Win         -17  \n",
       "2     New Jersey Nets    112  17342.0  Home Win          -9  \n",
       "3     Toronto Raptors    106  19800.0  Home Win          -9  \n",
       "4      Boston Celtics    103  18624.0  Home Win         -20  "
      ]
     },
     "execution_count": 26,
     "metadata": {},
     "output_type": "execute_result"
    }
   ],
   "source": [
    "nba.head()"
   ]
  },
  {
   "cell_type": "code",
   "execution_count": 27,
   "metadata": {
    "collapsed": true
   },
   "outputs": [],
   "source": [
    "nba = nba.set_index('Date')"
   ]
  },
  {
   "cell_type": "code",
   "execution_count": 28,
   "metadata": {},
   "outputs": [
    {
     "data": {
      "text/html": [
       "<div>\n",
       "<style>\n",
       "    .dataframe thead tr:only-child th {\n",
       "        text-align: right;\n",
       "    }\n",
       "\n",
       "    .dataframe thead th {\n",
       "        text-align: left;\n",
       "    }\n",
       "\n",
       "    .dataframe tbody tr th {\n",
       "        vertical-align: top;\n",
       "    }\n",
       "</style>\n",
       "<table border=\"1\" class=\"dataframe\">\n",
       "  <thead>\n",
       "    <tr style=\"text-align: right;\">\n",
       "      <th></th>\n",
       "      <th>Start (ET)</th>\n",
       "      <th>Visitor/Neutral</th>\n",
       "      <th>PTS</th>\n",
       "      <th>Home/Neutral</th>\n",
       "      <th>PTS.1</th>\n",
       "      <th>Attend.</th>\n",
       "      <th>Result</th>\n",
       "      <th>Difference</th>\n",
       "    </tr>\n",
       "    <tr>\n",
       "      <th>Date</th>\n",
       "      <th></th>\n",
       "      <th></th>\n",
       "      <th></th>\n",
       "      <th></th>\n",
       "      <th></th>\n",
       "      <th></th>\n",
       "      <th></th>\n",
       "      <th></th>\n",
       "    </tr>\n",
       "  </thead>\n",
       "  <tbody>\n",
       "    <tr>\n",
       "      <th>2007-10-30 20:00:00</th>\n",
       "      <td>7:30 pm</td>\n",
       "      <td>Houston Rockets</td>\n",
       "      <td>95</td>\n",
       "      <td>Los Angeles Lakers</td>\n",
       "      <td>93</td>\n",
       "      <td>18997.0</td>\n",
       "      <td>Away Win</td>\n",
       "      <td>2</td>\n",
       "    </tr>\n",
       "    <tr>\n",
       "      <th>2007-10-31 20:00:00</th>\n",
       "      <td>8:30 pm</td>\n",
       "      <td>Seattle SuperSonics</td>\n",
       "      <td>103</td>\n",
       "      <td>Denver Nuggets</td>\n",
       "      <td>120</td>\n",
       "      <td>19380.0</td>\n",
       "      <td>Home Win</td>\n",
       "      <td>-17</td>\n",
       "    </tr>\n",
       "    <tr>\n",
       "      <th>2007-10-31 20:00:00</th>\n",
       "      <td>7:30 pm</td>\n",
       "      <td>Chicago Bulls</td>\n",
       "      <td>103</td>\n",
       "      <td>New Jersey Nets</td>\n",
       "      <td>112</td>\n",
       "      <td>17342.0</td>\n",
       "      <td>Home Win</td>\n",
       "      <td>-9</td>\n",
       "    </tr>\n",
       "    <tr>\n",
       "      <th>2007-10-31 19:00:00</th>\n",
       "      <td>7:00 pm</td>\n",
       "      <td>Philadelphia 76ers</td>\n",
       "      <td>97</td>\n",
       "      <td>Toronto Raptors</td>\n",
       "      <td>106</td>\n",
       "      <td>19800.0</td>\n",
       "      <td>Home Win</td>\n",
       "      <td>-9</td>\n",
       "    </tr>\n",
       "    <tr>\n",
       "      <th>2007-11-02 20:00:00</th>\n",
       "      <td>8:00 pm</td>\n",
       "      <td>Washington Wizards</td>\n",
       "      <td>83</td>\n",
       "      <td>Boston Celtics</td>\n",
       "      <td>103</td>\n",
       "      <td>18624.0</td>\n",
       "      <td>Home Win</td>\n",
       "      <td>-20</td>\n",
       "    </tr>\n",
       "  </tbody>\n",
       "</table>\n",
       "</div>"
      ],
      "text/plain": [
       "                    Start (ET)      Visitor/Neutral  PTS        Home/Neutral  \\\n",
       "Date                                                                           \n",
       "2007-10-30 20:00:00    7:30 pm      Houston Rockets   95  Los Angeles Lakers   \n",
       "2007-10-31 20:00:00    8:30 pm  Seattle SuperSonics  103      Denver Nuggets   \n",
       "2007-10-31 20:00:00    7:30 pm        Chicago Bulls  103     New Jersey Nets   \n",
       "2007-10-31 19:00:00    7:00 pm   Philadelphia 76ers   97     Toronto Raptors   \n",
       "2007-11-02 20:00:00    8:00 pm   Washington Wizards   83      Boston Celtics   \n",
       "\n",
       "                     PTS.1  Attend.    Result  Difference  \n",
       "Date                                                       \n",
       "2007-10-30 20:00:00     93  18997.0  Away Win           2  \n",
       "2007-10-31 20:00:00    120  19380.0  Home Win         -17  \n",
       "2007-10-31 20:00:00    112  17342.0  Home Win          -9  \n",
       "2007-10-31 19:00:00    106  19800.0  Home Win          -9  \n",
       "2007-11-02 20:00:00    103  18624.0  Home Win         -20  "
      ]
     },
     "execution_count": 28,
     "metadata": {},
     "output_type": "execute_result"
    }
   ],
   "source": [
    "nba.head()"
   ]
  },
  {
   "cell_type": "code",
   "execution_count": 29,
   "metadata": {
    "collapsed": true
   },
   "outputs": [],
   "source": [
    "nba = nba.drop(nba.columns[[0, 2, 4, 5, 6, 7]], axis=1)"
   ]
  },
  {
   "cell_type": "code",
   "execution_count": 30,
   "metadata": {},
   "outputs": [
    {
     "data": {
      "text/html": [
       "<div>\n",
       "<style>\n",
       "    .dataframe thead tr:only-child th {\n",
       "        text-align: right;\n",
       "    }\n",
       "\n",
       "    .dataframe thead th {\n",
       "        text-align: left;\n",
       "    }\n",
       "\n",
       "    .dataframe tbody tr th {\n",
       "        vertical-align: top;\n",
       "    }\n",
       "</style>\n",
       "<table border=\"1\" class=\"dataframe\">\n",
       "  <thead>\n",
       "    <tr style=\"text-align: right;\">\n",
       "      <th></th>\n",
       "      <th>Visitor/Neutral</th>\n",
       "      <th>Home/Neutral</th>\n",
       "    </tr>\n",
       "    <tr>\n",
       "      <th>Date</th>\n",
       "      <th></th>\n",
       "      <th></th>\n",
       "    </tr>\n",
       "  </thead>\n",
       "  <tbody>\n",
       "    <tr>\n",
       "      <th>2007-10-30 20:00:00</th>\n",
       "      <td>Houston Rockets</td>\n",
       "      <td>Los Angeles Lakers</td>\n",
       "    </tr>\n",
       "    <tr>\n",
       "      <th>2007-10-31 20:00:00</th>\n",
       "      <td>Seattle SuperSonics</td>\n",
       "      <td>Denver Nuggets</td>\n",
       "    </tr>\n",
       "    <tr>\n",
       "      <th>2007-10-31 20:00:00</th>\n",
       "      <td>Chicago Bulls</td>\n",
       "      <td>New Jersey Nets</td>\n",
       "    </tr>\n",
       "    <tr>\n",
       "      <th>2007-10-31 19:00:00</th>\n",
       "      <td>Philadelphia 76ers</td>\n",
       "      <td>Toronto Raptors</td>\n",
       "    </tr>\n",
       "    <tr>\n",
       "      <th>2007-11-02 20:00:00</th>\n",
       "      <td>Washington Wizards</td>\n",
       "      <td>Boston Celtics</td>\n",
       "    </tr>\n",
       "  </tbody>\n",
       "</table>\n",
       "</div>"
      ],
      "text/plain": [
       "                         Visitor/Neutral        Home/Neutral\n",
       "Date                                                        \n",
       "2007-10-30 20:00:00      Houston Rockets  Los Angeles Lakers\n",
       "2007-10-31 20:00:00  Seattle SuperSonics      Denver Nuggets\n",
       "2007-10-31 20:00:00        Chicago Bulls     New Jersey Nets\n",
       "2007-10-31 19:00:00   Philadelphia 76ers     Toronto Raptors\n",
       "2007-11-02 20:00:00   Washington Wizards      Boston Celtics"
      ]
     },
     "execution_count": 30,
     "metadata": {},
     "output_type": "execute_result"
    }
   ],
   "source": [
    "nba.head()"
   ]
  },
  {
   "cell_type": "code",
   "execution_count": 32,
   "metadata": {
    "collapsed": true
   },
   "outputs": [],
   "source": [
    "nba.to_csv(\"../../data/prep/700_NBA.csv\")"
   ]
  },
  {
   "cell_type": "code",
   "execution_count": null,
   "metadata": {
    "collapsed": true
   },
   "outputs": [],
   "source": []
  }
 ],
 "metadata": {
  "kernelspec": {
   "display_name": "Python 3",
   "language": "python",
   "name": "python3"
  },
  "language_info": {
   "codemirror_mode": {
    "name": "ipython",
    "version": 3
   },
   "file_extension": ".py",
   "mimetype": "text/x-python",
   "name": "python",
   "nbconvert_exporter": "python",
   "pygments_lexer": "ipython3",
   "version": "3.6.3"
  }
 },
 "nbformat": 4,
 "nbformat_minor": 2
}
