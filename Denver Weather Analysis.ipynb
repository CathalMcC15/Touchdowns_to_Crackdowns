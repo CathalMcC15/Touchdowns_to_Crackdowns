{
 "cells": [
  {
   "cell_type": "markdown",
   "metadata": {},
   "source": [
    "# Denver Weather Analysis\n",
    "## The influence of Weather on the crime rate of Denver "
   ]
  },
  {
   "cell_type": "markdown",
   "metadata": {},
   "source": [
    "### Contents\n",
    "- Data Preparation\n",
    "- Surronding Game Weather\n",
    "- After Game Weather\n",
    "- Good Weather\n",
    "- Bad Weather\n",
    "- Comparisons"
   ]
  },
  {
   "cell_type": "code",
   "execution_count": 85,
   "metadata": {
    "collapsed": true
   },
   "outputs": [],
   "source": [
    "import os.path\n",
    "import datetime\n",
    "import pylab\n",
    "import pandas as pd\n",
    "import numpy as np\n",
    "import matplotlib\n",
    "import matplotlib.pyplot as plt\n",
    "%matplotlib inline"
   ]
  },
  {
   "cell_type": "code",
   "execution_count": 86,
   "metadata": {
    "collapsed": true
   },
   "outputs": [],
   "source": [
    "if not os.path.exists('../../data/prep/denWea_prep.csv' ):\n",
    "    print(\"Missing dataset file\")"
   ]
  },
  {
   "cell_type": "code",
   "execution_count": 87,
   "metadata": {
    "collapsed": true
   },
   "outputs": [],
   "source": [
    "ch = pd.read_csv( '../../data/prep/denWea_prep.csv', index_col=\"Date\", parse_dates=True)\n",
    "dch = pd.read_csv( '../../data/prep/denWea_dom_prep.csv', index_col=\"Date\", parse_dates=True)"
   ]
  },
  {
   "cell_type": "code",
   "execution_count": 88,
   "metadata": {},
   "outputs": [
    {
     "data": {
      "text/html": [
       "<div>\n",
       "<style>\n",
       "    .dataframe thead tr:only-child th {\n",
       "        text-align: right;\n",
       "    }\n",
       "\n",
       "    .dataframe thead th {\n",
       "        text-align: left;\n",
       "    }\n",
       "\n",
       "    .dataframe tbody tr th {\n",
       "        vertical-align: top;\n",
       "    }\n",
       "</style>\n",
       "<table border=\"1\" class=\"dataframe\">\n",
       "  <thead>\n",
       "    <tr style=\"text-align: right;\">\n",
       "      <th></th>\n",
       "      <th>Wind Speed</th>\n",
       "      <th>Description_x</th>\n",
       "      <th>Celcius</th>\n",
       "      <th>DescRate</th>\n",
       "      <th>TempRate</th>\n",
       "      <th>WindRate</th>\n",
       "      <th>Overall</th>\n",
       "      <th>Weather</th>\n",
       "      <th>Game Day</th>\n",
       "      <th>Description_y</th>\n",
       "    </tr>\n",
       "    <tr>\n",
       "      <th>Date</th>\n",
       "      <th></th>\n",
       "      <th></th>\n",
       "      <th></th>\n",
       "      <th></th>\n",
       "      <th></th>\n",
       "      <th></th>\n",
       "      <th></th>\n",
       "      <th></th>\n",
       "      <th></th>\n",
       "      <th></th>\n",
       "    </tr>\n",
       "  </thead>\n",
       "  <tbody>\n",
       "    <tr>\n",
       "      <th>2013-01-03 14:00:00</th>\n",
       "      <td>3.0</td>\n",
       "      <td>few clouds</td>\n",
       "      <td>-11.07</td>\n",
       "      <td>3</td>\n",
       "      <td>0</td>\n",
       "      <td>3</td>\n",
       "      <td>6</td>\n",
       "      <td>Moderate</td>\n",
       "      <td>NBA</td>\n",
       "      <td>assault</td>\n",
       "    </tr>\n",
       "    <tr>\n",
       "      <th>2013-01-03 21:00:00</th>\n",
       "      <td>0.0</td>\n",
       "      <td>scattered clouds</td>\n",
       "      <td>-1.05</td>\n",
       "      <td>3</td>\n",
       "      <td>0</td>\n",
       "      <td>3</td>\n",
       "      <td>6</td>\n",
       "      <td>Moderate</td>\n",
       "      <td>NBA</td>\n",
       "      <td>assault</td>\n",
       "    </tr>\n",
       "    <tr>\n",
       "      <th>2013-01-03 22:00:00</th>\n",
       "      <td>2.0</td>\n",
       "      <td>scattered clouds</td>\n",
       "      <td>-0.69</td>\n",
       "      <td>3</td>\n",
       "      <td>0</td>\n",
       "      <td>3</td>\n",
       "      <td>6</td>\n",
       "      <td>Moderate</td>\n",
       "      <td>NBA</td>\n",
       "      <td>domestic</td>\n",
       "    </tr>\n",
       "    <tr>\n",
       "      <th>2013-01-04 01:00:00</th>\n",
       "      <td>2.0</td>\n",
       "      <td>few clouds</td>\n",
       "      <td>-5.92</td>\n",
       "      <td>3</td>\n",
       "      <td>0</td>\n",
       "      <td>3</td>\n",
       "      <td>6</td>\n",
       "      <td>Moderate</td>\n",
       "      <td>NBA</td>\n",
       "      <td>domestic</td>\n",
       "    </tr>\n",
       "    <tr>\n",
       "      <th>2013-01-06 16:00:00</th>\n",
       "      <td>0.0</td>\n",
       "      <td>sky is clear</td>\n",
       "      <td>-1.99</td>\n",
       "      <td>3</td>\n",
       "      <td>0</td>\n",
       "      <td>3</td>\n",
       "      <td>6</td>\n",
       "      <td>Moderate</td>\n",
       "      <td>NBA</td>\n",
       "      <td>domestic</td>\n",
       "    </tr>\n",
       "  </tbody>\n",
       "</table>\n",
       "</div>"
      ],
      "text/plain": [
       "                     Wind Speed     Description_x  Celcius  DescRate  \\\n",
       "Date                                                                   \n",
       "2013-01-03 14:00:00         3.0        few clouds   -11.07         3   \n",
       "2013-01-03 21:00:00         0.0  scattered clouds    -1.05         3   \n",
       "2013-01-03 22:00:00         2.0  scattered clouds    -0.69         3   \n",
       "2013-01-04 01:00:00         2.0        few clouds    -5.92         3   \n",
       "2013-01-06 16:00:00         0.0      sky is clear    -1.99         3   \n",
       "\n",
       "                     TempRate  WindRate  Overall   Weather Game Day  \\\n",
       "Date                                                                  \n",
       "2013-01-03 14:00:00         0         3        6  Moderate      NBA   \n",
       "2013-01-03 21:00:00         0         3        6  Moderate      NBA   \n",
       "2013-01-03 22:00:00         0         3        6  Moderate      NBA   \n",
       "2013-01-04 01:00:00         0         3        6  Moderate      NBA   \n",
       "2013-01-06 16:00:00         0         3        6  Moderate      NBA   \n",
       "\n",
       "                    Description_y  \n",
       "Date                               \n",
       "2013-01-03 14:00:00       assault  \n",
       "2013-01-03 21:00:00       assault  \n",
       "2013-01-03 22:00:00      domestic  \n",
       "2013-01-04 01:00:00      domestic  \n",
       "2013-01-06 16:00:00      domestic  "
      ]
     },
     "execution_count": 88,
     "metadata": {},
     "output_type": "execute_result"
    }
   ],
   "source": [
    "ch.head()"
   ]
  },
  {
   "cell_type": "code",
   "execution_count": 89,
   "metadata": {
    "collapsed": true
   },
   "outputs": [],
   "source": [
    "ch['Primary Type'] = ch['Description_y']"
   ]
  },
  {
   "cell_type": "code",
   "execution_count": 90,
   "metadata": {},
   "outputs": [
    {
     "data": {
      "text/html": [
       "<div>\n",
       "<style>\n",
       "    .dataframe thead tr:only-child th {\n",
       "        text-align: right;\n",
       "    }\n",
       "\n",
       "    .dataframe thead th {\n",
       "        text-align: left;\n",
       "    }\n",
       "\n",
       "    .dataframe tbody tr th {\n",
       "        vertical-align: top;\n",
       "    }\n",
       "</style>\n",
       "<table border=\"1\" class=\"dataframe\">\n",
       "  <thead>\n",
       "    <tr style=\"text-align: right;\">\n",
       "      <th></th>\n",
       "      <th>Wind Speed</th>\n",
       "      <th>Description_x</th>\n",
       "      <th>Celcius</th>\n",
       "      <th>DescRate</th>\n",
       "      <th>TempRate</th>\n",
       "      <th>WindRate</th>\n",
       "      <th>Overall</th>\n",
       "      <th>Weather</th>\n",
       "      <th>Game Day</th>\n",
       "      <th>Description_y</th>\n",
       "      <th>Primary Type</th>\n",
       "    </tr>\n",
       "    <tr>\n",
       "      <th>Date</th>\n",
       "      <th></th>\n",
       "      <th></th>\n",
       "      <th></th>\n",
       "      <th></th>\n",
       "      <th></th>\n",
       "      <th></th>\n",
       "      <th></th>\n",
       "      <th></th>\n",
       "      <th></th>\n",
       "      <th></th>\n",
       "      <th></th>\n",
       "    </tr>\n",
       "  </thead>\n",
       "  <tbody>\n",
       "    <tr>\n",
       "      <th>2013-01-03 14:00:00</th>\n",
       "      <td>3.0</td>\n",
       "      <td>few clouds</td>\n",
       "      <td>-11.07</td>\n",
       "      <td>3</td>\n",
       "      <td>0</td>\n",
       "      <td>3</td>\n",
       "      <td>6</td>\n",
       "      <td>Moderate</td>\n",
       "      <td>NBA</td>\n",
       "      <td>assault</td>\n",
       "      <td>assault</td>\n",
       "    </tr>\n",
       "    <tr>\n",
       "      <th>2013-01-03 21:00:00</th>\n",
       "      <td>0.0</td>\n",
       "      <td>scattered clouds</td>\n",
       "      <td>-1.05</td>\n",
       "      <td>3</td>\n",
       "      <td>0</td>\n",
       "      <td>3</td>\n",
       "      <td>6</td>\n",
       "      <td>Moderate</td>\n",
       "      <td>NBA</td>\n",
       "      <td>assault</td>\n",
       "      <td>assault</td>\n",
       "    </tr>\n",
       "    <tr>\n",
       "      <th>2013-01-03 22:00:00</th>\n",
       "      <td>2.0</td>\n",
       "      <td>scattered clouds</td>\n",
       "      <td>-0.69</td>\n",
       "      <td>3</td>\n",
       "      <td>0</td>\n",
       "      <td>3</td>\n",
       "      <td>6</td>\n",
       "      <td>Moderate</td>\n",
       "      <td>NBA</td>\n",
       "      <td>domestic</td>\n",
       "      <td>domestic</td>\n",
       "    </tr>\n",
       "    <tr>\n",
       "      <th>2013-01-04 01:00:00</th>\n",
       "      <td>2.0</td>\n",
       "      <td>few clouds</td>\n",
       "      <td>-5.92</td>\n",
       "      <td>3</td>\n",
       "      <td>0</td>\n",
       "      <td>3</td>\n",
       "      <td>6</td>\n",
       "      <td>Moderate</td>\n",
       "      <td>NBA</td>\n",
       "      <td>domestic</td>\n",
       "      <td>domestic</td>\n",
       "    </tr>\n",
       "    <tr>\n",
       "      <th>2013-01-06 16:00:00</th>\n",
       "      <td>0.0</td>\n",
       "      <td>sky is clear</td>\n",
       "      <td>-1.99</td>\n",
       "      <td>3</td>\n",
       "      <td>0</td>\n",
       "      <td>3</td>\n",
       "      <td>6</td>\n",
       "      <td>Moderate</td>\n",
       "      <td>NBA</td>\n",
       "      <td>domestic</td>\n",
       "      <td>domestic</td>\n",
       "    </tr>\n",
       "  </tbody>\n",
       "</table>\n",
       "</div>"
      ],
      "text/plain": [
       "                     Wind Speed     Description_x  Celcius  DescRate  \\\n",
       "Date                                                                   \n",
       "2013-01-03 14:00:00         3.0        few clouds   -11.07         3   \n",
       "2013-01-03 21:00:00         0.0  scattered clouds    -1.05         3   \n",
       "2013-01-03 22:00:00         2.0  scattered clouds    -0.69         3   \n",
       "2013-01-04 01:00:00         2.0        few clouds    -5.92         3   \n",
       "2013-01-06 16:00:00         0.0      sky is clear    -1.99         3   \n",
       "\n",
       "                     TempRate  WindRate  Overall   Weather Game Day  \\\n",
       "Date                                                                  \n",
       "2013-01-03 14:00:00         0         3        6  Moderate      NBA   \n",
       "2013-01-03 21:00:00         0         3        6  Moderate      NBA   \n",
       "2013-01-03 22:00:00         0         3        6  Moderate      NBA   \n",
       "2013-01-04 01:00:00         0         3        6  Moderate      NBA   \n",
       "2013-01-06 16:00:00         0         3        6  Moderate      NBA   \n",
       "\n",
       "                    Description_y Primary Type  \n",
       "Date                                            \n",
       "2013-01-03 14:00:00       assault      assault  \n",
       "2013-01-03 21:00:00       assault      assault  \n",
       "2013-01-03 22:00:00      domestic     domestic  \n",
       "2013-01-04 01:00:00      domestic     domestic  \n",
       "2013-01-06 16:00:00      domestic     domestic  "
      ]
     },
     "execution_count": 90,
     "metadata": {},
     "output_type": "execute_result"
    }
   ],
   "source": [
    "ch.head()"
   ]
  },
  {
   "cell_type": "code",
   "execution_count": 91,
   "metadata": {
    "collapsed": true
   },
   "outputs": [],
   "source": [
    "ch = ch.drop(ch.columns[[9]], axis = 1)"
   ]
  },
  {
   "cell_type": "code",
   "execution_count": 92,
   "metadata": {
    "collapsed": true
   },
   "outputs": [],
   "source": [
    "ch = ch.rename(columns={'Description_x': 'Description'})"
   ]
  },
  {
   "cell_type": "code",
   "execution_count": 93,
   "metadata": {},
   "outputs": [
    {
     "data": {
      "text/html": [
       "<div>\n",
       "<style>\n",
       "    .dataframe thead tr:only-child th {\n",
       "        text-align: right;\n",
       "    }\n",
       "\n",
       "    .dataframe thead th {\n",
       "        text-align: left;\n",
       "    }\n",
       "\n",
       "    .dataframe tbody tr th {\n",
       "        vertical-align: top;\n",
       "    }\n",
       "</style>\n",
       "<table border=\"1\" class=\"dataframe\">\n",
       "  <thead>\n",
       "    <tr style=\"text-align: right;\">\n",
       "      <th></th>\n",
       "      <th>Wind Speed</th>\n",
       "      <th>Description</th>\n",
       "      <th>Celcius</th>\n",
       "      <th>DescRate</th>\n",
       "      <th>TempRate</th>\n",
       "      <th>WindRate</th>\n",
       "      <th>Overall</th>\n",
       "      <th>Weather</th>\n",
       "      <th>Game Day</th>\n",
       "      <th>Primary Type</th>\n",
       "    </tr>\n",
       "    <tr>\n",
       "      <th>Date</th>\n",
       "      <th></th>\n",
       "      <th></th>\n",
       "      <th></th>\n",
       "      <th></th>\n",
       "      <th></th>\n",
       "      <th></th>\n",
       "      <th></th>\n",
       "      <th></th>\n",
       "      <th></th>\n",
       "      <th></th>\n",
       "    </tr>\n",
       "  </thead>\n",
       "  <tbody>\n",
       "    <tr>\n",
       "      <th>2013-01-03 14:00:00</th>\n",
       "      <td>3.0</td>\n",
       "      <td>few clouds</td>\n",
       "      <td>-11.07</td>\n",
       "      <td>3</td>\n",
       "      <td>0</td>\n",
       "      <td>3</td>\n",
       "      <td>6</td>\n",
       "      <td>Moderate</td>\n",
       "      <td>NBA</td>\n",
       "      <td>assault</td>\n",
       "    </tr>\n",
       "    <tr>\n",
       "      <th>2013-01-03 21:00:00</th>\n",
       "      <td>0.0</td>\n",
       "      <td>scattered clouds</td>\n",
       "      <td>-1.05</td>\n",
       "      <td>3</td>\n",
       "      <td>0</td>\n",
       "      <td>3</td>\n",
       "      <td>6</td>\n",
       "      <td>Moderate</td>\n",
       "      <td>NBA</td>\n",
       "      <td>assault</td>\n",
       "    </tr>\n",
       "    <tr>\n",
       "      <th>2013-01-03 22:00:00</th>\n",
       "      <td>2.0</td>\n",
       "      <td>scattered clouds</td>\n",
       "      <td>-0.69</td>\n",
       "      <td>3</td>\n",
       "      <td>0</td>\n",
       "      <td>3</td>\n",
       "      <td>6</td>\n",
       "      <td>Moderate</td>\n",
       "      <td>NBA</td>\n",
       "      <td>domestic</td>\n",
       "    </tr>\n",
       "    <tr>\n",
       "      <th>2013-01-04 01:00:00</th>\n",
       "      <td>2.0</td>\n",
       "      <td>few clouds</td>\n",
       "      <td>-5.92</td>\n",
       "      <td>3</td>\n",
       "      <td>0</td>\n",
       "      <td>3</td>\n",
       "      <td>6</td>\n",
       "      <td>Moderate</td>\n",
       "      <td>NBA</td>\n",
       "      <td>domestic</td>\n",
       "    </tr>\n",
       "    <tr>\n",
       "      <th>2013-01-06 16:00:00</th>\n",
       "      <td>0.0</td>\n",
       "      <td>sky is clear</td>\n",
       "      <td>-1.99</td>\n",
       "      <td>3</td>\n",
       "      <td>0</td>\n",
       "      <td>3</td>\n",
       "      <td>6</td>\n",
       "      <td>Moderate</td>\n",
       "      <td>NBA</td>\n",
       "      <td>domestic</td>\n",
       "    </tr>\n",
       "  </tbody>\n",
       "</table>\n",
       "</div>"
      ],
      "text/plain": [
       "                     Wind Speed       Description  Celcius  DescRate  \\\n",
       "Date                                                                   \n",
       "2013-01-03 14:00:00         3.0        few clouds   -11.07         3   \n",
       "2013-01-03 21:00:00         0.0  scattered clouds    -1.05         3   \n",
       "2013-01-03 22:00:00         2.0  scattered clouds    -0.69         3   \n",
       "2013-01-04 01:00:00         2.0        few clouds    -5.92         3   \n",
       "2013-01-06 16:00:00         0.0      sky is clear    -1.99         3   \n",
       "\n",
       "                     TempRate  WindRate  Overall   Weather Game Day  \\\n",
       "Date                                                                  \n",
       "2013-01-03 14:00:00         0         3        6  Moderate      NBA   \n",
       "2013-01-03 21:00:00         0         3        6  Moderate      NBA   \n",
       "2013-01-03 22:00:00         0         3        6  Moderate      NBA   \n",
       "2013-01-04 01:00:00         0         3        6  Moderate      NBA   \n",
       "2013-01-06 16:00:00         0         3        6  Moderate      NBA   \n",
       "\n",
       "                    Primary Type  \n",
       "Date                              \n",
       "2013-01-03 14:00:00      assault  \n",
       "2013-01-03 21:00:00      assault  \n",
       "2013-01-03 22:00:00     domestic  \n",
       "2013-01-04 01:00:00     domestic  \n",
       "2013-01-06 16:00:00     domestic  "
      ]
     },
     "execution_count": 93,
     "metadata": {},
     "output_type": "execute_result"
    }
   ],
   "source": [
    "ch.head()"
   ]
  },
  {
   "cell_type": "code",
   "execution_count": 94,
   "metadata": {},
   "outputs": [
    {
     "data": {
      "text/html": [
       "<div>\n",
       "<style>\n",
       "    .dataframe thead tr:only-child th {\n",
       "        text-align: right;\n",
       "    }\n",
       "\n",
       "    .dataframe thead th {\n",
       "        text-align: left;\n",
       "    }\n",
       "\n",
       "    .dataframe tbody tr th {\n",
       "        vertical-align: top;\n",
       "    }\n",
       "</style>\n",
       "<table border=\"1\" class=\"dataframe\">\n",
       "  <thead>\n",
       "    <tr style=\"text-align: right;\">\n",
       "      <th></th>\n",
       "      <th>Overall</th>\n",
       "      <th>Weather</th>\n",
       "      <th>Domestic</th>\n",
       "      <th>Description_y</th>\n",
       "    </tr>\n",
       "    <tr>\n",
       "      <th>Date</th>\n",
       "      <th></th>\n",
       "      <th></th>\n",
       "      <th></th>\n",
       "      <th></th>\n",
       "    </tr>\n",
       "  </thead>\n",
       "  <tbody>\n",
       "    <tr>\n",
       "      <th>2013-01-02 01:00:00</th>\n",
       "      <td>5</td>\n",
       "      <td>Bad</td>\n",
       "      <td>NBA</td>\n",
       "      <td>assault</td>\n",
       "    </tr>\n",
       "    <tr>\n",
       "      <th>2013-01-03 21:00:00</th>\n",
       "      <td>6</td>\n",
       "      <td>Moderate</td>\n",
       "      <td>NBA</td>\n",
       "      <td>assault</td>\n",
       "    </tr>\n",
       "    <tr>\n",
       "      <th>2013-01-03 22:00:00</th>\n",
       "      <td>6</td>\n",
       "      <td>Moderate</td>\n",
       "      <td>NBA</td>\n",
       "      <td>domestic</td>\n",
       "    </tr>\n",
       "    <tr>\n",
       "      <th>2013-01-04 01:00:00</th>\n",
       "      <td>6</td>\n",
       "      <td>Moderate</td>\n",
       "      <td>NBA</td>\n",
       "      <td>domestic</td>\n",
       "    </tr>\n",
       "    <tr>\n",
       "      <th>2013-01-04 03:00:00</th>\n",
       "      <td>6</td>\n",
       "      <td>Moderate</td>\n",
       "      <td>NBA</td>\n",
       "      <td>assault</td>\n",
       "    </tr>\n",
       "  </tbody>\n",
       "</table>\n",
       "</div>"
      ],
      "text/plain": [
       "                     Overall   Weather Domestic Description_y\n",
       "Date                                                         \n",
       "2013-01-02 01:00:00        5       Bad      NBA       assault\n",
       "2013-01-03 21:00:00        6  Moderate      NBA       assault\n",
       "2013-01-03 22:00:00        6  Moderate      NBA      domestic\n",
       "2013-01-04 01:00:00        6  Moderate      NBA      domestic\n",
       "2013-01-04 03:00:00        6  Moderate      NBA       assault"
      ]
     },
     "execution_count": 94,
     "metadata": {},
     "output_type": "execute_result"
    }
   ],
   "source": [
    "dch.head()"
   ]
  },
  {
   "cell_type": "code",
   "execution_count": 95,
   "metadata": {
    "collapsed": true
   },
   "outputs": [],
   "source": [
    "dch['Primary Type'] = dch['Description_y']"
   ]
  },
  {
   "cell_type": "code",
   "execution_count": 96,
   "metadata": {},
   "outputs": [
    {
     "data": {
      "text/html": [
       "<div>\n",
       "<style>\n",
       "    .dataframe thead tr:only-child th {\n",
       "        text-align: right;\n",
       "    }\n",
       "\n",
       "    .dataframe thead th {\n",
       "        text-align: left;\n",
       "    }\n",
       "\n",
       "    .dataframe tbody tr th {\n",
       "        vertical-align: top;\n",
       "    }\n",
       "</style>\n",
       "<table border=\"1\" class=\"dataframe\">\n",
       "  <thead>\n",
       "    <tr style=\"text-align: right;\">\n",
       "      <th></th>\n",
       "      <th>Overall</th>\n",
       "      <th>Weather</th>\n",
       "      <th>Domestic</th>\n",
       "      <th>Description_y</th>\n",
       "      <th>Primary Type</th>\n",
       "    </tr>\n",
       "    <tr>\n",
       "      <th>Date</th>\n",
       "      <th></th>\n",
       "      <th></th>\n",
       "      <th></th>\n",
       "      <th></th>\n",
       "      <th></th>\n",
       "    </tr>\n",
       "  </thead>\n",
       "  <tbody>\n",
       "    <tr>\n",
       "      <th>2013-01-02 01:00:00</th>\n",
       "      <td>5</td>\n",
       "      <td>Bad</td>\n",
       "      <td>NBA</td>\n",
       "      <td>assault</td>\n",
       "      <td>assault</td>\n",
       "    </tr>\n",
       "    <tr>\n",
       "      <th>2013-01-03 21:00:00</th>\n",
       "      <td>6</td>\n",
       "      <td>Moderate</td>\n",
       "      <td>NBA</td>\n",
       "      <td>assault</td>\n",
       "      <td>assault</td>\n",
       "    </tr>\n",
       "    <tr>\n",
       "      <th>2013-01-03 22:00:00</th>\n",
       "      <td>6</td>\n",
       "      <td>Moderate</td>\n",
       "      <td>NBA</td>\n",
       "      <td>domestic</td>\n",
       "      <td>domestic</td>\n",
       "    </tr>\n",
       "    <tr>\n",
       "      <th>2013-01-04 01:00:00</th>\n",
       "      <td>6</td>\n",
       "      <td>Moderate</td>\n",
       "      <td>NBA</td>\n",
       "      <td>domestic</td>\n",
       "      <td>domestic</td>\n",
       "    </tr>\n",
       "    <tr>\n",
       "      <th>2013-01-04 03:00:00</th>\n",
       "      <td>6</td>\n",
       "      <td>Moderate</td>\n",
       "      <td>NBA</td>\n",
       "      <td>assault</td>\n",
       "      <td>assault</td>\n",
       "    </tr>\n",
       "  </tbody>\n",
       "</table>\n",
       "</div>"
      ],
      "text/plain": [
       "                     Overall   Weather Domestic Description_y Primary Type\n",
       "Date                                                                      \n",
       "2013-01-02 01:00:00        5       Bad      NBA       assault      assault\n",
       "2013-01-03 21:00:00        6  Moderate      NBA       assault      assault\n",
       "2013-01-03 22:00:00        6  Moderate      NBA      domestic     domestic\n",
       "2013-01-04 01:00:00        6  Moderate      NBA      domestic     domestic\n",
       "2013-01-04 03:00:00        6  Moderate      NBA       assault      assault"
      ]
     },
     "execution_count": 96,
     "metadata": {},
     "output_type": "execute_result"
    }
   ],
   "source": [
    "dch.head()"
   ]
  },
  {
   "cell_type": "code",
   "execution_count": 97,
   "metadata": {
    "collapsed": true
   },
   "outputs": [],
   "source": [
    "dch = dch.drop(dch.columns[[3]], axis = 1)"
   ]
  },
  {
   "cell_type": "code",
   "execution_count": 98,
   "metadata": {},
   "outputs": [
    {
     "data": {
      "text/html": [
       "<div>\n",
       "<style>\n",
       "    .dataframe thead tr:only-child th {\n",
       "        text-align: right;\n",
       "    }\n",
       "\n",
       "    .dataframe thead th {\n",
       "        text-align: left;\n",
       "    }\n",
       "\n",
       "    .dataframe tbody tr th {\n",
       "        vertical-align: top;\n",
       "    }\n",
       "</style>\n",
       "<table border=\"1\" class=\"dataframe\">\n",
       "  <thead>\n",
       "    <tr style=\"text-align: right;\">\n",
       "      <th></th>\n",
       "      <th>Overall</th>\n",
       "      <th>Weather</th>\n",
       "      <th>Domestic</th>\n",
       "      <th>Primary Type</th>\n",
       "    </tr>\n",
       "    <tr>\n",
       "      <th>Date</th>\n",
       "      <th></th>\n",
       "      <th></th>\n",
       "      <th></th>\n",
       "      <th></th>\n",
       "    </tr>\n",
       "  </thead>\n",
       "  <tbody>\n",
       "    <tr>\n",
       "      <th>2013-01-02 01:00:00</th>\n",
       "      <td>5</td>\n",
       "      <td>Bad</td>\n",
       "      <td>NBA</td>\n",
       "      <td>assault</td>\n",
       "    </tr>\n",
       "    <tr>\n",
       "      <th>2013-01-03 21:00:00</th>\n",
       "      <td>6</td>\n",
       "      <td>Moderate</td>\n",
       "      <td>NBA</td>\n",
       "      <td>assault</td>\n",
       "    </tr>\n",
       "    <tr>\n",
       "      <th>2013-01-03 22:00:00</th>\n",
       "      <td>6</td>\n",
       "      <td>Moderate</td>\n",
       "      <td>NBA</td>\n",
       "      <td>domestic</td>\n",
       "    </tr>\n",
       "    <tr>\n",
       "      <th>2013-01-04 01:00:00</th>\n",
       "      <td>6</td>\n",
       "      <td>Moderate</td>\n",
       "      <td>NBA</td>\n",
       "      <td>domestic</td>\n",
       "    </tr>\n",
       "    <tr>\n",
       "      <th>2013-01-04 03:00:00</th>\n",
       "      <td>6</td>\n",
       "      <td>Moderate</td>\n",
       "      <td>NBA</td>\n",
       "      <td>assault</td>\n",
       "    </tr>\n",
       "  </tbody>\n",
       "</table>\n",
       "</div>"
      ],
      "text/plain": [
       "                     Overall   Weather Domestic Primary Type\n",
       "Date                                                        \n",
       "2013-01-02 01:00:00        5       Bad      NBA      assault\n",
       "2013-01-03 21:00:00        6  Moderate      NBA      assault\n",
       "2013-01-03 22:00:00        6  Moderate      NBA     domestic\n",
       "2013-01-04 01:00:00        6  Moderate      NBA     domestic\n",
       "2013-01-04 03:00:00        6  Moderate      NBA      assault"
      ]
     },
     "execution_count": 98,
     "metadata": {},
     "output_type": "execute_result"
    }
   ],
   "source": [
    "dch.head()"
   ]
  },
  {
   "cell_type": "markdown",
   "metadata": {},
   "source": [
    "## 2 hours before and 5 hours after"
   ]
  },
  {
   "cell_type": "code",
   "execution_count": 99,
   "metadata": {},
   "outputs": [
    {
     "data": {
      "text/plain": [
       "Primary Type\n",
       "vandalism    1926\n",
       "assault      1262\n",
       "domestic      819\n",
       "Name: Primary Type, dtype: int64"
      ]
     },
     "execution_count": 99,
     "metadata": {},
     "output_type": "execute_result"
    }
   ],
   "source": [
    "ch1 = ch.groupby('Primary Type')[('Primary Type')].count()\n",
    "ch1.sort_values(ascending=False)"
   ]
  },
  {
   "cell_type": "code",
   "execution_count": 100,
   "metadata": {},
   "outputs": [
    {
     "data": {
      "text/plain": [
       "Primary Type\n",
       "assault      31.494884\n",
       "domestic     20.439231\n",
       "vandalism    48.065885\n",
       "Name: Primary Type, dtype: float64"
      ]
     },
     "execution_count": 100,
     "metadata": {},
     "output_type": "execute_result"
    }
   ],
   "source": [
    "ch.groupby('Primary Type')[('Primary Type')].size() * 100 / len(ch)"
   ]
  },
  {
   "cell_type": "code",
   "execution_count": 101,
   "metadata": {
    "collapsed": true
   },
   "outputs": [],
   "source": [
    "ass1 = ch.groupby('Primary Type')[('Primary Type')].size() * 100 / len(ch)"
   ]
  },
  {
   "cell_type": "code",
   "execution_count": 102,
   "metadata": {},
   "outputs": [
    {
     "data": {
      "text/plain": [
       "Text(0.5,1,'Total crime percentage around Games')"
      ]
     },
     "execution_count": 102,
     "metadata": {},
     "output_type": "execute_result"
    },
    {
     "data": {
      "image/png": "[encoded data removed]",
      "text/plain": [
       "<matplotlib.figure.Figure at 0x21d16291dd8>"
      ]
     },
     "metadata": {},
     "output_type": "display_data"
    }
   ],
   "source": [
    "ass1.plot(kind='pie', autopct='%1.1f%%', \n",
    " startangle=90, shadow=False, legend = False, fontsize=20, figsize = (10, 10))\n",
    "plt.title('Total crime percentage around Games')"
   ]
  },
  {
   "cell_type": "markdown",
   "metadata": {},
   "source": [
    " "
   ]
  },
  {
   "cell_type": "markdown",
   "metadata": {},
   "source": [
    "# 7 hours after"
   ]
  },
  {
   "cell_type": "code",
   "execution_count": 103,
   "metadata": {},
   "outputs": [
    {
     "data": {
      "text/plain": [
       "Primary Type\n",
       "vandalism    1656\n",
       "assault      1162\n",
       "domestic      755\n",
       "Name: Primary Type, dtype: int64"
      ]
     },
     "execution_count": 103,
     "metadata": {},
     "output_type": "execute_result"
    }
   ],
   "source": [
    "dch1 = dch.groupby('Primary Type')[('Primary Type')].count()\n",
    "dch1.sort_values(ascending=False)"
   ]
  },
  {
   "cell_type": "code",
   "execution_count": 104,
   "metadata": {},
   "outputs": [
    {
     "data": {
      "text/plain": [
       "Primary Type\n",
       "assault      32.521690\n",
       "domestic     21.130702\n",
       "vandalism    46.347607\n",
       "Name: Primary Type, dtype: float64"
      ]
     },
     "execution_count": 104,
     "metadata": {},
     "output_type": "execute_result"
    }
   ],
   "source": [
    "dch.groupby('Primary Type')[('Primary Type')].size() * 100 / len(dch)"
   ]
  },
  {
   "cell_type": "code",
   "execution_count": 105,
   "metadata": {
    "collapsed": true
   },
   "outputs": [],
   "source": [
    "dome = dch.groupby('Primary Type')[('Primary Type')].size() * 100 / len(dch)"
   ]
  },
  {
   "cell_type": "code",
   "execution_count": 106,
   "metadata": {},
   "outputs": [
    {
     "data": {
      "text/plain": [
       "Text(0.5,1,'Total crime percentage in 7 hours after game')"
      ]
     },
     "execution_count": 106,
     "metadata": {},
     "output_type": "execute_result"
    },
    {
     "data": {
      "image/png": "[encoded data removed]",
      "text/plain": [
       "<matplotlib.figure.Figure at 0x21d16282be0>"
      ]
     },
     "metadata": {},
     "output_type": "display_data"
    }
   ],
   "source": [
    "dome.plot(kind='pie', autopct='%1.1f%%', \n",
    " startangle=90, shadow=False, legend = False, fontsize=20, figsize = (10, 10))\n",
    "plt.title('Total crime percentage in 7 hours after game')"
   ]
  },
  {
   "cell_type": "markdown",
   "metadata": {},
   "source": [
    " "
   ]
  },
  {
   "cell_type": "markdown",
   "metadata": {},
   "source": [
    "# Good"
   ]
  },
  {
   "cell_type": "code",
   "execution_count": 107,
   "metadata": {
    "collapsed": true
   },
   "outputs": [],
   "source": [
    "good = ch[ch[\"Weather\"] == \"Good\"]"
   ]
  },
  {
   "cell_type": "code",
   "execution_count": 108,
   "metadata": {},
   "outputs": [
    {
     "data": {
      "text/plain": [
       "Primary Type\n",
       "vandalism    510\n",
       "assault      336\n",
       "domestic     200\n",
       "Name: Primary Type, dtype: int64"
      ]
     },
     "execution_count": 108,
     "metadata": {},
     "output_type": "execute_result"
    }
   ],
   "source": [
    "good1 = good.groupby('Primary Type')[('Primary Type')].count()\n",
    "good1.sort_values(ascending=False)"
   ]
  },
  {
   "cell_type": "code",
   "execution_count": 109,
   "metadata": {},
   "outputs": [
    {
     "data": {
      "text/plain": [
       "Primary Type\n",
       "assault      32.122371\n",
       "domestic     19.120459\n",
       "vandalism    48.757170\n",
       "Name: Primary Type, dtype: float64"
      ]
     },
     "execution_count": 109,
     "metadata": {},
     "output_type": "execute_result"
    }
   ],
   "source": [
    "good.groupby('Primary Type')[('Primary Type')].size()*100/len(good)"
   ]
  },
  {
   "cell_type": "code",
   "execution_count": 110,
   "metadata": {
    "collapsed": true
   },
   "outputs": [],
   "source": [
    "gd = good.groupby('Primary Type')[('Primary Type')].size()*100/len(good)"
   ]
  },
  {
   "cell_type": "code",
   "execution_count": 111,
   "metadata": {},
   "outputs": [
    {
     "data": {
      "text/plain": [
       "Text(0.5,1,'Good weather crime percentage surrounding game')"
      ]
     },
     "execution_count": 111,
     "metadata": {},
     "output_type": "execute_result"
    },
    {
     "data": {
      "image/png": "[encoded data removed]",
      "text/plain": [
       "<matplotlib.figure.Figure at 0x21d162f2400>"
      ]
     },
     "metadata": {},
     "output_type": "display_data"
    }
   ],
   "source": [
    "gd.plot(kind='pie', autopct='%1.1f%%', \n",
    " startangle=90, shadow=False, legend = False, fontsize=20, figsize = (10, 10))\n",
    "plt.title('Good weather crime percentage surrounding game')"
   ]
  },
  {
   "cell_type": "code",
   "execution_count": 112,
   "metadata": {},
   "outputs": [
    {
     "data": {
      "text/html": [
       "<div>\n",
       "<style>\n",
       "    .dataframe thead tr:only-child th {\n",
       "        text-align: right;\n",
       "    }\n",
       "\n",
       "    .dataframe thead th {\n",
       "        text-align: left;\n",
       "    }\n",
       "\n",
       "    .dataframe tbody tr th {\n",
       "        vertical-align: top;\n",
       "    }\n",
       "</style>\n",
       "<table border=\"1\" class=\"dataframe\">\n",
       "  <thead>\n",
       "    <tr style=\"text-align: right;\">\n",
       "      <th></th>\n",
       "      <th>Wind Speed</th>\n",
       "      <th>Description</th>\n",
       "      <th>Celcius</th>\n",
       "      <th>DescRate</th>\n",
       "      <th>TempRate</th>\n",
       "      <th>WindRate</th>\n",
       "      <th>Overall</th>\n",
       "      <th>Weather</th>\n",
       "      <th>Game Day</th>\n",
       "      <th>Primary Type</th>\n",
       "    </tr>\n",
       "    <tr>\n",
       "      <th>Date</th>\n",
       "      <th></th>\n",
       "      <th></th>\n",
       "      <th></th>\n",
       "      <th></th>\n",
       "      <th></th>\n",
       "      <th></th>\n",
       "      <th></th>\n",
       "      <th></th>\n",
       "      <th></th>\n",
       "      <th></th>\n",
       "    </tr>\n",
       "  </thead>\n",
       "  <tbody>\n",
       "    <tr>\n",
       "      <th>2013-01-19 23:00:00</th>\n",
       "      <td>3.0</td>\n",
       "      <td>few clouds</td>\n",
       "      <td>12.53</td>\n",
       "      <td>3</td>\n",
       "      <td>2</td>\n",
       "      <td>3</td>\n",
       "      <td>8</td>\n",
       "      <td>Good</td>\n",
       "      <td>NBA</td>\n",
       "      <td>assault</td>\n",
       "    </tr>\n",
       "    <tr>\n",
       "      <th>2013-01-20 18:00:00</th>\n",
       "      <td>0.0</td>\n",
       "      <td>sky is clear</td>\n",
       "      <td>9.91</td>\n",
       "      <td>3</td>\n",
       "      <td>2</td>\n",
       "      <td>3</td>\n",
       "      <td>8</td>\n",
       "      <td>Good</td>\n",
       "      <td>NBA</td>\n",
       "      <td>assault</td>\n",
       "    </tr>\n",
       "    <tr>\n",
       "      <th>2013-01-20 18:00:00</th>\n",
       "      <td>0.0</td>\n",
       "      <td>sky is clear</td>\n",
       "      <td>9.91</td>\n",
       "      <td>3</td>\n",
       "      <td>2</td>\n",
       "      <td>3</td>\n",
       "      <td>8</td>\n",
       "      <td>Good</td>\n",
       "      <td>NBA</td>\n",
       "      <td>assault</td>\n",
       "    </tr>\n",
       "    <tr>\n",
       "      <th>2013-01-20 19:00:00</th>\n",
       "      <td>1.0</td>\n",
       "      <td>sky is clear</td>\n",
       "      <td>10.16</td>\n",
       "      <td>3</td>\n",
       "      <td>2</td>\n",
       "      <td>3</td>\n",
       "      <td>8</td>\n",
       "      <td>Good</td>\n",
       "      <td>NBA</td>\n",
       "      <td>assault</td>\n",
       "    </tr>\n",
       "    <tr>\n",
       "      <th>2013-01-20 20:00:00</th>\n",
       "      <td>1.0</td>\n",
       "      <td>sky is clear</td>\n",
       "      <td>10.16</td>\n",
       "      <td>3</td>\n",
       "      <td>2</td>\n",
       "      <td>3</td>\n",
       "      <td>8</td>\n",
       "      <td>Good</td>\n",
       "      <td>NBA</td>\n",
       "      <td>domestic</td>\n",
       "    </tr>\n",
       "  </tbody>\n",
       "</table>\n",
       "</div>"
      ],
      "text/plain": [
       "                     Wind Speed   Description  Celcius  DescRate  TempRate  \\\n",
       "Date                                                                         \n",
       "2013-01-19 23:00:00         3.0    few clouds    12.53         3         2   \n",
       "2013-01-20 18:00:00         0.0  sky is clear     9.91         3         2   \n",
       "2013-01-20 18:00:00         0.0  sky is clear     9.91         3         2   \n",
       "2013-01-20 19:00:00         1.0  sky is clear    10.16         3         2   \n",
       "2013-01-20 20:00:00         1.0  sky is clear    10.16         3         2   \n",
       "\n",
       "                     WindRate  Overall Weather Game Day Primary Type  \n",
       "Date                                                                  \n",
       "2013-01-19 23:00:00         3        8    Good      NBA      assault  \n",
       "2013-01-20 18:00:00         3        8    Good      NBA      assault  \n",
       "2013-01-20 18:00:00         3        8    Good      NBA      assault  \n",
       "2013-01-20 19:00:00         3        8    Good      NBA      assault  \n",
       "2013-01-20 20:00:00         3        8    Good      NBA     domestic  "
      ]
     },
     "execution_count": 112,
     "metadata": {},
     "output_type": "execute_result"
    }
   ],
   "source": [
    "good.head()"
   ]
  },
  {
   "cell_type": "code",
   "execution_count": 113,
   "metadata": {},
   "outputs": [
    {
     "data": {
      "text/plain": [
       "Overall\n",
       "8    928\n",
       "9    118\n",
       "Name: Weather, dtype: int64"
      ]
     },
     "execution_count": 113,
     "metadata": {},
     "output_type": "execute_result"
    }
   ],
   "source": [
    "good.groupby('Overall')[('Weather')].count()"
   ]
  },
  {
   "cell_type": "code",
   "execution_count": 114,
   "metadata": {},
   "outputs": [
    {
     "name": "stderr",
     "output_type": "stream",
     "text": [
      "C:\\Users\\Cathal Mc Connell\\Anaconda3\\lib\\site-packages\\ipykernel_launcher.py:4: SettingWithCopyWarning: \n",
      "A value is trying to be set on a copy of a slice from a DataFrame.\n",
      "Try using .loc[row_indexer,col_indexer] = value instead\n",
      "\n",
      "See the caveats in the documentation: http://pandas.pydata.org/pandas-docs/stable/indexing.html#indexing-view-versus-copy\n",
      "  after removing the cwd from sys.path.\n"
     ]
    }
   ],
   "source": [
    "conditions = [\n",
    "    (good['Overall'] == 9)]\n",
    "choices = ['Very good']\n",
    "good['Heat'] = np.select(conditions, choices, default='Good')"
   ]
  },
  {
   "cell_type": "code",
   "execution_count": 115,
   "metadata": {},
   "outputs": [
    {
     "data": {
      "text/html": [
       "<div>\n",
       "<style>\n",
       "    .dataframe thead tr:only-child th {\n",
       "        text-align: right;\n",
       "    }\n",
       "\n",
       "    .dataframe thead th {\n",
       "        text-align: left;\n",
       "    }\n",
       "\n",
       "    .dataframe tbody tr th {\n",
       "        vertical-align: top;\n",
       "    }\n",
       "</style>\n",
       "<table border=\"1\" class=\"dataframe\">\n",
       "  <thead>\n",
       "    <tr style=\"text-align: right;\">\n",
       "      <th></th>\n",
       "      <th>Wind Speed</th>\n",
       "      <th>Description</th>\n",
       "      <th>Celcius</th>\n",
       "      <th>DescRate</th>\n",
       "      <th>TempRate</th>\n",
       "      <th>WindRate</th>\n",
       "      <th>Overall</th>\n",
       "      <th>Weather</th>\n",
       "      <th>Game Day</th>\n",
       "      <th>Primary Type</th>\n",
       "      <th>Heat</th>\n",
       "    </tr>\n",
       "    <tr>\n",
       "      <th>Date</th>\n",
       "      <th></th>\n",
       "      <th></th>\n",
       "      <th></th>\n",
       "      <th></th>\n",
       "      <th></th>\n",
       "      <th></th>\n",
       "      <th></th>\n",
       "      <th></th>\n",
       "      <th></th>\n",
       "      <th></th>\n",
       "      <th></th>\n",
       "    </tr>\n",
       "  </thead>\n",
       "  <tbody>\n",
       "    <tr>\n",
       "      <th>2013-01-19 23:00:00</th>\n",
       "      <td>3.0</td>\n",
       "      <td>few clouds</td>\n",
       "      <td>12.53</td>\n",
       "      <td>3</td>\n",
       "      <td>2</td>\n",
       "      <td>3</td>\n",
       "      <td>8</td>\n",
       "      <td>Good</td>\n",
       "      <td>NBA</td>\n",
       "      <td>assault</td>\n",
       "      <td>Good</td>\n",
       "    </tr>\n",
       "    <tr>\n",
       "      <th>2013-01-20 18:00:00</th>\n",
       "      <td>0.0</td>\n",
       "      <td>sky is clear</td>\n",
       "      <td>9.91</td>\n",
       "      <td>3</td>\n",
       "      <td>2</td>\n",
       "      <td>3</td>\n",
       "      <td>8</td>\n",
       "      <td>Good</td>\n",
       "      <td>NBA</td>\n",
       "      <td>assault</td>\n",
       "      <td>Good</td>\n",
       "    </tr>\n",
       "    <tr>\n",
       "      <th>2013-01-20 18:00:00</th>\n",
       "      <td>0.0</td>\n",
       "      <td>sky is clear</td>\n",
       "      <td>9.91</td>\n",
       "      <td>3</td>\n",
       "      <td>2</td>\n",
       "      <td>3</td>\n",
       "      <td>8</td>\n",
       "      <td>Good</td>\n",
       "      <td>NBA</td>\n",
       "      <td>assault</td>\n",
       "      <td>Good</td>\n",
       "    </tr>\n",
       "    <tr>\n",
       "      <th>2013-01-20 19:00:00</th>\n",
       "      <td>1.0</td>\n",
       "      <td>sky is clear</td>\n",
       "      <td>10.16</td>\n",
       "      <td>3</td>\n",
       "      <td>2</td>\n",
       "      <td>3</td>\n",
       "      <td>8</td>\n",
       "      <td>Good</td>\n",
       "      <td>NBA</td>\n",
       "      <td>assault</td>\n",
       "      <td>Good</td>\n",
       "    </tr>\n",
       "    <tr>\n",
       "      <th>2013-01-20 20:00:00</th>\n",
       "      <td>1.0</td>\n",
       "      <td>sky is clear</td>\n",
       "      <td>10.16</td>\n",
       "      <td>3</td>\n",
       "      <td>2</td>\n",
       "      <td>3</td>\n",
       "      <td>8</td>\n",
       "      <td>Good</td>\n",
       "      <td>NBA</td>\n",
       "      <td>domestic</td>\n",
       "      <td>Good</td>\n",
       "    </tr>\n",
       "  </tbody>\n",
       "</table>\n",
       "</div>"
      ],
      "text/plain": [
       "                     Wind Speed   Description  Celcius  DescRate  TempRate  \\\n",
       "Date                                                                         \n",
       "2013-01-19 23:00:00         3.0    few clouds    12.53         3         2   \n",
       "2013-01-20 18:00:00         0.0  sky is clear     9.91         3         2   \n",
       "2013-01-20 18:00:00         0.0  sky is clear     9.91         3         2   \n",
       "2013-01-20 19:00:00         1.0  sky is clear    10.16         3         2   \n",
       "2013-01-20 20:00:00         1.0  sky is clear    10.16         3         2   \n",
       "\n",
       "                     WindRate  Overall Weather Game Day Primary Type  Heat  \n",
       "Date                                                                        \n",
       "2013-01-19 23:00:00         3        8    Good      NBA      assault  Good  \n",
       "2013-01-20 18:00:00         3        8    Good      NBA      assault  Good  \n",
       "2013-01-20 18:00:00         3        8    Good      NBA      assault  Good  \n",
       "2013-01-20 19:00:00         3        8    Good      NBA      assault  Good  \n",
       "2013-01-20 20:00:00         3        8    Good      NBA     domestic  Good  "
      ]
     },
     "execution_count": 115,
     "metadata": {},
     "output_type": "execute_result"
    }
   ],
   "source": [
    "good.head()"
   ]
  },
  {
   "cell_type": "code",
   "execution_count": 116,
   "metadata": {
    "collapsed": true
   },
   "outputs": [],
   "source": [
    "vg = good[good[\"Heat\"] == \"Very good\"]"
   ]
  },
  {
   "cell_type": "code",
   "execution_count": 117,
   "metadata": {},
   "outputs": [
    {
     "data": {
      "text/plain": [
       "Primary Type\n",
       "vandalism    66\n",
       "assault      29\n",
       "domestic     23\n",
       "Name: Primary Type, dtype: int64"
      ]
     },
     "execution_count": 117,
     "metadata": {},
     "output_type": "execute_result"
    }
   ],
   "source": [
    "vg1 = vg.groupby('Primary Type')[('Primary Type')].count()\n",
    "vg1.sort_values(ascending=False)"
   ]
  },
  {
   "cell_type": "code",
   "execution_count": 118,
   "metadata": {},
   "outputs": [
    {
     "data": {
      "text/plain": [
       "Primary Type\n",
       "assault      24.576271\n",
       "domestic     19.491525\n",
       "vandalism    55.932203\n",
       "Name: Primary Type, dtype: float64"
      ]
     },
     "execution_count": 118,
     "metadata": {},
     "output_type": "execute_result"
    }
   ],
   "source": [
    "vg.groupby('Primary Type')[('Primary Type')].size()*100/len(vg)"
   ]
  },
  {
   "cell_type": "code",
   "execution_count": 119,
   "metadata": {
    "collapsed": true
   },
   "outputs": [],
   "source": [
    "wvg = vg.groupby('Primary Type')[('Primary Type')].size()*100/len(vg)"
   ]
  },
  {
   "cell_type": "code",
   "execution_count": 120,
   "metadata": {},
   "outputs": [
    {
     "data": {
      "text/plain": [
       "Text(0.5,1,'Very good weather crime percentage surrounding game')"
      ]
     },
     "execution_count": 120,
     "metadata": {},
     "output_type": "execute_result"
    },
    {
     "data": {
      "image/png": "[encoded data removed]",
      "text/plain": [
       "<matplotlib.figure.Figure at 0x21d160706a0>"
      ]
     },
     "metadata": {},
     "output_type": "display_data"
    }
   ],
   "source": [
    "wvg.plot(kind='pie', autopct='%1.1f%%', \n",
    " startangle=90, shadow=False, legend = False, fontsize=20, figsize = (10, 10))\n",
    "plt.title('Very good weather crime percentage surrounding game')"
   ]
  },
  {
   "cell_type": "markdown",
   "metadata": {},
   "source": [
    " "
   ]
  },
  {
   "cell_type": "markdown",
   "metadata": {},
   "source": [
    "### Good Weather and Domestic violence"
   ]
  },
  {
   "cell_type": "code",
   "execution_count": 121,
   "metadata": {
    "collapsed": true
   },
   "outputs": [],
   "source": [
    "dgood = dch[dch[\"Weather\"] == \"Good\"]"
   ]
  },
  {
   "cell_type": "code",
   "execution_count": 122,
   "metadata": {},
   "outputs": [
    {
     "data": {
      "text/plain": [
       "Primary Type\n",
       "vandalism    516\n",
       "assault      331\n",
       "domestic     191\n",
       "Name: Primary Type, dtype: int64"
      ]
     },
     "execution_count": 122,
     "metadata": {},
     "output_type": "execute_result"
    }
   ],
   "source": [
    "dgood1 = dgood.groupby('Primary Type')[('Primary Type')].count()\n",
    "dgood1.sort_values(ascending=False)"
   ]
  },
  {
   "cell_type": "code",
   "execution_count": 123,
   "metadata": {},
   "outputs": [
    {
     "data": {
      "text/plain": [
       "Primary Type\n",
       "assault      31.888247\n",
       "domestic     18.400771\n",
       "vandalism    49.710983\n",
       "Name: Primary Type, dtype: float64"
      ]
     },
     "execution_count": 123,
     "metadata": {},
     "output_type": "execute_result"
    }
   ],
   "source": [
    "dgood.groupby('Primary Type')[('Primary Type')].size()*100/len(dgood)"
   ]
  },
  {
   "cell_type": "code",
   "execution_count": 124,
   "metadata": {
    "collapsed": true
   },
   "outputs": [],
   "source": [
    "dgd = dgood.groupby('Primary Type')[('Primary Type')].size()*100/len(dgood)"
   ]
  },
  {
   "cell_type": "code",
   "execution_count": 125,
   "metadata": {},
   "outputs": [
    {
     "data": {
      "text/plain": [
       "Text(0.5,1,'Good weather crime percentage after game')"
      ]
     },
     "execution_count": 125,
     "metadata": {},
     "output_type": "execute_result"
    },
    {
     "data": {
      "image/png": "[encoded data removed]",
      "text/plain": [
       "<matplotlib.figure.Figure at 0x21d16070978>"
      ]
     },
     "metadata": {},
     "output_type": "display_data"
    }
   ],
   "source": [
    "dgd.plot(kind='pie', autopct='%1.1f%%', \n",
    " startangle=90, shadow=False, legend = False, fontsize=20, figsize = (10, 10))\n",
    "plt.title('Good weather crime percentage after game')"
   ]
  },
  {
   "cell_type": "code",
   "execution_count": 126,
   "metadata": {},
   "outputs": [
    {
     "data": {
      "text/html": [
       "<div>\n",
       "<style>\n",
       "    .dataframe thead tr:only-child th {\n",
       "        text-align: right;\n",
       "    }\n",
       "\n",
       "    .dataframe thead th {\n",
       "        text-align: left;\n",
       "    }\n",
       "\n",
       "    .dataframe tbody tr th {\n",
       "        vertical-align: top;\n",
       "    }\n",
       "</style>\n",
       "<table border=\"1\" class=\"dataframe\">\n",
       "  <thead>\n",
       "    <tr style=\"text-align: right;\">\n",
       "      <th></th>\n",
       "      <th>Overall</th>\n",
       "      <th>Weather</th>\n",
       "      <th>Domestic</th>\n",
       "      <th>Primary Type</th>\n",
       "    </tr>\n",
       "    <tr>\n",
       "      <th>Date</th>\n",
       "      <th></th>\n",
       "      <th></th>\n",
       "      <th></th>\n",
       "      <th></th>\n",
       "    </tr>\n",
       "  </thead>\n",
       "  <tbody>\n",
       "    <tr>\n",
       "      <th>2013-01-20 18:00:00</th>\n",
       "      <td>8</td>\n",
       "      <td>Good</td>\n",
       "      <td>NBA</td>\n",
       "      <td>assault</td>\n",
       "    </tr>\n",
       "    <tr>\n",
       "      <th>2013-01-20 18:00:00</th>\n",
       "      <td>8</td>\n",
       "      <td>Good</td>\n",
       "      <td>NBA</td>\n",
       "      <td>assault</td>\n",
       "    </tr>\n",
       "    <tr>\n",
       "      <th>2013-01-20 19:00:00</th>\n",
       "      <td>8</td>\n",
       "      <td>Good</td>\n",
       "      <td>NBA</td>\n",
       "      <td>assault</td>\n",
       "    </tr>\n",
       "    <tr>\n",
       "      <th>2013-01-20 20:00:00</th>\n",
       "      <td>8</td>\n",
       "      <td>Good</td>\n",
       "      <td>NBA</td>\n",
       "      <td>domestic</td>\n",
       "    </tr>\n",
       "    <tr>\n",
       "      <th>2013-01-22 18:00:00</th>\n",
       "      <td>8</td>\n",
       "      <td>Good</td>\n",
       "      <td>NBA</td>\n",
       "      <td>assault</td>\n",
       "    </tr>\n",
       "  </tbody>\n",
       "</table>\n",
       "</div>"
      ],
      "text/plain": [
       "                     Overall Weather Domestic Primary Type\n",
       "Date                                                      \n",
       "2013-01-20 18:00:00        8    Good      NBA      assault\n",
       "2013-01-20 18:00:00        8    Good      NBA      assault\n",
       "2013-01-20 19:00:00        8    Good      NBA      assault\n",
       "2013-01-20 20:00:00        8    Good      NBA     domestic\n",
       "2013-01-22 18:00:00        8    Good      NBA      assault"
      ]
     },
     "execution_count": 126,
     "metadata": {},
     "output_type": "execute_result"
    }
   ],
   "source": [
    "dgood.head()"
   ]
  },
  {
   "cell_type": "code",
   "execution_count": 127,
   "metadata": {},
   "outputs": [
    {
     "data": {
      "text/plain": [
       "Overall\n",
       "8    934\n",
       "9    104\n",
       "Name: Weather, dtype: int64"
      ]
     },
     "execution_count": 127,
     "metadata": {},
     "output_type": "execute_result"
    }
   ],
   "source": [
    "dgood.groupby('Overall')[('Weather')].count()"
   ]
  },
  {
   "cell_type": "code",
   "execution_count": 128,
   "metadata": {},
   "outputs": [
    {
     "name": "stderr",
     "output_type": "stream",
     "text": [
      "C:\\Users\\Cathal Mc Connell\\Anaconda3\\lib\\site-packages\\ipykernel_launcher.py:4: SettingWithCopyWarning: \n",
      "A value is trying to be set on a copy of a slice from a DataFrame.\n",
      "Try using .loc[row_indexer,col_indexer] = value instead\n",
      "\n",
      "See the caveats in the documentation: http://pandas.pydata.org/pandas-docs/stable/indexing.html#indexing-view-versus-copy\n",
      "  after removing the cwd from sys.path.\n"
     ]
    }
   ],
   "source": [
    "conditions = [\n",
    "    (dgood['Overall'] == 9)]\n",
    "choices = ['Very good']\n",
    "dgood['Heat'] = np.select(conditions, choices, default='Good')"
   ]
  },
  {
   "cell_type": "code",
   "execution_count": 129,
   "metadata": {},
   "outputs": [
    {
     "data": {
      "text/html": [
       "<div>\n",
       "<style>\n",
       "    .dataframe thead tr:only-child th {\n",
       "        text-align: right;\n",
       "    }\n",
       "\n",
       "    .dataframe thead th {\n",
       "        text-align: left;\n",
       "    }\n",
       "\n",
       "    .dataframe tbody tr th {\n",
       "        vertical-align: top;\n",
       "    }\n",
       "</style>\n",
       "<table border=\"1\" class=\"dataframe\">\n",
       "  <thead>\n",
       "    <tr style=\"text-align: right;\">\n",
       "      <th></th>\n",
       "      <th>Overall</th>\n",
       "      <th>Weather</th>\n",
       "      <th>Domestic</th>\n",
       "      <th>Primary Type</th>\n",
       "      <th>Heat</th>\n",
       "    </tr>\n",
       "    <tr>\n",
       "      <th>Date</th>\n",
       "      <th></th>\n",
       "      <th></th>\n",
       "      <th></th>\n",
       "      <th></th>\n",
       "      <th></th>\n",
       "    </tr>\n",
       "  </thead>\n",
       "  <tbody>\n",
       "    <tr>\n",
       "      <th>2013-01-20 18:00:00</th>\n",
       "      <td>8</td>\n",
       "      <td>Good</td>\n",
       "      <td>NBA</td>\n",
       "      <td>assault</td>\n",
       "      <td>Good</td>\n",
       "    </tr>\n",
       "    <tr>\n",
       "      <th>2013-01-20 18:00:00</th>\n",
       "      <td>8</td>\n",
       "      <td>Good</td>\n",
       "      <td>NBA</td>\n",
       "      <td>assault</td>\n",
       "      <td>Good</td>\n",
       "    </tr>\n",
       "    <tr>\n",
       "      <th>2013-01-20 19:00:00</th>\n",
       "      <td>8</td>\n",
       "      <td>Good</td>\n",
       "      <td>NBA</td>\n",
       "      <td>assault</td>\n",
       "      <td>Good</td>\n",
       "    </tr>\n",
       "    <tr>\n",
       "      <th>2013-01-20 20:00:00</th>\n",
       "      <td>8</td>\n",
       "      <td>Good</td>\n",
       "      <td>NBA</td>\n",
       "      <td>domestic</td>\n",
       "      <td>Good</td>\n",
       "    </tr>\n",
       "    <tr>\n",
       "      <th>2013-01-22 18:00:00</th>\n",
       "      <td>8</td>\n",
       "      <td>Good</td>\n",
       "      <td>NBA</td>\n",
       "      <td>assault</td>\n",
       "      <td>Good</td>\n",
       "    </tr>\n",
       "  </tbody>\n",
       "</table>\n",
       "</div>"
      ],
      "text/plain": [
       "                     Overall Weather Domestic Primary Type  Heat\n",
       "Date                                                            \n",
       "2013-01-20 18:00:00        8    Good      NBA      assault  Good\n",
       "2013-01-20 18:00:00        8    Good      NBA      assault  Good\n",
       "2013-01-20 19:00:00        8    Good      NBA      assault  Good\n",
       "2013-01-20 20:00:00        8    Good      NBA     domestic  Good\n",
       "2013-01-22 18:00:00        8    Good      NBA      assault  Good"
      ]
     },
     "execution_count": 129,
     "metadata": {},
     "output_type": "execute_result"
    }
   ],
   "source": [
    "dgood.head()"
   ]
  },
  {
   "cell_type": "code",
   "execution_count": 130,
   "metadata": {
    "collapsed": true
   },
   "outputs": [],
   "source": [
    "dvg = dgood[dgood[\"Heat\"] == \"Very good\"]"
   ]
  },
  {
   "cell_type": "code",
   "execution_count": 131,
   "metadata": {},
   "outputs": [
    {
     "data": {
      "text/plain": [
       "Primary Type\n",
       "vandalism    60\n",
       "domestic     23\n",
       "assault      21\n",
       "Name: Primary Type, dtype: int64"
      ]
     },
     "execution_count": 131,
     "metadata": {},
     "output_type": "execute_result"
    }
   ],
   "source": [
    "dvg1 = dvg.groupby('Primary Type')[('Primary Type')].count()\n",
    "dvg1.sort_values(ascending=False)"
   ]
  },
  {
   "cell_type": "code",
   "execution_count": 132,
   "metadata": {},
   "outputs": [
    {
     "data": {
      "text/plain": [
       "Primary Type\n",
       "assault      20.192308\n",
       "domestic     22.115385\n",
       "vandalism    57.692308\n",
       "Name: Primary Type, dtype: float64"
      ]
     },
     "execution_count": 132,
     "metadata": {},
     "output_type": "execute_result"
    }
   ],
   "source": [
    "dvg.groupby('Primary Type')[('Primary Type')].size()*100/len(dvg)"
   ]
  },
  {
   "cell_type": "code",
   "execution_count": 133,
   "metadata": {
    "collapsed": true
   },
   "outputs": [],
   "source": [
    "wdvg = dvg.groupby('Primary Type')[('Primary Type')].size()*100/len(dvg)"
   ]
  },
  {
   "cell_type": "code",
   "execution_count": 134,
   "metadata": {},
   "outputs": [
    {
     "data": {
      "text/plain": [
       "Text(0.5,1,'Very good weather crime percentage after game')"
      ]
     },
     "execution_count": 134,
     "metadata": {},
     "output_type": "execute_result"
    },
    {
     "data": {
      "image/png": "[encoded data removed]",
      "text/plain": [
       "<matplotlib.figure.Figure at 0x21d15323ac8>"
      ]
     },
     "metadata": {},
     "output_type": "display_data"
    }
   ],
   "source": [
    "wdvg.plot(kind='pie', autopct='%1.1f%%', \n",
    " startangle=90, shadow=False, legend = False, fontsize=20, figsize = (10, 10))\n",
    "plt.title('Very good weather crime percentage after game')"
   ]
  },
  {
   "cell_type": "markdown",
   "metadata": {},
   "source": [
    " "
   ]
  },
  {
   "cell_type": "markdown",
   "metadata": {},
   "source": [
    "# Bad"
   ]
  },
  {
   "cell_type": "code",
   "execution_count": 135,
   "metadata": {
    "collapsed": true
   },
   "outputs": [],
   "source": [
    "bad = ch[ch[\"Weather\"] == \"Bad\"]"
   ]
  },
  {
   "cell_type": "code",
   "execution_count": 136,
   "metadata": {},
   "outputs": [
    {
     "data": {
      "text/plain": [
       "Primary Type\n",
       "vandalism    756\n",
       "assault      483\n",
       "domestic     340\n",
       "Name: Primary Type, dtype: int64"
      ]
     },
     "execution_count": 136,
     "metadata": {},
     "output_type": "execute_result"
    }
   ],
   "source": [
    "bad1 = bad.groupby('Primary Type')[('Primary Type')].count()\n",
    "bad1.sort_values(ascending=False)"
   ]
  },
  {
   "cell_type": "code",
   "execution_count": 137,
   "metadata": {},
   "outputs": [
    {
     "data": {
      "text/plain": [
       "Primary Type\n",
       "assault      30.588980\n",
       "domestic     21.532616\n",
       "vandalism    47.878404\n",
       "Name: Primary Type, dtype: float64"
      ]
     },
     "execution_count": 137,
     "metadata": {},
     "output_type": "execute_result"
    }
   ],
   "source": [
    "bad.groupby('Primary Type')[('Primary Type')].size() * 100 / len(bad)"
   ]
  },
  {
   "cell_type": "code",
   "execution_count": 138,
   "metadata": {
    "collapsed": true
   },
   "outputs": [],
   "source": [
    "bd = bad.groupby('Primary Type')[('Primary Type')].size() * 100 / len(bad)"
   ]
  },
  {
   "cell_type": "code",
   "execution_count": 139,
   "metadata": {},
   "outputs": [
    {
     "data": {
      "text/plain": [
       "Text(0.5,1,'Bad weather crime percentage surrounding game')"
      ]
     },
     "execution_count": 139,
     "metadata": {},
     "output_type": "execute_result"
    },
    {
     "data": {
      "image/png": "[encoded data removed]",
      "text/plain": [
       "<matplotlib.figure.Figure at 0x21d1396e208>"
      ]
     },
     "metadata": {},
     "output_type": "display_data"
    }
   ],
   "source": [
    "bd.plot(kind='pie', autopct='%1.1f%%', \n",
    " startangle=90, shadow=False, legend = False, fontsize=20, figsize = (10, 10))\n",
    "plt.title('Bad weather crime percentage surrounding game')"
   ]
  },
  {
   "cell_type": "code",
   "execution_count": 140,
   "metadata": {},
   "outputs": [
    {
     "data": {
      "text/html": [
       "<div>\n",
       "<style>\n",
       "    .dataframe thead tr:only-child th {\n",
       "        text-align: right;\n",
       "    }\n",
       "\n",
       "    .dataframe thead th {\n",
       "        text-align: left;\n",
       "    }\n",
       "\n",
       "    .dataframe tbody tr th {\n",
       "        vertical-align: top;\n",
       "    }\n",
       "</style>\n",
       "<table border=\"1\" class=\"dataframe\">\n",
       "  <thead>\n",
       "    <tr style=\"text-align: right;\">\n",
       "      <th></th>\n",
       "      <th>Wind Speed</th>\n",
       "      <th>Description</th>\n",
       "      <th>Celcius</th>\n",
       "      <th>DescRate</th>\n",
       "      <th>TempRate</th>\n",
       "      <th>WindRate</th>\n",
       "      <th>Overall</th>\n",
       "      <th>Weather</th>\n",
       "      <th>Game Day</th>\n",
       "      <th>Primary Type</th>\n",
       "    </tr>\n",
       "    <tr>\n",
       "      <th>Date</th>\n",
       "      <th></th>\n",
       "      <th></th>\n",
       "      <th></th>\n",
       "      <th></th>\n",
       "      <th></th>\n",
       "      <th></th>\n",
       "      <th></th>\n",
       "      <th></th>\n",
       "      <th></th>\n",
       "      <th></th>\n",
       "    </tr>\n",
       "  </thead>\n",
       "  <tbody>\n",
       "    <tr>\n",
       "      <th>2013-01-11 17:00:00</th>\n",
       "      <td>2.0</td>\n",
       "      <td>broken clouds</td>\n",
       "      <td>3.71</td>\n",
       "      <td>2</td>\n",
       "      <td>0</td>\n",
       "      <td>3</td>\n",
       "      <td>5</td>\n",
       "      <td>Bad</td>\n",
       "      <td>NBA</td>\n",
       "      <td>vandalism</td>\n",
       "    </tr>\n",
       "    <tr>\n",
       "      <th>2013-01-11 17:00:00</th>\n",
       "      <td>2.0</td>\n",
       "      <td>broken clouds</td>\n",
       "      <td>3.71</td>\n",
       "      <td>2</td>\n",
       "      <td>0</td>\n",
       "      <td>3</td>\n",
       "      <td>5</td>\n",
       "      <td>Bad</td>\n",
       "      <td>NBA</td>\n",
       "      <td>vandalism</td>\n",
       "    </tr>\n",
       "    <tr>\n",
       "      <th>2013-01-11 17:00:00</th>\n",
       "      <td>2.0</td>\n",
       "      <td>broken clouds</td>\n",
       "      <td>3.71</td>\n",
       "      <td>2</td>\n",
       "      <td>0</td>\n",
       "      <td>3</td>\n",
       "      <td>5</td>\n",
       "      <td>Bad</td>\n",
       "      <td>NBA</td>\n",
       "      <td>vandalism</td>\n",
       "    </tr>\n",
       "    <tr>\n",
       "      <th>2013-01-11 17:00:00</th>\n",
       "      <td>2.0</td>\n",
       "      <td>broken clouds</td>\n",
       "      <td>3.71</td>\n",
       "      <td>2</td>\n",
       "      <td>0</td>\n",
       "      <td>3</td>\n",
       "      <td>5</td>\n",
       "      <td>Bad</td>\n",
       "      <td>NBA</td>\n",
       "      <td>vandalism</td>\n",
       "    </tr>\n",
       "    <tr>\n",
       "      <th>2013-01-11 17:00:00</th>\n",
       "      <td>2.0</td>\n",
       "      <td>broken clouds</td>\n",
       "      <td>3.71</td>\n",
       "      <td>2</td>\n",
       "      <td>0</td>\n",
       "      <td>3</td>\n",
       "      <td>5</td>\n",
       "      <td>Bad</td>\n",
       "      <td>NBA</td>\n",
       "      <td>vandalism</td>\n",
       "    </tr>\n",
       "  </tbody>\n",
       "</table>\n",
       "</div>"
      ],
      "text/plain": [
       "                     Wind Speed    Description  Celcius  DescRate  TempRate  \\\n",
       "Date                                                                          \n",
       "2013-01-11 17:00:00         2.0  broken clouds     3.71         2         0   \n",
       "2013-01-11 17:00:00         2.0  broken clouds     3.71         2         0   \n",
       "2013-01-11 17:00:00         2.0  broken clouds     3.71         2         0   \n",
       "2013-01-11 17:00:00         2.0  broken clouds     3.71         2         0   \n",
       "2013-01-11 17:00:00         2.0  broken clouds     3.71         2         0   \n",
       "\n",
       "                     WindRate  Overall Weather Game Day Primary Type  \n",
       "Date                                                                  \n",
       "2013-01-11 17:00:00         3        5     Bad      NBA    vandalism  \n",
       "2013-01-11 17:00:00         3        5     Bad      NBA    vandalism  \n",
       "2013-01-11 17:00:00         3        5     Bad      NBA    vandalism  \n",
       "2013-01-11 17:00:00         3        5     Bad      NBA    vandalism  \n",
       "2013-01-11 17:00:00         3        5     Bad      NBA    vandalism  "
      ]
     },
     "execution_count": 140,
     "metadata": {},
     "output_type": "execute_result"
    }
   ],
   "source": [
    "bad.head()"
   ]
  },
  {
   "cell_type": "code",
   "execution_count": 141,
   "metadata": {},
   "outputs": [
    {
     "name": "stderr",
     "output_type": "stream",
     "text": [
      "C:\\Users\\Cathal Mc Connell\\Anaconda3\\lib\\site-packages\\ipykernel_launcher.py:4: SettingWithCopyWarning: \n",
      "A value is trying to be set on a copy of a slice from a DataFrame.\n",
      "Try using .loc[row_indexer,col_indexer] = value instead\n",
      "\n",
      "See the caveats in the documentation: http://pandas.pydata.org/pandas-docs/stable/indexing.html#indexing-view-versus-copy\n",
      "  after removing the cwd from sys.path.\n"
     ]
    }
   ],
   "source": [
    "conditions = [\n",
    "    (bad['Overall'] < 3)]\n",
    "choices = ['Very bad']\n",
    "bad['Cold'] = np.select(conditions, choices, default='Bad')"
   ]
  },
  {
   "cell_type": "code",
   "execution_count": 142,
   "metadata": {},
   "outputs": [
    {
     "data": {
      "text/html": [
       "<div>\n",
       "<style>\n",
       "    .dataframe thead tr:only-child th {\n",
       "        text-align: right;\n",
       "    }\n",
       "\n",
       "    .dataframe thead th {\n",
       "        text-align: left;\n",
       "    }\n",
       "\n",
       "    .dataframe tbody tr th {\n",
       "        vertical-align: top;\n",
       "    }\n",
       "</style>\n",
       "<table border=\"1\" class=\"dataframe\">\n",
       "  <thead>\n",
       "    <tr style=\"text-align: right;\">\n",
       "      <th></th>\n",
       "      <th>Wind Speed</th>\n",
       "      <th>Description</th>\n",
       "      <th>Celcius</th>\n",
       "      <th>DescRate</th>\n",
       "      <th>TempRate</th>\n",
       "      <th>WindRate</th>\n",
       "      <th>Overall</th>\n",
       "      <th>Weather</th>\n",
       "      <th>Game Day</th>\n",
       "      <th>Primary Type</th>\n",
       "      <th>Cold</th>\n",
       "    </tr>\n",
       "    <tr>\n",
       "      <th>Date</th>\n",
       "      <th></th>\n",
       "      <th></th>\n",
       "      <th></th>\n",
       "      <th></th>\n",
       "      <th></th>\n",
       "      <th></th>\n",
       "      <th></th>\n",
       "      <th></th>\n",
       "      <th></th>\n",
       "      <th></th>\n",
       "      <th></th>\n",
       "    </tr>\n",
       "  </thead>\n",
       "  <tbody>\n",
       "    <tr>\n",
       "      <th>2013-01-11 17:00:00</th>\n",
       "      <td>2.0</td>\n",
       "      <td>broken clouds</td>\n",
       "      <td>3.71</td>\n",
       "      <td>2</td>\n",
       "      <td>0</td>\n",
       "      <td>3</td>\n",
       "      <td>5</td>\n",
       "      <td>Bad</td>\n",
       "      <td>NBA</td>\n",
       "      <td>vandalism</td>\n",
       "      <td>Bad</td>\n",
       "    </tr>\n",
       "    <tr>\n",
       "      <th>2013-01-11 17:00:00</th>\n",
       "      <td>2.0</td>\n",
       "      <td>broken clouds</td>\n",
       "      <td>3.71</td>\n",
       "      <td>2</td>\n",
       "      <td>0</td>\n",
       "      <td>3</td>\n",
       "      <td>5</td>\n",
       "      <td>Bad</td>\n",
       "      <td>NBA</td>\n",
       "      <td>vandalism</td>\n",
       "      <td>Bad</td>\n",
       "    </tr>\n",
       "    <tr>\n",
       "      <th>2013-01-11 17:00:00</th>\n",
       "      <td>2.0</td>\n",
       "      <td>broken clouds</td>\n",
       "      <td>3.71</td>\n",
       "      <td>2</td>\n",
       "      <td>0</td>\n",
       "      <td>3</td>\n",
       "      <td>5</td>\n",
       "      <td>Bad</td>\n",
       "      <td>NBA</td>\n",
       "      <td>vandalism</td>\n",
       "      <td>Bad</td>\n",
       "    </tr>\n",
       "    <tr>\n",
       "      <th>2013-01-11 17:00:00</th>\n",
       "      <td>2.0</td>\n",
       "      <td>broken clouds</td>\n",
       "      <td>3.71</td>\n",
       "      <td>2</td>\n",
       "      <td>0</td>\n",
       "      <td>3</td>\n",
       "      <td>5</td>\n",
       "      <td>Bad</td>\n",
       "      <td>NBA</td>\n",
       "      <td>vandalism</td>\n",
       "      <td>Bad</td>\n",
       "    </tr>\n",
       "    <tr>\n",
       "      <th>2013-01-11 17:00:00</th>\n",
       "      <td>2.0</td>\n",
       "      <td>broken clouds</td>\n",
       "      <td>3.71</td>\n",
       "      <td>2</td>\n",
       "      <td>0</td>\n",
       "      <td>3</td>\n",
       "      <td>5</td>\n",
       "      <td>Bad</td>\n",
       "      <td>NBA</td>\n",
       "      <td>vandalism</td>\n",
       "      <td>Bad</td>\n",
       "    </tr>\n",
       "  </tbody>\n",
       "</table>\n",
       "</div>"
      ],
      "text/plain": [
       "                     Wind Speed    Description  Celcius  DescRate  TempRate  \\\n",
       "Date                                                                          \n",
       "2013-01-11 17:00:00         2.0  broken clouds     3.71         2         0   \n",
       "2013-01-11 17:00:00         2.0  broken clouds     3.71         2         0   \n",
       "2013-01-11 17:00:00         2.0  broken clouds     3.71         2         0   \n",
       "2013-01-11 17:00:00         2.0  broken clouds     3.71         2         0   \n",
       "2013-01-11 17:00:00         2.0  broken clouds     3.71         2         0   \n",
       "\n",
       "                     WindRate  Overall Weather Game Day Primary Type Cold  \n",
       "Date                                                                       \n",
       "2013-01-11 17:00:00         3        5     Bad      NBA    vandalism  Bad  \n",
       "2013-01-11 17:00:00         3        5     Bad      NBA    vandalism  Bad  \n",
       "2013-01-11 17:00:00         3        5     Bad      NBA    vandalism  Bad  \n",
       "2013-01-11 17:00:00         3        5     Bad      NBA    vandalism  Bad  \n",
       "2013-01-11 17:00:00         3        5     Bad      NBA    vandalism  Bad  "
      ]
     },
     "execution_count": 142,
     "metadata": {},
     "output_type": "execute_result"
    }
   ],
   "source": [
    "bad.head()"
   ]
  },
  {
   "cell_type": "code",
   "execution_count": 143,
   "metadata": {
    "collapsed": true
   },
   "outputs": [],
   "source": [
    "vb = bad[bad[\"Cold\"] == \"Very bad\"]"
   ]
  },
  {
   "cell_type": "code",
   "execution_count": 144,
   "metadata": {},
   "outputs": [
    {
     "data": {
      "text/plain": [
       "Primary Type\n",
       "vandalism    120\n",
       "assault       57\n",
       "domestic      34\n",
       "Name: Primary Type, dtype: int64"
      ]
     },
     "execution_count": 144,
     "metadata": {},
     "output_type": "execute_result"
    }
   ],
   "source": [
    "vb1 = vb.groupby('Primary Type')[('Primary Type')].count()\n",
    "vb1.sort_values(ascending=False)"
   ]
  },
  {
   "cell_type": "code",
   "execution_count": 145,
   "metadata": {},
   "outputs": [
    {
     "data": {
      "text/plain": [
       "Primary Type\n",
       "assault      27.014218\n",
       "domestic     16.113744\n",
       "vandalism    56.872038\n",
       "Name: Primary Type, dtype: float64"
      ]
     },
     "execution_count": 145,
     "metadata": {},
     "output_type": "execute_result"
    }
   ],
   "source": [
    "vb.groupby('Primary Type')[('Primary Type')].size()*100/len(vb)"
   ]
  },
  {
   "cell_type": "code",
   "execution_count": 146,
   "metadata": {
    "collapsed": true
   },
   "outputs": [],
   "source": [
    "wvb = vb.groupby('Primary Type')[('Primary Type')].size()*100/len(vb)"
   ]
  },
  {
   "cell_type": "code",
   "execution_count": 147,
   "metadata": {},
   "outputs": [
    {
     "data": {
      "text/plain": [
       "Text(0.5,1,'Very bad weather crime percentage surrounding game')"
      ]
     },
     "execution_count": 147,
     "metadata": {},
     "output_type": "execute_result"
    },
    {
     "data": {
      "image/png": "[encoded data removed]",
      "text/plain": [
       "<matplotlib.figure.Figure at 0x21d1572b860>"
      ]
     },
     "metadata": {},
     "output_type": "display_data"
    }
   ],
   "source": [
    "wvb.plot(kind='pie', autopct='%1.1f%%', \n",
    " startangle=90, shadow=False, legend = False, fontsize=20, figsize = (10, 10))\n",
    "plt.title('Very bad weather crime percentage surrounding game')"
   ]
  },
  {
   "cell_type": "markdown",
   "metadata": {},
   "source": [
    " "
   ]
  },
  {
   "cell_type": "markdown",
   "metadata": {},
   "source": [
    "### Bad Weather and Domestic Violence"
   ]
  },
  {
   "cell_type": "code",
   "execution_count": 148,
   "metadata": {
    "collapsed": true
   },
   "outputs": [],
   "source": [
    "dbad = dch[dch[\"Weather\"] == \"Bad\"]"
   ]
  },
  {
   "cell_type": "code",
   "execution_count": 149,
   "metadata": {},
   "outputs": [
    {
     "data": {
      "text/plain": [
       "Primary Type\n",
       "vandalism    624\n",
       "assault      438\n",
       "domestic     321\n",
       "Name: Primary Type, dtype: int64"
      ]
     },
     "execution_count": 149,
     "metadata": {},
     "output_type": "execute_result"
    }
   ],
   "source": [
    "dbad1 = dbad.groupby('Primary Type')[('Primary Type')].count()\n",
    "dbad1.sort_values(ascending=False)"
   ]
  },
  {
   "cell_type": "code",
   "execution_count": 150,
   "metadata": {},
   "outputs": [
    {
     "data": {
      "text/plain": [
       "Primary Type\n",
       "assault      31.670282\n",
       "domestic     23.210412\n",
       "vandalism    45.119306\n",
       "Name: Primary Type, dtype: float64"
      ]
     },
     "execution_count": 150,
     "metadata": {},
     "output_type": "execute_result"
    }
   ],
   "source": [
    "dbad.groupby('Primary Type')[('Primary Type')].size() * 100 / len(dbad)"
   ]
  },
  {
   "cell_type": "code",
   "execution_count": 151,
   "metadata": {
    "collapsed": true
   },
   "outputs": [],
   "source": [
    "wdb = dbad.groupby('Primary Type')[('Primary Type')].size() * 100 / len(dbad)"
   ]
  },
  {
   "cell_type": "code",
   "execution_count": 152,
   "metadata": {},
   "outputs": [
    {
     "data": {
      "text/plain": [
       "Text(0.5,1,'Very bad weather crime percentage after game')"
      ]
     },
     "execution_count": 152,
     "metadata": {},
     "output_type": "execute_result"
    },
    {
     "data": {
      "image/png": "[encoded data removed]",
      "text/plain": [
       "<matplotlib.figure.Figure at 0x21d16627d30>"
      ]
     },
     "metadata": {},
     "output_type": "display_data"
    }
   ],
   "source": [
    "wdb.plot(kind='pie', autopct='%1.1f%%', \n",
    " startangle=90, shadow=False, legend = False, fontsize=20, figsize = (10, 10))\n",
    "plt.title('Very bad weather crime percentage after game')"
   ]
  },
  {
   "cell_type": "code",
   "execution_count": 153,
   "metadata": {},
   "outputs": [
    {
     "data": {
      "text/html": [
       "<div>\n",
       "<style>\n",
       "    .dataframe thead tr:only-child th {\n",
       "        text-align: right;\n",
       "    }\n",
       "\n",
       "    .dataframe thead th {\n",
       "        text-align: left;\n",
       "    }\n",
       "\n",
       "    .dataframe tbody tr th {\n",
       "        vertical-align: top;\n",
       "    }\n",
       "</style>\n",
       "<table border=\"1\" class=\"dataframe\">\n",
       "  <thead>\n",
       "    <tr style=\"text-align: right;\">\n",
       "      <th></th>\n",
       "      <th>Overall</th>\n",
       "      <th>Weather</th>\n",
       "      <th>Domestic</th>\n",
       "      <th>Primary Type</th>\n",
       "    </tr>\n",
       "    <tr>\n",
       "      <th>Date</th>\n",
       "      <th></th>\n",
       "      <th></th>\n",
       "      <th></th>\n",
       "      <th></th>\n",
       "    </tr>\n",
       "  </thead>\n",
       "  <tbody>\n",
       "    <tr>\n",
       "      <th>2013-01-02 01:00:00</th>\n",
       "      <td>5</td>\n",
       "      <td>Bad</td>\n",
       "      <td>NBA</td>\n",
       "      <td>assault</td>\n",
       "    </tr>\n",
       "    <tr>\n",
       "      <th>2013-01-11 21:00:00</th>\n",
       "      <td>5</td>\n",
       "      <td>Bad</td>\n",
       "      <td>NBA</td>\n",
       "      <td>domestic</td>\n",
       "    </tr>\n",
       "    <tr>\n",
       "      <th>2013-01-12 00:00:00</th>\n",
       "      <td>5</td>\n",
       "      <td>Bad</td>\n",
       "      <td>NBA</td>\n",
       "      <td>domestic</td>\n",
       "    </tr>\n",
       "    <tr>\n",
       "      <th>2013-01-12 00:00:00</th>\n",
       "      <td>5</td>\n",
       "      <td>Bad</td>\n",
       "      <td>NBA</td>\n",
       "      <td>assault</td>\n",
       "    </tr>\n",
       "    <tr>\n",
       "      <th>2013-01-12 01:00:00</th>\n",
       "      <td>5</td>\n",
       "      <td>Bad</td>\n",
       "      <td>NBA</td>\n",
       "      <td>assault</td>\n",
       "    </tr>\n",
       "  </tbody>\n",
       "</table>\n",
       "</div>"
      ],
      "text/plain": [
       "                     Overall Weather Domestic Primary Type\n",
       "Date                                                      \n",
       "2013-01-02 01:00:00        5     Bad      NBA      assault\n",
       "2013-01-11 21:00:00        5     Bad      NBA     domestic\n",
       "2013-01-12 00:00:00        5     Bad      NBA     domestic\n",
       "2013-01-12 00:00:00        5     Bad      NBA      assault\n",
       "2013-01-12 01:00:00        5     Bad      NBA      assault"
      ]
     },
     "execution_count": 153,
     "metadata": {},
     "output_type": "execute_result"
    }
   ],
   "source": [
    "dbad.head()"
   ]
  },
  {
   "cell_type": "code",
   "execution_count": 154,
   "metadata": {},
   "outputs": [
    {
     "name": "stderr",
     "output_type": "stream",
     "text": [
      "C:\\Users\\Cathal Mc Connell\\Anaconda3\\lib\\site-packages\\ipykernel_launcher.py:4: SettingWithCopyWarning: \n",
      "A value is trying to be set on a copy of a slice from a DataFrame.\n",
      "Try using .loc[row_indexer,col_indexer] = value instead\n",
      "\n",
      "See the caveats in the documentation: http://pandas.pydata.org/pandas-docs/stable/indexing.html#indexing-view-versus-copy\n",
      "  after removing the cwd from sys.path.\n"
     ]
    }
   ],
   "source": [
    "conditions = [\n",
    "    (dbad['Overall'] < 3)]\n",
    "choices = ['Very bad']\n",
    "dbad['Cold'] = np.select(conditions, choices, default='Bad')"
   ]
  },
  {
   "cell_type": "code",
   "execution_count": 155,
   "metadata": {},
   "outputs": [
    {
     "data": {
      "text/html": [
       "<div>\n",
       "<style>\n",
       "    .dataframe thead tr:only-child th {\n",
       "        text-align: right;\n",
       "    }\n",
       "\n",
       "    .dataframe thead th {\n",
       "        text-align: left;\n",
       "    }\n",
       "\n",
       "    .dataframe tbody tr th {\n",
       "        vertical-align: top;\n",
       "    }\n",
       "</style>\n",
       "<table border=\"1\" class=\"dataframe\">\n",
       "  <thead>\n",
       "    <tr style=\"text-align: right;\">\n",
       "      <th></th>\n",
       "      <th>Overall</th>\n",
       "      <th>Weather</th>\n",
       "      <th>Domestic</th>\n",
       "      <th>Primary Type</th>\n",
       "      <th>Cold</th>\n",
       "    </tr>\n",
       "    <tr>\n",
       "      <th>Date</th>\n",
       "      <th></th>\n",
       "      <th></th>\n",
       "      <th></th>\n",
       "      <th></th>\n",
       "      <th></th>\n",
       "    </tr>\n",
       "  </thead>\n",
       "  <tbody>\n",
       "    <tr>\n",
       "      <th>2013-01-02 01:00:00</th>\n",
       "      <td>5</td>\n",
       "      <td>Bad</td>\n",
       "      <td>NBA</td>\n",
       "      <td>assault</td>\n",
       "      <td>Bad</td>\n",
       "    </tr>\n",
       "    <tr>\n",
       "      <th>2013-01-11 21:00:00</th>\n",
       "      <td>5</td>\n",
       "      <td>Bad</td>\n",
       "      <td>NBA</td>\n",
       "      <td>domestic</td>\n",
       "      <td>Bad</td>\n",
       "    </tr>\n",
       "    <tr>\n",
       "      <th>2013-01-12 00:00:00</th>\n",
       "      <td>5</td>\n",
       "      <td>Bad</td>\n",
       "      <td>NBA</td>\n",
       "      <td>domestic</td>\n",
       "      <td>Bad</td>\n",
       "    </tr>\n",
       "    <tr>\n",
       "      <th>2013-01-12 00:00:00</th>\n",
       "      <td>5</td>\n",
       "      <td>Bad</td>\n",
       "      <td>NBA</td>\n",
       "      <td>assault</td>\n",
       "      <td>Bad</td>\n",
       "    </tr>\n",
       "    <tr>\n",
       "      <th>2013-01-12 01:00:00</th>\n",
       "      <td>5</td>\n",
       "      <td>Bad</td>\n",
       "      <td>NBA</td>\n",
       "      <td>assault</td>\n",
       "      <td>Bad</td>\n",
       "    </tr>\n",
       "  </tbody>\n",
       "</table>\n",
       "</div>"
      ],
      "text/plain": [
       "                     Overall Weather Domestic Primary Type Cold\n",
       "Date                                                           \n",
       "2013-01-02 01:00:00        5     Bad      NBA      assault  Bad\n",
       "2013-01-11 21:00:00        5     Bad      NBA     domestic  Bad\n",
       "2013-01-12 00:00:00        5     Bad      NBA     domestic  Bad\n",
       "2013-01-12 00:00:00        5     Bad      NBA      assault  Bad\n",
       "2013-01-12 01:00:00        5     Bad      NBA      assault  Bad"
      ]
     },
     "execution_count": 155,
     "metadata": {},
     "output_type": "execute_result"
    }
   ],
   "source": [
    "dbad.head()"
   ]
  },
  {
   "cell_type": "code",
   "execution_count": 156,
   "metadata": {
    "collapsed": true
   },
   "outputs": [],
   "source": [
    "dvb = dbad[dbad[\"Cold\"] == \"Very bad\"]"
   ]
  },
  {
   "cell_type": "code",
   "execution_count": 157,
   "metadata": {},
   "outputs": [
    {
     "data": {
      "text/plain": [
       "Primary Type\n",
       "vandalism    96\n",
       "assault      48\n",
       "domestic     36\n",
       "Name: Primary Type, dtype: int64"
      ]
     },
     "execution_count": 157,
     "metadata": {},
     "output_type": "execute_result"
    }
   ],
   "source": [
    "dvb1 = dvb.groupby('Primary Type')[('Primary Type')].count()\n",
    "dvb1.sort_values(ascending=False)"
   ]
  },
  {
   "cell_type": "code",
   "execution_count": 158,
   "metadata": {},
   "outputs": [
    {
     "data": {
      "text/plain": [
       "Primary Type\n",
       "assault      26.666667\n",
       "domestic     20.000000\n",
       "vandalism    53.333333\n",
       "Name: Primary Type, dtype: float64"
      ]
     },
     "execution_count": 158,
     "metadata": {},
     "output_type": "execute_result"
    }
   ],
   "source": [
    "dvb.groupby('Primary Type')[('Primary Type')].size()*100/len(dvb)"
   ]
  },
  {
   "cell_type": "code",
   "execution_count": 159,
   "metadata": {
    "collapsed": true
   },
   "outputs": [],
   "source": [
    "wdvb = dvb.groupby('Primary Type')[('Primary Type')].size()*100/len(dvb)"
   ]
  },
  {
   "cell_type": "code",
   "execution_count": 160,
   "metadata": {},
   "outputs": [
    {
     "data": {
      "text/plain": [
       "Text(0.5,1,'Very bad weather crime percentage after game')"
      ]
     },
     "execution_count": 160,
     "metadata": {},
     "output_type": "execute_result"
    },
    {
     "data": {
      "image/png": "[encoded data removed]",
      "text/plain": [
       "<matplotlib.figure.Figure at 0x21d15c832e8>"
      ]
     },
     "metadata": {},
     "output_type": "display_data"
    }
   ],
   "source": [
    "wdvb.plot(kind='pie', autopct='%1.1f%%', \n",
    " startangle=90, shadow=False, legend = False, fontsize=20, figsize = (10, 10))\n",
    "plt.title('Very bad weather crime percentage after game')"
   ]
  },
  {
   "cell_type": "markdown",
   "metadata": {},
   "source": [
    " "
   ]
  },
  {
   "cell_type": "markdown",
   "metadata": {},
   "source": [
    "# Moderate"
   ]
  },
  {
   "cell_type": "code",
   "execution_count": 161,
   "metadata": {
    "collapsed": true
   },
   "outputs": [],
   "source": [
    "mod = ch[ch[\"Weather\"] == \"Moderate\"]"
   ]
  },
  {
   "cell_type": "code",
   "execution_count": 162,
   "metadata": {},
   "outputs": [
    {
     "data": {
      "text/plain": [
       "Primary Type\n",
       "vandalism    660\n",
       "assault      443\n",
       "domestic     279\n",
       "Name: Primary Type, dtype: int64"
      ]
     },
     "execution_count": 162,
     "metadata": {},
     "output_type": "execute_result"
    }
   ],
   "source": [
    "mod1 = mod.groupby('Primary Type')[('Primary Type')].count()\n",
    "mod1.sort_values(ascending=False)"
   ]
  },
  {
   "cell_type": "code",
   "execution_count": 163,
   "metadata": {},
   "outputs": [
    {
     "data": {
      "text/plain": [
       "Primary Type\n",
       "assault      32.054993\n",
       "domestic     20.188133\n",
       "vandalism    47.756874\n",
       "Name: Primary Type, dtype: float64"
      ]
     },
     "execution_count": 163,
     "metadata": {},
     "output_type": "execute_result"
    }
   ],
   "source": [
    "mod.groupby('Primary Type')[('Primary Type')].size() * 100 / len(mod)"
   ]
  },
  {
   "cell_type": "code",
   "execution_count": 164,
   "metadata": {
    "collapsed": true
   },
   "outputs": [],
   "source": [
    "md = mod.groupby('Primary Type')[('Primary Type')].size() * 100 / len(mod)"
   ]
  },
  {
   "cell_type": "code",
   "execution_count": 165,
   "metadata": {},
   "outputs": [
    {
     "data": {
      "text/plain": [
       "Text(0.5,1,'Moderate weather crime percentage surrounding game')"
      ]
     },
     "execution_count": 165,
     "metadata": {},
     "output_type": "execute_result"
    },
    {
     "data": {
      "image/png": "[encoded data removed]",
      "text/plain": [
       "<matplotlib.figure.Figure at 0x21d166d0080>"
      ]
     },
     "metadata": {},
     "output_type": "display_data"
    }
   ],
   "source": [
    "md.plot(kind='pie', autopct='%1.1f%%', \n",
    " startangle=90, shadow=False, legend = False, fontsize=20, figsize = (10, 10))\n",
    "plt.title('Moderate weather crime percentage surrounding game')"
   ]
  },
  {
   "cell_type": "code",
   "execution_count": null,
   "metadata": {
    "collapsed": true
   },
   "outputs": [],
   "source": []
  },
  {
   "cell_type": "markdown",
   "metadata": {},
   "source": [
    "# Comparison"
   ]
  },
  {
   "cell_type": "markdown",
   "metadata": {},
   "source": [
    "### Surrounding Game (Focusing on Assault and Vandalism)"
   ]
  },
  {
   "cell_type": "code",
   "execution_count": 167,
   "metadata": {},
   "outputs": [
    {
     "data": {
      "image/png": "[encoded data removed]",
      "text/plain": [
       "<matplotlib.figure.Figure at 0x21d1737a0b8>"
      ]
     },
     "metadata": {},
     "output_type": "display_data"
    },
    {
     "data": {
      "image/png": "[encoded data removed]",
      "text/plain": [
       "<matplotlib.figure.Figure at 0x21d1739e550>"
      ]
     },
     "metadata": {},
     "output_type": "display_data"
    }
   ],
   "source": [
    "gd.plot(kind='pie', autopct='%1.1f%%', \n",
    "startangle=90, shadow=False, legend = False, fontsize=20, figsize = (8, 8))\n",
    "plt.title('Comparing Good (first) weather with Bad (second) weather percentages surrounding games')\n",
    "pylab.ylabel(' ')\n",
    "plt.show()\n",
    "\n",
    "bd.plot(kind='pie', autopct='%1.1f%%', \n",
    "startangle=90, shadow=False, legend = False, fontsize=20, figsize = (8, 8))\n",
    "pylab.ylabel(' ')\n",
    "plt.show()"
   ]
  },
  {
   "cell_type": "markdown",
   "metadata": {},
   "source": [
    "### After Game (Focusing on Domestic Violence)"
   ]
  },
  {
   "cell_type": "code",
   "execution_count": 169,
   "metadata": {},
   "outputs": [
    {
     "data": {
      "image/png": "[encoded data removed]",
      "text/plain": [
       "<matplotlib.figure.Figure at 0x21d179f72e8>"
      ]
     },
     "metadata": {},
     "output_type": "display_data"
    },
    {
     "data": {
      "image/png": "[encoded data removed]",
      "text/plain": [
       "<matplotlib.figure.Figure at 0x21d17a59d68>"
      ]
     },
     "metadata": {},
     "output_type": "display_data"
    }
   ],
   "source": [
    "dgd.plot(kind='pie', autopct='%1.1f%%', \n",
    " startangle=90, shadow=False, legend = False, fontsize=20, figsize = (8, 8))\n",
    "plt.title('Good (first) vs Bad (second) weather crime percentage after game')\n",
    "pylab.ylabel(' ')\n",
    "plt.show()\n",
    "\n",
    "wdb.plot(kind='pie', autopct='%1.1f%%', \n",
    " startangle=90, shadow=False, legend = False, fontsize=20, figsize = (8, 8))\n",
    "pylab.ylabel(' ')\n",
    "plt.show()"
   ]
  },
  {
   "cell_type": "code",
   "execution_count": null,
   "metadata": {
    "collapsed": true
   },
   "outputs": [],
   "source": []
  },
  {
   "cell_type": "markdown",
   "metadata": {},
   "source": [
    "### Domestic Overall"
   ]
  },
  {
   "cell_type": "code",
   "execution_count": 170,
   "metadata": {},
   "outputs": [
    {
     "data": {
      "text/plain": [
       "Primary Type\n",
       "assault      20.192308\n",
       "domestic     22.115385\n",
       "vandalism    57.692308\n",
       "Name: Weather, dtype: float64"
      ]
     },
     "execution_count": 170,
     "metadata": {},
     "output_type": "execute_result"
    }
   ],
   "source": [
    "r9 = dch[dch[\"Overall\"] == 9]\n",
    "r9.groupby('Primary Type')[('Weather')].size() * 100 / len(r9)"
   ]
  },
  {
   "cell_type": "code",
   "execution_count": 171,
   "metadata": {},
   "outputs": [
    {
     "data": {
      "text/plain": [
       "Primary Type\n",
       "assault      33.190578\n",
       "domestic     17.987152\n",
       "vandalism    48.822270\n",
       "Name: Weather, dtype: float64"
      ]
     },
     "execution_count": 171,
     "metadata": {},
     "output_type": "execute_result"
    }
   ],
   "source": [
    "r8 = dch[dch[\"Overall\"] == 8]\n",
    "r8.groupby('Primary Type')[('Weather')].size() * 100 / len(r8)"
   ]
  },
  {
   "cell_type": "code",
   "execution_count": 172,
   "metadata": {},
   "outputs": [
    {
     "data": {
      "text/plain": [
       "Primary Type\n",
       "assault      27.795527\n",
       "domestic     20.447284\n",
       "vandalism    51.757188\n",
       "Name: Weather, dtype: float64"
      ]
     },
     "execution_count": 172,
     "metadata": {},
     "output_type": "execute_result"
    }
   ],
   "source": [
    "r7 = dch[dch[\"Overall\"] == 7]\n",
    "r7.groupby('Primary Type')[('Weather')].size() * 100 / len(r7)"
   ]
  },
  {
   "cell_type": "code",
   "execution_count": 173,
   "metadata": {},
   "outputs": [
    {
     "data": {
      "text/plain": [
       "Primary Type\n",
       "assault      36.471990\n",
       "domestic     21.334923\n",
       "vandalism    42.193087\n",
       "Name: Weather, dtype: float64"
      ]
     },
     "execution_count": 173,
     "metadata": {},
     "output_type": "execute_result"
    }
   ],
   "source": [
    "r6 = dch[dch[\"Overall\"] == 6]\n",
    "r6.groupby('Primary Type')[('Weather')].size() * 100 / len(r6)"
   ]
  },
  {
   "cell_type": "code",
   "execution_count": 174,
   "metadata": {},
   "outputs": [
    {
     "data": {
      "text/plain": [
       "Primary Type\n",
       "assault      33.693694\n",
       "domestic     23.063063\n",
       "vandalism    43.243243\n",
       "Name: Weather, dtype: float64"
      ]
     },
     "execution_count": 174,
     "metadata": {},
     "output_type": "execute_result"
    }
   ],
   "source": [
    "r5 = dch[dch[\"Overall\"] == 5]\n",
    "r5.groupby('Primary Type')[('Weather')].size() * 100 / len(r5)"
   ]
  },
  {
   "cell_type": "code",
   "execution_count": 175,
   "metadata": {},
   "outputs": [
    {
     "data": {
      "text/plain": [
       "Primary Type\n",
       "assault      28.089888\n",
       "domestic     24.719101\n",
       "vandalism    47.191011\n",
       "Name: Weather, dtype: float64"
      ]
     },
     "execution_count": 175,
     "metadata": {},
     "output_type": "execute_result"
    }
   ],
   "source": [
    "r4 = dch[dch[\"Overall\"] == 4]\n",
    "r4.groupby('Primary Type')[('Weather')].size() * 100 / len(r4)"
   ]
  },
  {
   "cell_type": "code",
   "execution_count": 176,
   "metadata": {},
   "outputs": [
    {
     "data": {
      "text/plain": [
       "Primary Type\n",
       "assault      32.553191\n",
       "domestic     24.042553\n",
       "vandalism    43.404255\n",
       "Name: Weather, dtype: float64"
      ]
     },
     "execution_count": 176,
     "metadata": {},
     "output_type": "execute_result"
    }
   ],
   "source": [
    "r3 = dch[dch[\"Overall\"] == 3]\n",
    "r3.groupby('Primary Type')[('Weather')].size() * 100 / len(r3)"
   ]
  },
  {
   "cell_type": "code",
   "execution_count": 177,
   "metadata": {},
   "outputs": [
    {
     "data": {
      "text/plain": [
       "Primary Type\n",
       "assault      26.666667\n",
       "domestic     20.000000\n",
       "vandalism    53.333333\n",
       "Name: Weather, dtype: float64"
      ]
     },
     "execution_count": 177,
     "metadata": {},
     "output_type": "execute_result"
    }
   ],
   "source": [
    "r2 = dch[dch[\"Overall\"] == 2]\n",
    "r2.groupby('Primary Type')[('Weather')].size() * 100 / len(r2)"
   ]
  },
  {
   "cell_type": "code",
   "execution_count": 190,
   "metadata": {},
   "outputs": [
    {
     "data": {
      "image/png": "[encoded data removed]",
      "text/plain": [
       "<matplotlib.figure.Figure at 0x21d17a99ac8>"
      ]
     },
     "metadata": {},
     "output_type": "display_data"
    }
   ],
   "source": [
    "data = pd.DataFrame({  'Assault':[26.666667,32.553191,28.089888,33.693694,36.471990,27.795527,33.190578,20.192308], \n",
    "                     'Domestic':[20.000000,24.042553,24.719101,23.063063,21.334923,20.447284,17.987152,22.115385], \n",
    "                     'Vandalism':[53.333333,43.404255,47.191011,43.243243,42.193087,51.757188,48.822270,57.692308], }, \n",
    "                    index=range(2,10))\n",
    "\n",
    "data.plot(figsize = (20, 10))\n",
    "#ax.set(xlabel=\"Weather Grade\", ylabel=\"Crime percentage\")\n",
    "plt.xlabel('Weather Grade', fontsize=18)\n",
    "plt.ylabel('Crime Percentage', fontsize=18)\n",
    "plt.tick_params(axis='x', labelsize=15)\n",
    "plt.tick_params(axis='y', labelsize=15)\n",
    "plt.title('Crimes per Weather Grade', fontsize = 20)\n",
    "plt.show()"
   ]
  },
  {
   "cell_type": "markdown",
   "metadata": {},
   "source": [
    "There is a reduction in domestic violence as the weather gets better, from the weather grade of 4 to 8, and then a small rise to very good weather. This rise is probably skewed as there are very few days when the weather is very good so the percentages are effected easily."
   ]
  },
  {
   "cell_type": "code",
   "execution_count": null,
   "metadata": {
    "collapsed": true
   },
   "outputs": [],
   "source": []
  },
  {
   "cell_type": "markdown",
   "metadata": {},
   "source": [
    "### Assault and Vandalism Overall"
   ]
  },
  {
   "cell_type": "code",
   "execution_count": 179,
   "metadata": {},
   "outputs": [
    {
     "data": {
      "text/plain": [
       "Primary Type\n",
       "assault      24.576271\n",
       "domestic     19.491525\n",
       "vandalism    55.932203\n",
       "Name: Weather, dtype: float64"
      ]
     },
     "execution_count": 179,
     "metadata": {},
     "output_type": "execute_result"
    }
   ],
   "source": [
    "r9 = ch[ch[\"Overall\"] == 9]\n",
    "r9.groupby('Primary Type')[('Weather')].size() * 100 / len(r9)"
   ]
  },
  {
   "cell_type": "code",
   "execution_count": 180,
   "metadata": {},
   "outputs": [
    {
     "data": {
      "text/plain": [
       "Primary Type\n",
       "assault      33.081897\n",
       "domestic     19.073276\n",
       "vandalism    47.844828\n",
       "Name: Weather, dtype: float64"
      ]
     },
     "execution_count": 180,
     "metadata": {},
     "output_type": "execute_result"
    }
   ],
   "source": [
    "r8 = ch[ch[\"Overall\"] == 8]\n",
    "r8.groupby('Primary Type')[('Weather')].size() * 100 / len(r8)"
   ]
  },
  {
   "cell_type": "code",
   "execution_count": 181,
   "metadata": {},
   "outputs": [
    {
     "data": {
      "text/plain": [
       "Primary Type\n",
       "assault      25.503356\n",
       "domestic     19.463087\n",
       "vandalism    55.033557\n",
       "Name: Weather, dtype: float64"
      ]
     },
     "execution_count": 181,
     "metadata": {},
     "output_type": "execute_result"
    }
   ],
   "source": [
    "r7 = ch[ch[\"Overall\"] == 7]\n",
    "r7.groupby('Primary Type')[('Weather')].size() * 100 / len(r7)"
   ]
  },
  {
   "cell_type": "code",
   "execution_count": 182,
   "metadata": {},
   "outputs": [
    {
     "data": {
      "text/plain": [
       "Primary Type\n",
       "assault      35.187166\n",
       "domestic     20.534759\n",
       "vandalism    44.278075\n",
       "Name: Weather, dtype: float64"
      ]
     },
     "execution_count": 182,
     "metadata": {},
     "output_type": "execute_result"
    }
   ],
   "source": [
    "r6 = ch[ch[\"Overall\"] == 6]\n",
    "r6.groupby('Primary Type')[('Weather')].size() * 100 / len(r6)"
   ]
  },
  {
   "cell_type": "code",
   "execution_count": 183,
   "metadata": {},
   "outputs": [
    {
     "data": {
      "text/plain": [
       "Primary Type\n",
       "assault      33.609272\n",
       "domestic     21.688742\n",
       "vandalism    44.701987\n",
       "Name: Weather, dtype: float64"
      ]
     },
     "execution_count": 183,
     "metadata": {},
     "output_type": "execute_result"
    }
   ],
   "source": [
    "r5 = ch[ch[\"Overall\"] == 5]\n",
    "r5.groupby('Primary Type')[('Weather')].size() * 100 / len(r5)"
   ]
  },
  {
   "cell_type": "code",
   "execution_count": 184,
   "metadata": {},
   "outputs": [
    {
     "data": {
      "text/plain": [
       "Primary Type\n",
       "assault      24.663677\n",
       "domestic     24.215247\n",
       "vandalism    51.121076\n",
       "Name: Weather, dtype: float64"
      ]
     },
     "execution_count": 184,
     "metadata": {},
     "output_type": "execute_result"
    }
   ],
   "source": [
    "r4 = ch[ch[\"Overall\"] == 4]\n",
    "r4.groupby('Primary Type')[('Weather')].size() * 100 / len(r4)"
   ]
  },
  {
   "cell_type": "code",
   "execution_count": 185,
   "metadata": {},
   "outputs": [
    {
     "data": {
      "text/plain": [
       "Primary Type\n",
       "assault      31.053604\n",
       "domestic     22.365989\n",
       "vandalism    46.580407\n",
       "Name: Weather, dtype: float64"
      ]
     },
     "execution_count": 185,
     "metadata": {},
     "output_type": "execute_result"
    }
   ],
   "source": [
    "r3 = ch[ch[\"Overall\"] == 3]\n",
    "r3.groupby('Primary Type')[('Weather')].size() * 100 / len(r3)"
   ]
  },
  {
   "cell_type": "code",
   "execution_count": 186,
   "metadata": {},
   "outputs": [
    {
     "data": {
      "text/plain": [
       "Primary Type\n",
       "assault      27.014218\n",
       "domestic     16.113744\n",
       "vandalism    56.872038\n",
       "Name: Weather, dtype: float64"
      ]
     },
     "execution_count": 186,
     "metadata": {},
     "output_type": "execute_result"
    }
   ],
   "source": [
    "r2 = ch[ch[\"Overall\"] == 2]\n",
    "r2.groupby('Primary Type')[('Weather')].size() * 100 / len(r2)"
   ]
  },
  {
   "cell_type": "code",
   "execution_count": 189,
   "metadata": {},
   "outputs": [
    {
     "data": {
      "image/png": "[encoded data removed]",
      "text/plain": [
       "<matplotlib.figure.Figure at 0x21d17bd0400>"
      ]
     },
     "metadata": {},
     "output_type": "display_data"
    }
   ],
   "source": [
    "data = pd.DataFrame({  'Assault':[27.014218,31.053604,24.663677,33.609272,35.187166,25.503356,33.081897,24.576271], \n",
    "                     'Domestic':[16.113744,22.365989,24.215247,21.688742,20.534759,19.463087,19.463087,19.491525], \n",
    "                     'Vandalism':[56.872038,46.580407,51.121076,44.701987,44.278075,55.033557,55.033557,55.932203], }, \n",
    "                    index=range(2,10))\n",
    "\n",
    "data.plot(figsize = (20, 10))\n",
    "#ax.set(xlabel=\"Weather Grade\", ylabel=\"Crime percentage\")\n",
    "plt.xlabel('Weather Grade', fontsize=18)\n",
    "plt.ylabel('Crime Percentage', fontsize=18)\n",
    "plt.tick_params(axis='x', labelsize=15)\n",
    "plt.tick_params(axis='y', labelsize=15)\n",
    "plt.title('Crimes per Weather Grade', fontsize = 20)\n",
    "plt.show()"
   ]
  },
  {
   "cell_type": "markdown",
   "metadata": {},
   "source": [
    "Focusing on Assault and Vandalism we see some peculiar things. It sees vandalism is at it's highest when the weather is extreme, either very bad or very good. Assault levels are inconsistent. It is nearly directly opposite to vandalism, it is at its highest in moderate weather and at its lowest during extreme weather. "
   ]
  },
  {
   "cell_type": "code",
   "execution_count": null,
   "metadata": {
    "collapsed": true
   },
   "outputs": [],
   "source": []
  },
  {
   "cell_type": "code",
   "execution_count": null,
   "metadata": {
    "collapsed": true
   },
   "outputs": [],
   "source": []
  },
  {
   "cell_type": "code",
   "execution_count": null,
   "metadata": {
    "collapsed": true
   },
   "outputs": [],
   "source": []
  },
  {
   "cell_type": "code",
   "execution_count": null,
   "metadata": {
    "collapsed": true
   },
   "outputs": [],
   "source": []
  },
  {
   "cell_type": "code",
   "execution_count": null,
   "metadata": {
    "collapsed": true
   },
   "outputs": [],
   "source": []
  }
 ],
 "metadata": {
  "kernelspec": {
   "display_name": "Python 3",
   "language": "python",
   "name": "python3"
  },
  "language_info": {
   "codemirror_mode": {
    "name": "ipython",
    "version": 3
   },
   "file_extension": ".py",
   "mimetype": "text/x-python",
   "name": "python",
   "nbconvert_exporter": "python",
   "pygments_lexer": "ipython3",
   "version": "3.6.3"
  }
 },
 "nbformat": 4,
 "nbformat_minor": 2
}
