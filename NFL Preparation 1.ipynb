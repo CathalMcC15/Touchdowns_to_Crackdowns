{
 "cells": [
  {
   "cell_type": "markdown",
   "metadata": {},
   "source": [
    "# NFL Preparation "
   ]
  },
  {
   "cell_type": "code",
   "execution_count": 89,
   "metadata": {
    "collapsed": true
   },
   "outputs": [],
   "source": [
    "import os.path\n",
    "import datetime\n",
    "import pandas as pd\n",
    "import numpy as np\n",
    "from operator import methodcaller\n",
    "import matplotlib\n",
    "import matplotlib.pyplot as plt\n",
    "%matplotlib inline"
   ]
  },
  {
   "cell_type": "code",
   "execution_count": 90,
   "metadata": {
    "collapsed": true
   },
   "outputs": [],
   "source": [
    "if not os.path.exists( \"../../data/raw/NFL07-14.csv\" ):\n",
    "    print(\"Missing dataset file\")"
   ]
  },
  {
   "cell_type": "code",
   "execution_count": 91,
   "metadata": {},
   "outputs": [
    {
     "data": {
      "text/plain": [
       "(2135, 7)"
      ]
     },
     "execution_count": 91,
     "metadata": {},
     "output_type": "execute_result"
    }
   ],
   "source": [
    "nfl = pd.read_csv(\"../../data/raw/NFL07-14.csv\")\n",
    "nfl.shape"
   ]
  },
  {
   "cell_type": "code",
   "execution_count": 92,
   "metadata": {},
   "outputs": [
    {
     "name": "stdout",
     "output_type": "stream",
     "text": [
      "<class 'pandas.core.frame.DataFrame'>\n",
      "RangeIndex: 2135 entries, 0 to 2134\n",
      "Data columns (total 7 columns):\n",
      "season            2135 non-null int64\n",
      "week              2135 non-null int64\n",
      "kickoff           2135 non-null object\n",
      "home_team         2135 non-null object\n",
      "home_score        2135 non-null int64\n",
      "visitors_score    2135 non-null int64\n",
      "visiting_team     2135 non-null object\n",
      "dtypes: int64(4), object(3)\n",
      "memory usage: 116.8+ KB\n"
     ]
    }
   ],
   "source": [
    "nfl.info()"
   ]
  },
  {
   "cell_type": "code",
   "execution_count": 93,
   "metadata": {
    "collapsed": true
   },
   "outputs": [],
   "source": [
    "nfl['kickoff'] = pd.to_datetime(nfl['kickoff'])"
   ]
  },
  {
   "cell_type": "code",
   "execution_count": 94,
   "metadata": {
    "collapsed": true
   },
   "outputs": [],
   "source": [
    "nfl = nfl.set_index('kickoff')"
   ]
  },
  {
   "cell_type": "code",
   "execution_count": 95,
   "metadata": {},
   "outputs": [
    {
     "name": "stdout",
     "output_type": "stream",
     "text": [
      "<class 'pandas.core.frame.DataFrame'>\n",
      "DatetimeIndex: 2135 entries, 2007-09-06 00:00:00 to 2015-02-01 23:30:00\n",
      "Data columns (total 6 columns):\n",
      "season            2135 non-null int64\n",
      "week              2135 non-null int64\n",
      "home_team         2135 non-null object\n",
      "home_score        2135 non-null int64\n",
      "visitors_score    2135 non-null int64\n",
      "visiting_team     2135 non-null object\n",
      "dtypes: int64(4), object(2)\n",
      "memory usage: 116.8+ KB\n"
     ]
    }
   ],
   "source": [
    "nfl.info()"
   ]
  },
  {
   "cell_type": "code",
   "execution_count": 96,
   "metadata": {},
   "outputs": [
    {
     "data": {
      "text/html": [
       "<div>\n",
       "<style>\n",
       "    .dataframe thead tr:only-child th {\n",
       "        text-align: right;\n",
       "    }\n",
       "\n",
       "    .dataframe thead th {\n",
       "        text-align: left;\n",
       "    }\n",
       "\n",
       "    .dataframe tbody tr th {\n",
       "        vertical-align: top;\n",
       "    }\n",
       "</style>\n",
       "<table border=\"1\" class=\"dataframe\">\n",
       "  <thead>\n",
       "    <tr style=\"text-align: right;\">\n",
       "      <th></th>\n",
       "      <th>season</th>\n",
       "      <th>week</th>\n",
       "      <th>home_team</th>\n",
       "      <th>home_score</th>\n",
       "      <th>visitors_score</th>\n",
       "      <th>visiting_team</th>\n",
       "    </tr>\n",
       "    <tr>\n",
       "      <th>kickoff</th>\n",
       "      <th></th>\n",
       "      <th></th>\n",
       "      <th></th>\n",
       "      <th></th>\n",
       "      <th></th>\n",
       "      <th></th>\n",
       "    </tr>\n",
       "  </thead>\n",
       "  <tbody>\n",
       "    <tr>\n",
       "      <th>2015-01-11 18:05:00</th>\n",
       "      <td>2014</td>\n",
       "      <td>19</td>\n",
       "      <td>Packers</td>\n",
       "      <td>26</td>\n",
       "      <td>21</td>\n",
       "      <td>Cowboys</td>\n",
       "    </tr>\n",
       "    <tr>\n",
       "      <th>2015-01-11 21:40:00</th>\n",
       "      <td>2014</td>\n",
       "      <td>19</td>\n",
       "      <td>Broncos</td>\n",
       "      <td>13</td>\n",
       "      <td>24</td>\n",
       "      <td>Colts</td>\n",
       "    </tr>\n",
       "    <tr>\n",
       "      <th>2015-01-18 20:00:00</th>\n",
       "      <td>2014</td>\n",
       "      <td>20</td>\n",
       "      <td>Seahawks</td>\n",
       "      <td>28</td>\n",
       "      <td>22</td>\n",
       "      <td>Packers</td>\n",
       "    </tr>\n",
       "    <tr>\n",
       "      <th>2015-01-18 23:30:00</th>\n",
       "      <td>2014</td>\n",
       "      <td>20</td>\n",
       "      <td>Patriots</td>\n",
       "      <td>45</td>\n",
       "      <td>7</td>\n",
       "      <td>Colts</td>\n",
       "    </tr>\n",
       "    <tr>\n",
       "      <th>2015-02-01 23:30:00</th>\n",
       "      <td>2014</td>\n",
       "      <td>21</td>\n",
       "      <td>Seahawks</td>\n",
       "      <td>24</td>\n",
       "      <td>28</td>\n",
       "      <td>Patriots</td>\n",
       "    </tr>\n",
       "  </tbody>\n",
       "</table>\n",
       "</div>"
      ],
      "text/plain": [
       "                     season  week home_team  home_score  visitors_score  \\\n",
       "kickoff                                                                   \n",
       "2015-01-11 18:05:00    2014    19   Packers          26              21   \n",
       "2015-01-11 21:40:00    2014    19   Broncos          13              24   \n",
       "2015-01-18 20:00:00    2014    20  Seahawks          28              22   \n",
       "2015-01-18 23:30:00    2014    20  Patriots          45               7   \n",
       "2015-02-01 23:30:00    2014    21  Seahawks          24              28   \n",
       "\n",
       "                    visiting_team  \n",
       "kickoff                            \n",
       "2015-01-11 18:05:00       Cowboys  \n",
       "2015-01-11 21:40:00         Colts  \n",
       "2015-01-18 20:00:00       Packers  \n",
       "2015-01-18 23:30:00         Colts  \n",
       "2015-02-01 23:30:00      Patriots  "
      ]
     },
     "execution_count": 96,
     "metadata": {},
     "output_type": "execute_result"
    }
   ],
   "source": [
    "nfl.tail()"
   ]
  },
  {
   "cell_type": "code",
   "execution_count": 97,
   "metadata": {
    "collapsed": true
   },
   "outputs": [],
   "source": [
    "nfl = nfl.drop(nfl.columns[[0, 1]], axis=1)\n"
   ]
  },
  {
   "cell_type": "code",
   "execution_count": 98,
   "metadata": {},
   "outputs": [
    {
     "data": {
      "text/html": [
       "<div>\n",
       "<style>\n",
       "    .dataframe thead tr:only-child th {\n",
       "        text-align: right;\n",
       "    }\n",
       "\n",
       "    .dataframe thead th {\n",
       "        text-align: left;\n",
       "    }\n",
       "\n",
       "    .dataframe tbody tr th {\n",
       "        vertical-align: top;\n",
       "    }\n",
       "</style>\n",
       "<table border=\"1\" class=\"dataframe\">\n",
       "  <thead>\n",
       "    <tr style=\"text-align: right;\">\n",
       "      <th></th>\n",
       "      <th>home_team</th>\n",
       "      <th>home_score</th>\n",
       "      <th>visitors_score</th>\n",
       "      <th>visiting_team</th>\n",
       "    </tr>\n",
       "    <tr>\n",
       "      <th>kickoff</th>\n",
       "      <th></th>\n",
       "      <th></th>\n",
       "      <th></th>\n",
       "      <th></th>\n",
       "    </tr>\n",
       "  </thead>\n",
       "  <tbody>\n",
       "    <tr>\n",
       "      <th>2007-09-06</th>\n",
       "      <td>Colts</td>\n",
       "      <td>41</td>\n",
       "      <td>10</td>\n",
       "      <td>Saints</td>\n",
       "    </tr>\n",
       "    <tr>\n",
       "      <th>2007-09-09</th>\n",
       "      <td>Bills</td>\n",
       "      <td>14</td>\n",
       "      <td>15</td>\n",
       "      <td>Broncos</td>\n",
       "    </tr>\n",
       "    <tr>\n",
       "      <th>2007-09-09</th>\n",
       "      <td>Browns</td>\n",
       "      <td>7</td>\n",
       "      <td>34</td>\n",
       "      <td>Steelers</td>\n",
       "    </tr>\n",
       "    <tr>\n",
       "      <th>2007-09-09</th>\n",
       "      <td>Chargers</td>\n",
       "      <td>14</td>\n",
       "      <td>3</td>\n",
       "      <td>Bears</td>\n",
       "    </tr>\n",
       "    <tr>\n",
       "      <th>2007-09-09</th>\n",
       "      <td>Cowboys</td>\n",
       "      <td>45</td>\n",
       "      <td>35</td>\n",
       "      <td>Giants</td>\n",
       "    </tr>\n",
       "  </tbody>\n",
       "</table>\n",
       "</div>"
      ],
      "text/plain": [
       "           home_team  home_score  visitors_score visiting_team\n",
       "kickoff                                                       \n",
       "2007-09-06     Colts          41              10        Saints\n",
       "2007-09-09     Bills          14              15       Broncos\n",
       "2007-09-09    Browns           7              34      Steelers\n",
       "2007-09-09  Chargers          14               3         Bears\n",
       "2007-09-09   Cowboys          45              35        Giants"
      ]
     },
     "execution_count": 98,
     "metadata": {},
     "output_type": "execute_result"
    }
   ],
   "source": [
    "nfl.head()"
   ]
  },
  {
   "cell_type": "code",
   "execution_count": 99,
   "metadata": {},
   "outputs": [
    {
     "data": {
      "text/html": [
       "<div>\n",
       "<style>\n",
       "    .dataframe thead tr:only-child th {\n",
       "        text-align: right;\n",
       "    }\n",
       "\n",
       "    .dataframe thead th {\n",
       "        text-align: left;\n",
       "    }\n",
       "\n",
       "    .dataframe tbody tr th {\n",
       "        vertical-align: top;\n",
       "    }\n",
       "</style>\n",
       "<table border=\"1\" class=\"dataframe\">\n",
       "  <thead>\n",
       "    <tr style=\"text-align: right;\">\n",
       "      <th></th>\n",
       "      <th>home_team</th>\n",
       "      <th>home_score</th>\n",
       "      <th>visitors_score</th>\n",
       "      <th>visiting_team</th>\n",
       "    </tr>\n",
       "    <tr>\n",
       "      <th>kickoff</th>\n",
       "      <th></th>\n",
       "      <th></th>\n",
       "      <th></th>\n",
       "      <th></th>\n",
       "    </tr>\n",
       "  </thead>\n",
       "  <tbody>\n",
       "    <tr>\n",
       "      <th>2015-01-11 18:05:00</th>\n",
       "      <td>Packers</td>\n",
       "      <td>26</td>\n",
       "      <td>21</td>\n",
       "      <td>Cowboys</td>\n",
       "    </tr>\n",
       "    <tr>\n",
       "      <th>2015-01-11 21:40:00</th>\n",
       "      <td>Broncos</td>\n",
       "      <td>13</td>\n",
       "      <td>24</td>\n",
       "      <td>Colts</td>\n",
       "    </tr>\n",
       "    <tr>\n",
       "      <th>2015-01-18 20:00:00</th>\n",
       "      <td>Seahawks</td>\n",
       "      <td>28</td>\n",
       "      <td>22</td>\n",
       "      <td>Packers</td>\n",
       "    </tr>\n",
       "    <tr>\n",
       "      <th>2015-01-18 23:30:00</th>\n",
       "      <td>Patriots</td>\n",
       "      <td>45</td>\n",
       "      <td>7</td>\n",
       "      <td>Colts</td>\n",
       "    </tr>\n",
       "    <tr>\n",
       "      <th>2015-02-01 23:30:00</th>\n",
       "      <td>Seahawks</td>\n",
       "      <td>24</td>\n",
       "      <td>28</td>\n",
       "      <td>Patriots</td>\n",
       "    </tr>\n",
       "  </tbody>\n",
       "</table>\n",
       "</div>"
      ],
      "text/plain": [
       "                    home_team  home_score  visitors_score visiting_team\n",
       "kickoff                                                                \n",
       "2015-01-11 18:05:00   Packers          26              21       Cowboys\n",
       "2015-01-11 21:40:00   Broncos          13              24         Colts\n",
       "2015-01-18 20:00:00  Seahawks          28              22       Packers\n",
       "2015-01-18 23:30:00  Patriots          45               7         Colts\n",
       "2015-02-01 23:30:00  Seahawks          24              28      Patriots"
      ]
     },
     "execution_count": 99,
     "metadata": {},
     "output_type": "execute_result"
    }
   ],
   "source": [
    "nfl.tail()"
   ]
  },
  {
   "cell_type": "code",
   "execution_count": 100,
   "metadata": {},
   "outputs": [
    {
     "name": "stdout",
     "output_type": "stream",
     "text": [
      "<class 'pandas.core.frame.DataFrame'>\n",
      "DatetimeIndex: 2135 entries, 2007-09-06 00:00:00 to 2015-02-01 23:30:00\n",
      "Data columns (total 4 columns):\n",
      "home_team         2135 non-null object\n",
      "home_score        2135 non-null int64\n",
      "visitors_score    2135 non-null int64\n",
      "visiting_team     2135 non-null object\n",
      "dtypes: int64(2), object(2)\n",
      "memory usage: 83.4+ KB\n"
     ]
    }
   ],
   "source": [
    "nfl.info()"
   ]
  },
  {
   "cell_type": "code",
   "execution_count": 101,
   "metadata": {},
   "outputs": [
    {
     "data": {
      "text/plain": [
       "(2135, 4)"
      ]
     },
     "execution_count": 101,
     "metadata": {},
     "output_type": "execute_result"
    }
   ],
   "source": [
    "nfl.shape"
   ]
  },
  {
   "cell_type": "code",
   "execution_count": 102,
   "metadata": {},
   "outputs": [
    {
     "data": {
      "text/plain": [
       "home_team         0\n",
       "home_score        0\n",
       "visitors_score    0\n",
       "visiting_team     0\n",
       "dtype: int64"
      ]
     },
     "execution_count": 102,
     "metadata": {},
     "output_type": "execute_result"
    }
   ],
   "source": [
    "nfl.isnull().sum()"
   ]
  },
  {
   "cell_type": "code",
   "execution_count": 103,
   "metadata": {
    "collapsed": true
   },
   "outputs": [],
   "source": [
    "conditions = [\n",
    "    (nfl['visitors_score'] < nfl['home_score']),\n",
    "    (nfl['visitors_score'] == nfl['home_score'])]\n",
    "choices = ['Home Win', 'Draw']\n",
    "nfl['Result'] = np.select(conditions, choices, default='Away Win')"
   ]
  },
  {
   "cell_type": "code",
   "execution_count": 104,
   "metadata": {},
   "outputs": [
    {
     "data": {
      "text/html": [
       "<div>\n",
       "<style>\n",
       "    .dataframe thead tr:only-child th {\n",
       "        text-align: right;\n",
       "    }\n",
       "\n",
       "    .dataframe thead th {\n",
       "        text-align: left;\n",
       "    }\n",
       "\n",
       "    .dataframe tbody tr th {\n",
       "        vertical-align: top;\n",
       "    }\n",
       "</style>\n",
       "<table border=\"1\" class=\"dataframe\">\n",
       "  <thead>\n",
       "    <tr style=\"text-align: right;\">\n",
       "      <th></th>\n",
       "      <th>home_team</th>\n",
       "      <th>home_score</th>\n",
       "      <th>visitors_score</th>\n",
       "      <th>visiting_team</th>\n",
       "      <th>Result</th>\n",
       "    </tr>\n",
       "    <tr>\n",
       "      <th>kickoff</th>\n",
       "      <th></th>\n",
       "      <th></th>\n",
       "      <th></th>\n",
       "      <th></th>\n",
       "      <th></th>\n",
       "    </tr>\n",
       "  </thead>\n",
       "  <tbody>\n",
       "    <tr>\n",
       "      <th>2007-09-06</th>\n",
       "      <td>Colts</td>\n",
       "      <td>41</td>\n",
       "      <td>10</td>\n",
       "      <td>Saints</td>\n",
       "      <td>Home Win</td>\n",
       "    </tr>\n",
       "    <tr>\n",
       "      <th>2007-09-09</th>\n",
       "      <td>Bills</td>\n",
       "      <td>14</td>\n",
       "      <td>15</td>\n",
       "      <td>Broncos</td>\n",
       "      <td>Away Win</td>\n",
       "    </tr>\n",
       "    <tr>\n",
       "      <th>2007-09-09</th>\n",
       "      <td>Browns</td>\n",
       "      <td>7</td>\n",
       "      <td>34</td>\n",
       "      <td>Steelers</td>\n",
       "      <td>Away Win</td>\n",
       "    </tr>\n",
       "    <tr>\n",
       "      <th>2007-09-09</th>\n",
       "      <td>Chargers</td>\n",
       "      <td>14</td>\n",
       "      <td>3</td>\n",
       "      <td>Bears</td>\n",
       "      <td>Home Win</td>\n",
       "    </tr>\n",
       "    <tr>\n",
       "      <th>2007-09-09</th>\n",
       "      <td>Cowboys</td>\n",
       "      <td>45</td>\n",
       "      <td>35</td>\n",
       "      <td>Giants</td>\n",
       "      <td>Home Win</td>\n",
       "    </tr>\n",
       "  </tbody>\n",
       "</table>\n",
       "</div>"
      ],
      "text/plain": [
       "           home_team  home_score  visitors_score visiting_team    Result\n",
       "kickoff                                                                 \n",
       "2007-09-06     Colts          41              10        Saints  Home Win\n",
       "2007-09-09     Bills          14              15       Broncos  Away Win\n",
       "2007-09-09    Browns           7              34      Steelers  Away Win\n",
       "2007-09-09  Chargers          14               3         Bears  Home Win\n",
       "2007-09-09   Cowboys          45              35        Giants  Home Win"
      ]
     },
     "execution_count": 104,
     "metadata": {},
     "output_type": "execute_result"
    }
   ],
   "source": [
    "nfl.head()"
   ]
  },
  {
   "cell_type": "code",
   "execution_count": 105,
   "metadata": {
    "collapsed": true
   },
   "outputs": [],
   "source": [
    "pt = nfl.groupby('visiting_team')[('home_team')].count()"
   ]
  },
  {
   "cell_type": "code",
   "execution_count": 106,
   "metadata": {
    "collapsed": true
   },
   "outputs": [],
   "source": [
    "nfl['Difference'] = nfl['home_score'] - nfl['visitors_score']"
   ]
  },
  {
   "cell_type": "code",
   "execution_count": 107,
   "metadata": {},
   "outputs": [
    {
     "data": {
      "text/html": [
       "<div>\n",
       "<style>\n",
       "    .dataframe thead tr:only-child th {\n",
       "        text-align: right;\n",
       "    }\n",
       "\n",
       "    .dataframe thead th {\n",
       "        text-align: left;\n",
       "    }\n",
       "\n",
       "    .dataframe tbody tr th {\n",
       "        vertical-align: top;\n",
       "    }\n",
       "</style>\n",
       "<table border=\"1\" class=\"dataframe\">\n",
       "  <thead>\n",
       "    <tr style=\"text-align: right;\">\n",
       "      <th></th>\n",
       "      <th>home_team</th>\n",
       "      <th>home_score</th>\n",
       "      <th>visitors_score</th>\n",
       "      <th>visiting_team</th>\n",
       "      <th>Result</th>\n",
       "      <th>Difference</th>\n",
       "    </tr>\n",
       "    <tr>\n",
       "      <th>kickoff</th>\n",
       "      <th></th>\n",
       "      <th></th>\n",
       "      <th></th>\n",
       "      <th></th>\n",
       "      <th></th>\n",
       "      <th></th>\n",
       "    </tr>\n",
       "  </thead>\n",
       "  <tbody>\n",
       "    <tr>\n",
       "      <th>2007-09-06</th>\n",
       "      <td>Colts</td>\n",
       "      <td>41</td>\n",
       "      <td>10</td>\n",
       "      <td>Saints</td>\n",
       "      <td>Home Win</td>\n",
       "      <td>31</td>\n",
       "    </tr>\n",
       "    <tr>\n",
       "      <th>2007-09-09</th>\n",
       "      <td>Bills</td>\n",
       "      <td>14</td>\n",
       "      <td>15</td>\n",
       "      <td>Broncos</td>\n",
       "      <td>Away Win</td>\n",
       "      <td>-1</td>\n",
       "    </tr>\n",
       "    <tr>\n",
       "      <th>2007-09-09</th>\n",
       "      <td>Browns</td>\n",
       "      <td>7</td>\n",
       "      <td>34</td>\n",
       "      <td>Steelers</td>\n",
       "      <td>Away Win</td>\n",
       "      <td>-27</td>\n",
       "    </tr>\n",
       "    <tr>\n",
       "      <th>2007-09-09</th>\n",
       "      <td>Chargers</td>\n",
       "      <td>14</td>\n",
       "      <td>3</td>\n",
       "      <td>Bears</td>\n",
       "      <td>Home Win</td>\n",
       "      <td>11</td>\n",
       "    </tr>\n",
       "    <tr>\n",
       "      <th>2007-09-09</th>\n",
       "      <td>Cowboys</td>\n",
       "      <td>45</td>\n",
       "      <td>35</td>\n",
       "      <td>Giants</td>\n",
       "      <td>Home Win</td>\n",
       "      <td>10</td>\n",
       "    </tr>\n",
       "  </tbody>\n",
       "</table>\n",
       "</div>"
      ],
      "text/plain": [
       "           home_team  home_score  visitors_score visiting_team    Result  \\\n",
       "kickoff                                                                    \n",
       "2007-09-06     Colts          41              10        Saints  Home Win   \n",
       "2007-09-09     Bills          14              15       Broncos  Away Win   \n",
       "2007-09-09    Browns           7              34      Steelers  Away Win   \n",
       "2007-09-09  Chargers          14               3         Bears  Home Win   \n",
       "2007-09-09   Cowboys          45              35        Giants  Home Win   \n",
       "\n",
       "            Difference  \n",
       "kickoff                 \n",
       "2007-09-06          31  \n",
       "2007-09-09          -1  \n",
       "2007-09-09         -27  \n",
       "2007-09-09          11  \n",
       "2007-09-09          10  "
      ]
     },
     "execution_count": 107,
     "metadata": {},
     "output_type": "execute_result"
    }
   ],
   "source": [
    "nfl.head()"
   ]
  },
  {
   "cell_type": "code",
   "execution_count": 108,
   "metadata": {},
   "outputs": [
    {
     "data": {
      "text/plain": [
       "visiting_team\n",
       "49ers         68\n",
       "Bears         64\n",
       "Bengals       67\n",
       "Bills         64\n",
       "Broncos       65\n",
       "Browns        64\n",
       "Buccaneers    64\n",
       "Cardinals     67\n",
       "Chargers      69\n",
       "Chiefs        65\n",
       "Colts         69\n",
       "Cowboys       66\n",
       "Dolphins      64\n",
       "Eagles        68\n",
       "Falcons       66\n",
       "Giants        71\n",
       "Jaguars       66\n",
       "Jets          69\n",
       "Lions         66\n",
       "Packers       70\n",
       "Panthers      65\n",
       "Patriots      66\n",
       "Raiders       64\n",
       "Rams          64\n",
       "Ravens        77\n",
       "Redskins      65\n",
       "Saints        69\n",
       "Seahawks      69\n",
       "Steelers      67\n",
       "Texans        66\n",
       "Titans        65\n",
       "Vikings       66\n",
       "Name: home_team, dtype: int64"
      ]
     },
     "execution_count": 108,
     "metadata": {},
     "output_type": "execute_result"
    }
   ],
   "source": [
    "pt"
   ]
  },
  {
   "cell_type": "code",
   "execution_count": 109,
   "metadata": {
    "collapsed": true
   },
   "outputs": [],
   "source": [
    "nfl = nfl[(nfl.values  == \"Broncos\")|(nfl.values  == \"Bears\" )|(nfl.values  == \"Vikings\" ) ]"
   ]
  },
  {
   "cell_type": "code",
   "execution_count": 110,
   "metadata": {},
   "outputs": [
    {
     "data": {
      "text/plain": [
       "(397, 6)"
      ]
     },
     "execution_count": 110,
     "metadata": {},
     "output_type": "execute_result"
    }
   ],
   "source": [
    "nfl.shape"
   ]
  },
  {
   "cell_type": "code",
   "execution_count": 111,
   "metadata": {},
   "outputs": [
    {
     "data": {
      "text/plain": [
       "visiting_team\n",
       "Vikings       75\n",
       "Bears         73\n",
       "Broncos       67\n",
       "Packers       18\n",
       "Lions         17\n",
       "Chargers      11\n",
       "Chiefs        10\n",
       "Raiders       10\n",
       "Seahawks       7\n",
       "Saints         7\n",
       "Eagles         7\n",
       "Buccaneers     6\n",
       "Cowboys        6\n",
       "Giants         6\n",
       "Steelers       6\n",
       "Redskins       5\n",
       "Panthers       5\n",
       "Patriots       5\n",
       "Colts          5\n",
       "Jaguars        5\n",
       "Cardinals      5\n",
       "Jets           4\n",
       "Texans         4\n",
       "Bills          4\n",
       "Browns         4\n",
       "Ravens         4\n",
       "Dolphins       4\n",
       "Falcons        4\n",
       "Titans         4\n",
       "Rams           3\n",
       "Bengals        3\n",
       "49ers          3\n",
       "Name: visitors_score, dtype: int64"
      ]
     },
     "execution_count": 111,
     "metadata": {},
     "output_type": "execute_result"
    }
   ],
   "source": [
    "p1 = nfl.groupby('visiting_team')[('visitors_score')].count()\n",
    "p1.sort_values(ascending = False)"
   ]
  },
  {
   "cell_type": "code",
   "execution_count": 112,
   "metadata": {},
   "outputs": [
    {
     "data": {
      "text/plain": [
       "24"
      ]
     },
     "execution_count": 112,
     "metadata": {},
     "output_type": "execute_result"
    }
   ],
   "source": [
    "nfl.duplicated().sum()"
   ]
  },
  {
   "cell_type": "code",
   "execution_count": 113,
   "metadata": {
    "scrolled": true
   },
   "outputs": [
    {
     "data": {
      "text/plain": [
       "kickoff\n",
       "2007-09-09 00:00:00    False\n",
       "2007-09-09 00:00:00    False\n",
       "2007-09-09 00:00:00    False\n",
       "2007-09-16 00:00:00    False\n",
       "2007-09-16 00:00:00    False\n",
       "2007-09-16 00:00:00    False\n",
       "2007-09-23 00:00:00    False\n",
       "2007-09-23 00:00:00    False\n",
       "2007-09-23 00:00:00    False\n",
       "2007-09-30 00:00:00    False\n",
       "2007-09-30 00:00:00    False\n",
       "2007-09-30 00:00:00    False\n",
       "2007-10-07 00:00:00    False\n",
       "2007-10-07 00:00:00    False\n",
       "2007-10-14 00:00:00    False\n",
       "2007-10-14 00:00:00     True\n",
       "2007-10-21 00:00:00    False\n",
       "2007-10-21 00:00:00    False\n",
       "2007-10-21 00:00:00    False\n",
       "2007-10-28 00:00:00    False\n",
       "2007-10-28 00:00:00    False\n",
       "2007-10-29 00:00:00    False\n",
       "2007-11-04 00:00:00    False\n",
       "2007-11-04 00:00:00    False\n",
       "2007-11-11 00:00:00    False\n",
       "2007-11-11 00:00:00    False\n",
       "2007-11-11 00:00:00    False\n",
       "2007-11-18 00:00:00    False\n",
       "2007-11-18 00:00:00    False\n",
       "2007-11-19 00:00:00    False\n",
       "                       ...  \n",
       "2014-10-20 00:30:00    False\n",
       "2014-10-24 00:25:00    False\n",
       "2014-10-26 17:00:00    False\n",
       "2014-10-26 17:00:00    False\n",
       "2014-11-02 17:00:00    False\n",
       "2014-11-02 20:25:00    False\n",
       "2014-11-09 21:05:00    False\n",
       "2014-11-10 01:30:00    False\n",
       "2014-11-16 18:00:00    False\n",
       "2014-11-16 18:00:00     True\n",
       "2014-11-16 18:00:00    False\n",
       "2014-11-23 18:00:00    False\n",
       "2014-11-23 18:00:00    False\n",
       "2014-11-23 21:25:00    False\n",
       "2014-11-28 05:30:00    False\n",
       "2014-11-30 18:00:00    False\n",
       "2014-12-01 01:30:00    False\n",
       "2014-12-05 01:25:00    False\n",
       "2014-12-07 18:00:00    False\n",
       "2014-12-07 21:05:00    False\n",
       "2014-12-14 18:00:00    False\n",
       "2014-12-14 21:05:00    False\n",
       "2014-12-16 01:30:00    False\n",
       "2014-12-21 18:00:00    False\n",
       "2014-12-21 18:00:00    False\n",
       "2014-12-23 01:30:00    False\n",
       "2014-12-28 18:00:00    False\n",
       "2014-12-28 18:00:00     True\n",
       "2014-12-28 21:25:00    False\n",
       "2015-01-11 21:40:00    False\n",
       "Length: 397, dtype: bool"
      ]
     },
     "execution_count": 113,
     "metadata": {},
     "output_type": "execute_result"
    }
   ],
   "source": [
    "nfl.duplicated()"
   ]
  },
  {
   "cell_type": "code",
   "execution_count": 114,
   "metadata": {
    "collapsed": true
   },
   "outputs": [],
   "source": [
    "nfl = nfl.drop_duplicates(keep = 'first')"
   ]
  },
  {
   "cell_type": "code",
   "execution_count": 115,
   "metadata": {},
   "outputs": [
    {
     "data": {
      "text/plain": [
       "0"
      ]
     },
     "execution_count": 115,
     "metadata": {},
     "output_type": "execute_result"
    }
   ],
   "source": [
    "nfl.duplicated().sum()"
   ]
  },
  {
   "cell_type": "code",
   "execution_count": 116,
   "metadata": {},
   "outputs": [
    {
     "data": {
      "text/html": [
       "<div>\n",
       "<style>\n",
       "    .dataframe thead tr:only-child th {\n",
       "        text-align: right;\n",
       "    }\n",
       "\n",
       "    .dataframe thead th {\n",
       "        text-align: left;\n",
       "    }\n",
       "\n",
       "    .dataframe tbody tr th {\n",
       "        vertical-align: top;\n",
       "    }\n",
       "</style>\n",
       "<table border=\"1\" class=\"dataframe\">\n",
       "  <thead>\n",
       "    <tr style=\"text-align: right;\">\n",
       "      <th></th>\n",
       "      <th>home_team</th>\n",
       "      <th>home_score</th>\n",
       "      <th>visitors_score</th>\n",
       "      <th>visiting_team</th>\n",
       "      <th>Result</th>\n",
       "      <th>Difference</th>\n",
       "    </tr>\n",
       "    <tr>\n",
       "      <th>kickoff</th>\n",
       "      <th></th>\n",
       "      <th></th>\n",
       "      <th></th>\n",
       "      <th></th>\n",
       "      <th></th>\n",
       "      <th></th>\n",
       "    </tr>\n",
       "  </thead>\n",
       "  <tbody>\n",
       "    <tr>\n",
       "      <th>2007-09-09</th>\n",
       "      <td>Bills</td>\n",
       "      <td>14</td>\n",
       "      <td>15</td>\n",
       "      <td>Broncos</td>\n",
       "      <td>Away Win</td>\n",
       "      <td>-1</td>\n",
       "    </tr>\n",
       "    <tr>\n",
       "      <th>2007-09-09</th>\n",
       "      <td>Chargers</td>\n",
       "      <td>14</td>\n",
       "      <td>3</td>\n",
       "      <td>Bears</td>\n",
       "      <td>Home Win</td>\n",
       "      <td>11</td>\n",
       "    </tr>\n",
       "    <tr>\n",
       "      <th>2007-09-09</th>\n",
       "      <td>Vikings</td>\n",
       "      <td>24</td>\n",
       "      <td>3</td>\n",
       "      <td>Falcons</td>\n",
       "      <td>Home Win</td>\n",
       "      <td>21</td>\n",
       "    </tr>\n",
       "    <tr>\n",
       "      <th>2007-09-16</th>\n",
       "      <td>Bears</td>\n",
       "      <td>20</td>\n",
       "      <td>10</td>\n",
       "      <td>Chiefs</td>\n",
       "      <td>Home Win</td>\n",
       "      <td>10</td>\n",
       "    </tr>\n",
       "    <tr>\n",
       "      <th>2007-09-16</th>\n",
       "      <td>Broncos</td>\n",
       "      <td>23</td>\n",
       "      <td>20</td>\n",
       "      <td>Raiders</td>\n",
       "      <td>Home Win</td>\n",
       "      <td>3</td>\n",
       "    </tr>\n",
       "  </tbody>\n",
       "</table>\n",
       "</div>"
      ],
      "text/plain": [
       "           home_team  home_score  visitors_score visiting_team    Result  \\\n",
       "kickoff                                                                    \n",
       "2007-09-09     Bills          14              15       Broncos  Away Win   \n",
       "2007-09-09  Chargers          14               3         Bears  Home Win   \n",
       "2007-09-09   Vikings          24               3       Falcons  Home Win   \n",
       "2007-09-16     Bears          20              10        Chiefs  Home Win   \n",
       "2007-09-16   Broncos          23              20       Raiders  Home Win   \n",
       "\n",
       "            Difference  \n",
       "kickoff                 \n",
       "2007-09-09          -1  \n",
       "2007-09-09          11  \n",
       "2007-09-09          21  \n",
       "2007-09-16          10  \n",
       "2007-09-16           3  "
      ]
     },
     "execution_count": 116,
     "metadata": {},
     "output_type": "execute_result"
    }
   ],
   "source": [
    "nfl.head()"
   ]
  },
  {
   "cell_type": "code",
   "execution_count": 117,
   "metadata": {
    "collapsed": true
   },
   "outputs": [],
   "source": [
    "nfl = nfl.rename(index=str, columns={\"home_team\": \"Home/Neutral\", \"home_score\": \"PTS.1\", \"visitors_score\": \"PTS\", \"visiting_team\": \"Visitor/Neutral\"})"
   ]
  },
  {
   "cell_type": "code",
   "execution_count": 118,
   "metadata": {},
   "outputs": [
    {
     "data": {
      "text/html": [
       "<div>\n",
       "<style>\n",
       "    .dataframe thead tr:only-child th {\n",
       "        text-align: right;\n",
       "    }\n",
       "\n",
       "    .dataframe thead th {\n",
       "        text-align: left;\n",
       "    }\n",
       "\n",
       "    .dataframe tbody tr th {\n",
       "        vertical-align: top;\n",
       "    }\n",
       "</style>\n",
       "<table border=\"1\" class=\"dataframe\">\n",
       "  <thead>\n",
       "    <tr style=\"text-align: right;\">\n",
       "      <th></th>\n",
       "      <th>Home/Neutral</th>\n",
       "      <th>PTS.1</th>\n",
       "      <th>PTS</th>\n",
       "      <th>Visitor/Neutral</th>\n",
       "      <th>Result</th>\n",
       "      <th>Difference</th>\n",
       "    </tr>\n",
       "    <tr>\n",
       "      <th>kickoff</th>\n",
       "      <th></th>\n",
       "      <th></th>\n",
       "      <th></th>\n",
       "      <th></th>\n",
       "      <th></th>\n",
       "      <th></th>\n",
       "    </tr>\n",
       "  </thead>\n",
       "  <tbody>\n",
       "    <tr>\n",
       "      <th>2007-09-09 00:00:00</th>\n",
       "      <td>Bills</td>\n",
       "      <td>14</td>\n",
       "      <td>15</td>\n",
       "      <td>Broncos</td>\n",
       "      <td>Away Win</td>\n",
       "      <td>-1</td>\n",
       "    </tr>\n",
       "    <tr>\n",
       "      <th>2007-09-09 00:00:00</th>\n",
       "      <td>Chargers</td>\n",
       "      <td>14</td>\n",
       "      <td>3</td>\n",
       "      <td>Bears</td>\n",
       "      <td>Home Win</td>\n",
       "      <td>11</td>\n",
       "    </tr>\n",
       "    <tr>\n",
       "      <th>2007-09-09 00:00:00</th>\n",
       "      <td>Vikings</td>\n",
       "      <td>24</td>\n",
       "      <td>3</td>\n",
       "      <td>Falcons</td>\n",
       "      <td>Home Win</td>\n",
       "      <td>21</td>\n",
       "    </tr>\n",
       "    <tr>\n",
       "      <th>2007-09-16 00:00:00</th>\n",
       "      <td>Bears</td>\n",
       "      <td>20</td>\n",
       "      <td>10</td>\n",
       "      <td>Chiefs</td>\n",
       "      <td>Home Win</td>\n",
       "      <td>10</td>\n",
       "    </tr>\n",
       "    <tr>\n",
       "      <th>2007-09-16 00:00:00</th>\n",
       "      <td>Broncos</td>\n",
       "      <td>23</td>\n",
       "      <td>20</td>\n",
       "      <td>Raiders</td>\n",
       "      <td>Home Win</td>\n",
       "      <td>3</td>\n",
       "    </tr>\n",
       "  </tbody>\n",
       "</table>\n",
       "</div>"
      ],
      "text/plain": [
       "                    Home/Neutral  PTS.1  PTS Visitor/Neutral    Result  \\\n",
       "kickoff                                                                  \n",
       "2007-09-09 00:00:00        Bills     14   15         Broncos  Away Win   \n",
       "2007-09-09 00:00:00     Chargers     14    3           Bears  Home Win   \n",
       "2007-09-09 00:00:00      Vikings     24    3         Falcons  Home Win   \n",
       "2007-09-16 00:00:00        Bears     20   10          Chiefs  Home Win   \n",
       "2007-09-16 00:00:00      Broncos     23   20         Raiders  Home Win   \n",
       "\n",
       "                     Difference  \n",
       "kickoff                          \n",
       "2007-09-09 00:00:00          -1  \n",
       "2007-09-09 00:00:00          11  \n",
       "2007-09-09 00:00:00          21  \n",
       "2007-09-16 00:00:00          10  \n",
       "2007-09-16 00:00:00           3  "
      ]
     },
     "execution_count": 118,
     "metadata": {},
     "output_type": "execute_result"
    }
   ],
   "source": [
    "nfl.head()"
   ]
  },
  {
   "cell_type": "code",
   "execution_count": 119,
   "metadata": {
    "collapsed": true
   },
   "outputs": [],
   "source": [
    "nfl.to_csv('../../data/prep/710_NFL.csv')"
   ]
  },
  {
   "cell_type": "code",
   "execution_count": 120,
   "metadata": {
    "collapsed": true
   },
   "outputs": [],
   "source": [
    "nfl1 = nfl"
   ]
  },
  {
   "cell_type": "code",
   "execution_count": 121,
   "metadata": {
    "collapsed": true
   },
   "outputs": [],
   "source": [
    "nfl1 = nfl1.reset_index()"
   ]
  },
  {
   "cell_type": "code",
   "execution_count": 122,
   "metadata": {},
   "outputs": [
    {
     "data": {
      "text/html": [
       "<div>\n",
       "<style>\n",
       "    .dataframe thead tr:only-child th {\n",
       "        text-align: right;\n",
       "    }\n",
       "\n",
       "    .dataframe thead th {\n",
       "        text-align: left;\n",
       "    }\n",
       "\n",
       "    .dataframe tbody tr th {\n",
       "        vertical-align: top;\n",
       "    }\n",
       "</style>\n",
       "<table border=\"1\" class=\"dataframe\">\n",
       "  <thead>\n",
       "    <tr style=\"text-align: right;\">\n",
       "      <th></th>\n",
       "      <th>kickoff</th>\n",
       "      <th>Home/Neutral</th>\n",
       "      <th>PTS.1</th>\n",
       "      <th>PTS</th>\n",
       "      <th>Visitor/Neutral</th>\n",
       "      <th>Result</th>\n",
       "      <th>Difference</th>\n",
       "    </tr>\n",
       "  </thead>\n",
       "  <tbody>\n",
       "    <tr>\n",
       "      <th>0</th>\n",
       "      <td>2007-09-09 00:00:00</td>\n",
       "      <td>Bills</td>\n",
       "      <td>14</td>\n",
       "      <td>15</td>\n",
       "      <td>Broncos</td>\n",
       "      <td>Away Win</td>\n",
       "      <td>-1</td>\n",
       "    </tr>\n",
       "    <tr>\n",
       "      <th>1</th>\n",
       "      <td>2007-09-09 00:00:00</td>\n",
       "      <td>Chargers</td>\n",
       "      <td>14</td>\n",
       "      <td>3</td>\n",
       "      <td>Bears</td>\n",
       "      <td>Home Win</td>\n",
       "      <td>11</td>\n",
       "    </tr>\n",
       "    <tr>\n",
       "      <th>2</th>\n",
       "      <td>2007-09-09 00:00:00</td>\n",
       "      <td>Vikings</td>\n",
       "      <td>24</td>\n",
       "      <td>3</td>\n",
       "      <td>Falcons</td>\n",
       "      <td>Home Win</td>\n",
       "      <td>21</td>\n",
       "    </tr>\n",
       "    <tr>\n",
       "      <th>3</th>\n",
       "      <td>2007-09-16 00:00:00</td>\n",
       "      <td>Bears</td>\n",
       "      <td>20</td>\n",
       "      <td>10</td>\n",
       "      <td>Chiefs</td>\n",
       "      <td>Home Win</td>\n",
       "      <td>10</td>\n",
       "    </tr>\n",
       "    <tr>\n",
       "      <th>4</th>\n",
       "      <td>2007-09-16 00:00:00</td>\n",
       "      <td>Broncos</td>\n",
       "      <td>23</td>\n",
       "      <td>20</td>\n",
       "      <td>Raiders</td>\n",
       "      <td>Home Win</td>\n",
       "      <td>3</td>\n",
       "    </tr>\n",
       "  </tbody>\n",
       "</table>\n",
       "</div>"
      ],
      "text/plain": [
       "               kickoff Home/Neutral  PTS.1  PTS Visitor/Neutral    Result  \\\n",
       "0  2007-09-09 00:00:00        Bills     14   15         Broncos  Away Win   \n",
       "1  2007-09-09 00:00:00     Chargers     14    3           Bears  Home Win   \n",
       "2  2007-09-09 00:00:00      Vikings     24    3         Falcons  Home Win   \n",
       "3  2007-09-16 00:00:00        Bears     20   10          Chiefs  Home Win   \n",
       "4  2007-09-16 00:00:00      Broncos     23   20         Raiders  Home Win   \n",
       "\n",
       "   Difference  \n",
       "0          -1  \n",
       "1          11  \n",
       "2          21  \n",
       "3          10  \n",
       "4           3  "
      ]
     },
     "execution_count": 122,
     "metadata": {},
     "output_type": "execute_result"
    }
   ],
   "source": [
    "nfl1.head()"
   ]
  },
  {
   "cell_type": "code",
   "execution_count": 123,
   "metadata": {},
   "outputs": [
    {
     "name": "stdout",
     "output_type": "stream",
     "text": [
      "<class 'pandas.core.frame.DataFrame'>\n",
      "RangeIndex: 373 entries, 0 to 372\n",
      "Data columns (total 7 columns):\n",
      "kickoff            373 non-null object\n",
      "Home/Neutral       373 non-null object\n",
      "PTS.1              373 non-null int64\n",
      "PTS                373 non-null int64\n",
      "Visitor/Neutral    373 non-null object\n",
      "Result             373 non-null object\n",
      "Difference         373 non-null int64\n",
      "dtypes: int64(3), object(4)\n",
      "memory usage: 20.5+ KB\n"
     ]
    }
   ],
   "source": [
    "nfl1.info()"
   ]
  },
  {
   "cell_type": "code",
   "execution_count": 124,
   "metadata": {
    "collapsed": true
   },
   "outputs": [],
   "source": [
    "nfl1['kickoff'] = pd.to_datetime(nfl1['kickoff'])"
   ]
  },
  {
   "cell_type": "code",
   "execution_count": 125,
   "metadata": {
    "collapsed": true
   },
   "outputs": [],
   "source": [
    "nfl1['kickoff'] = nfl1['kickoff'].dt.date"
   ]
  },
  {
   "cell_type": "code",
   "execution_count": 126,
   "metadata": {},
   "outputs": [
    {
     "data": {
      "text/html": [
       "<div>\n",
       "<style>\n",
       "    .dataframe thead tr:only-child th {\n",
       "        text-align: right;\n",
       "    }\n",
       "\n",
       "    .dataframe thead th {\n",
       "        text-align: left;\n",
       "    }\n",
       "\n",
       "    .dataframe tbody tr th {\n",
       "        vertical-align: top;\n",
       "    }\n",
       "</style>\n",
       "<table border=\"1\" class=\"dataframe\">\n",
       "  <thead>\n",
       "    <tr style=\"text-align: right;\">\n",
       "      <th></th>\n",
       "      <th>kickoff</th>\n",
       "      <th>Home/Neutral</th>\n",
       "      <th>PTS.1</th>\n",
       "      <th>PTS</th>\n",
       "      <th>Visitor/Neutral</th>\n",
       "      <th>Result</th>\n",
       "      <th>Difference</th>\n",
       "    </tr>\n",
       "  </thead>\n",
       "  <tbody>\n",
       "    <tr>\n",
       "      <th>0</th>\n",
       "      <td>2007-09-09</td>\n",
       "      <td>Bills</td>\n",
       "      <td>14</td>\n",
       "      <td>15</td>\n",
       "      <td>Broncos</td>\n",
       "      <td>Away Win</td>\n",
       "      <td>-1</td>\n",
       "    </tr>\n",
       "    <tr>\n",
       "      <th>1</th>\n",
       "      <td>2007-09-09</td>\n",
       "      <td>Chargers</td>\n",
       "      <td>14</td>\n",
       "      <td>3</td>\n",
       "      <td>Bears</td>\n",
       "      <td>Home Win</td>\n",
       "      <td>11</td>\n",
       "    </tr>\n",
       "    <tr>\n",
       "      <th>2</th>\n",
       "      <td>2007-09-09</td>\n",
       "      <td>Vikings</td>\n",
       "      <td>24</td>\n",
       "      <td>3</td>\n",
       "      <td>Falcons</td>\n",
       "      <td>Home Win</td>\n",
       "      <td>21</td>\n",
       "    </tr>\n",
       "    <tr>\n",
       "      <th>3</th>\n",
       "      <td>2007-09-16</td>\n",
       "      <td>Bears</td>\n",
       "      <td>20</td>\n",
       "      <td>10</td>\n",
       "      <td>Chiefs</td>\n",
       "      <td>Home Win</td>\n",
       "      <td>10</td>\n",
       "    </tr>\n",
       "    <tr>\n",
       "      <th>4</th>\n",
       "      <td>2007-09-16</td>\n",
       "      <td>Broncos</td>\n",
       "      <td>23</td>\n",
       "      <td>20</td>\n",
       "      <td>Raiders</td>\n",
       "      <td>Home Win</td>\n",
       "      <td>3</td>\n",
       "    </tr>\n",
       "  </tbody>\n",
       "</table>\n",
       "</div>"
      ],
      "text/plain": [
       "      kickoff Home/Neutral  PTS.1  PTS Visitor/Neutral    Result  Difference\n",
       "0  2007-09-09        Bills     14   15         Broncos  Away Win          -1\n",
       "1  2007-09-09     Chargers     14    3           Bears  Home Win          11\n",
       "2  2007-09-09      Vikings     24    3         Falcons  Home Win          21\n",
       "3  2007-09-16        Bears     20   10          Chiefs  Home Win          10\n",
       "4  2007-09-16      Broncos     23   20         Raiders  Home Win           3"
      ]
     },
     "execution_count": 126,
     "metadata": {},
     "output_type": "execute_result"
    }
   ],
   "source": [
    "nfl1.head()"
   ]
  },
  {
   "cell_type": "code",
   "execution_count": 127,
   "metadata": {
    "collapsed": true
   },
   "outputs": [],
   "source": [
    "nfl1 = nfl1.set_index('kickoff')"
   ]
  },
  {
   "cell_type": "code",
   "execution_count": 128,
   "metadata": {},
   "outputs": [
    {
     "data": {
      "text/html": [
       "<div>\n",
       "<style>\n",
       "    .dataframe thead tr:only-child th {\n",
       "        text-align: right;\n",
       "    }\n",
       "\n",
       "    .dataframe thead th {\n",
       "        text-align: left;\n",
       "    }\n",
       "\n",
       "    .dataframe tbody tr th {\n",
       "        vertical-align: top;\n",
       "    }\n",
       "</style>\n",
       "<table border=\"1\" class=\"dataframe\">\n",
       "  <thead>\n",
       "    <tr style=\"text-align: right;\">\n",
       "      <th></th>\n",
       "      <th>Home/Neutral</th>\n",
       "      <th>PTS.1</th>\n",
       "      <th>PTS</th>\n",
       "      <th>Visitor/Neutral</th>\n",
       "      <th>Result</th>\n",
       "      <th>Difference</th>\n",
       "    </tr>\n",
       "    <tr>\n",
       "      <th>kickoff</th>\n",
       "      <th></th>\n",
       "      <th></th>\n",
       "      <th></th>\n",
       "      <th></th>\n",
       "      <th></th>\n",
       "      <th></th>\n",
       "    </tr>\n",
       "  </thead>\n",
       "  <tbody>\n",
       "    <tr>\n",
       "      <th>2007-09-09</th>\n",
       "      <td>Bills</td>\n",
       "      <td>14</td>\n",
       "      <td>15</td>\n",
       "      <td>Broncos</td>\n",
       "      <td>Away Win</td>\n",
       "      <td>-1</td>\n",
       "    </tr>\n",
       "    <tr>\n",
       "      <th>2007-09-09</th>\n",
       "      <td>Chargers</td>\n",
       "      <td>14</td>\n",
       "      <td>3</td>\n",
       "      <td>Bears</td>\n",
       "      <td>Home Win</td>\n",
       "      <td>11</td>\n",
       "    </tr>\n",
       "    <tr>\n",
       "      <th>2007-09-09</th>\n",
       "      <td>Vikings</td>\n",
       "      <td>24</td>\n",
       "      <td>3</td>\n",
       "      <td>Falcons</td>\n",
       "      <td>Home Win</td>\n",
       "      <td>21</td>\n",
       "    </tr>\n",
       "    <tr>\n",
       "      <th>2007-09-16</th>\n",
       "      <td>Bears</td>\n",
       "      <td>20</td>\n",
       "      <td>10</td>\n",
       "      <td>Chiefs</td>\n",
       "      <td>Home Win</td>\n",
       "      <td>10</td>\n",
       "    </tr>\n",
       "    <tr>\n",
       "      <th>2007-09-16</th>\n",
       "      <td>Broncos</td>\n",
       "      <td>23</td>\n",
       "      <td>20</td>\n",
       "      <td>Raiders</td>\n",
       "      <td>Home Win</td>\n",
       "      <td>3</td>\n",
       "    </tr>\n",
       "  </tbody>\n",
       "</table>\n",
       "</div>"
      ],
      "text/plain": [
       "           Home/Neutral  PTS.1  PTS Visitor/Neutral    Result  Difference\n",
       "kickoff                                                                  \n",
       "2007-09-09        Bills     14   15         Broncos  Away Win          -1\n",
       "2007-09-09     Chargers     14    3           Bears  Home Win          11\n",
       "2007-09-09      Vikings     24    3         Falcons  Home Win          21\n",
       "2007-09-16        Bears     20   10          Chiefs  Home Win          10\n",
       "2007-09-16      Broncos     23   20         Raiders  Home Win           3"
      ]
     },
     "execution_count": 128,
     "metadata": {},
     "output_type": "execute_result"
    }
   ],
   "source": [
    "nfl1.head()"
   ]
  },
  {
   "cell_type": "code",
   "execution_count": 129,
   "metadata": {
    "collapsed": true
   },
   "outputs": [],
   "source": [
    "nfl1.to_csv('../../data/prep/700_NFL.csv')"
   ]
  },
  {
   "cell_type": "code",
   "execution_count": null,
   "metadata": {
    "collapsed": true
   },
   "outputs": [],
   "source": []
  }
 ],
 "metadata": {
  "kernelspec": {
   "display_name": "Python 3",
   "language": "python",
   "name": "python3"
  },
  "language_info": {
   "codemirror_mode": {
    "name": "ipython",
    "version": 3
   },
   "file_extension": ".py",
   "mimetype": "text/x-python",
   "name": "python",
   "nbconvert_exporter": "python",
   "pygments_lexer": "ipython3",
   "version": "3.6.3"
  }
 },
 "nbformat": 4,
 "nbformat_minor": 2
}
