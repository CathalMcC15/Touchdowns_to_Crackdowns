{
 "cells": [
  {
   "cell_type": "markdown",
   "metadata": {},
   "source": [
    "# NFL Preparation 2"
   ]
  },
  {
   "cell_type": "markdown",
   "metadata": {},
   "source": [
    "Preparing NFL dataset for WEATHER question..."
   ]
  },
  {
   "cell_type": "code",
   "execution_count": 13,
   "metadata": {
    "collapsed": true
   },
   "outputs": [],
   "source": [
    "import os.path\n",
    "import datetime\n",
    "import pandas as pd\n",
    "import numpy as np\n",
    "import matplotlib\n",
    "import matplotlib.pyplot as plt\n",
    "%matplotlib inline"
   ]
  },
  {
   "cell_type": "code",
   "execution_count": 14,
   "metadata": {
    "collapsed": true
   },
   "outputs": [],
   "source": [
    "if not os.path.exists( \"../../data/prep/710_NFL.csv\" ):\n",
    "    print(\"Missing dataset file\")"
   ]
  },
  {
   "cell_type": "code",
   "execution_count": 15,
   "metadata": {},
   "outputs": [
    {
     "data": {
      "text/plain": [
       "(373, 7)"
      ]
     },
     "execution_count": 15,
     "metadata": {},
     "output_type": "execute_result"
    }
   ],
   "source": [
    "nfl = pd.read_csv(\"../../data/prep/710_NFL.csv\")\n",
    "nfl.shape"
   ]
  },
  {
   "cell_type": "code",
   "execution_count": 16,
   "metadata": {},
   "outputs": [
    {
     "data": {
      "text/html": [
       "<div>\n",
       "<style>\n",
       "    .dataframe thead tr:only-child th {\n",
       "        text-align: right;\n",
       "    }\n",
       "\n",
       "    .dataframe thead th {\n",
       "        text-align: left;\n",
       "    }\n",
       "\n",
       "    .dataframe tbody tr th {\n",
       "        vertical-align: top;\n",
       "    }\n",
       "</style>\n",
       "<table border=\"1\" class=\"dataframe\">\n",
       "  <thead>\n",
       "    <tr style=\"text-align: right;\">\n",
       "      <th></th>\n",
       "      <th>kickoff</th>\n",
       "      <th>Home/Neutral</th>\n",
       "      <th>PTS.1</th>\n",
       "      <th>PTS</th>\n",
       "      <th>Visitor/Neutral</th>\n",
       "      <th>Result</th>\n",
       "      <th>Difference</th>\n",
       "    </tr>\n",
       "  </thead>\n",
       "  <tbody>\n",
       "    <tr>\n",
       "      <th>368</th>\n",
       "      <td>2014-12-21 18:00:00</td>\n",
       "      <td>Dolphins</td>\n",
       "      <td>37</td>\n",
       "      <td>35</td>\n",
       "      <td>Vikings</td>\n",
       "      <td>Home Win</td>\n",
       "      <td>2</td>\n",
       "    </tr>\n",
       "    <tr>\n",
       "      <th>369</th>\n",
       "      <td>2014-12-23 01:30:00</td>\n",
       "      <td>Bengals</td>\n",
       "      <td>37</td>\n",
       "      <td>28</td>\n",
       "      <td>Broncos</td>\n",
       "      <td>Home Win</td>\n",
       "      <td>9</td>\n",
       "    </tr>\n",
       "    <tr>\n",
       "      <th>370</th>\n",
       "      <td>2014-12-28 18:00:00</td>\n",
       "      <td>Vikings</td>\n",
       "      <td>13</td>\n",
       "      <td>9</td>\n",
       "      <td>Bears</td>\n",
       "      <td>Home Win</td>\n",
       "      <td>4</td>\n",
       "    </tr>\n",
       "    <tr>\n",
       "      <th>371</th>\n",
       "      <td>2014-12-28 21:25:00</td>\n",
       "      <td>Broncos</td>\n",
       "      <td>47</td>\n",
       "      <td>14</td>\n",
       "      <td>Raiders</td>\n",
       "      <td>Home Win</td>\n",
       "      <td>33</td>\n",
       "    </tr>\n",
       "    <tr>\n",
       "      <th>372</th>\n",
       "      <td>2015-01-11 21:40:00</td>\n",
       "      <td>Broncos</td>\n",
       "      <td>13</td>\n",
       "      <td>24</td>\n",
       "      <td>Colts</td>\n",
       "      <td>Away Win</td>\n",
       "      <td>-11</td>\n",
       "    </tr>\n",
       "  </tbody>\n",
       "</table>\n",
       "</div>"
      ],
      "text/plain": [
       "                 kickoff Home/Neutral  PTS.1  PTS Visitor/Neutral    Result  \\\n",
       "368  2014-12-21 18:00:00     Dolphins     37   35         Vikings  Home Win   \n",
       "369  2014-12-23 01:30:00      Bengals     37   28         Broncos  Home Win   \n",
       "370  2014-12-28 18:00:00      Vikings     13    9           Bears  Home Win   \n",
       "371  2014-12-28 21:25:00      Broncos     47   14         Raiders  Home Win   \n",
       "372  2015-01-11 21:40:00      Broncos     13   24           Colts  Away Win   \n",
       "\n",
       "     Difference  \n",
       "368           2  \n",
       "369           9  \n",
       "370           4  \n",
       "371          33  \n",
       "372         -11  "
      ]
     },
     "execution_count": 16,
     "metadata": {},
     "output_type": "execute_result"
    }
   ],
   "source": [
    "nfl.tail()"
   ]
  },
  {
   "cell_type": "code",
   "execution_count": 17,
   "metadata": {
    "collapsed": true
   },
   "outputs": [],
   "source": [
    "nfl['kickoff'] = pd.to_datetime(nfl['kickoff'])"
   ]
  },
  {
   "cell_type": "code",
   "execution_count": 18,
   "metadata": {
    "collapsed": true
   },
   "outputs": [],
   "source": [
    "nfl['Date'] = nfl['kickoff'].dt.round('60min')"
   ]
  },
  {
   "cell_type": "code",
   "execution_count": 19,
   "metadata": {},
   "outputs": [
    {
     "data": {
      "text/html": [
       "<div>\n",
       "<style>\n",
       "    .dataframe thead tr:only-child th {\n",
       "        text-align: right;\n",
       "    }\n",
       "\n",
       "    .dataframe thead th {\n",
       "        text-align: left;\n",
       "    }\n",
       "\n",
       "    .dataframe tbody tr th {\n",
       "        vertical-align: top;\n",
       "    }\n",
       "</style>\n",
       "<table border=\"1\" class=\"dataframe\">\n",
       "  <thead>\n",
       "    <tr style=\"text-align: right;\">\n",
       "      <th></th>\n",
       "      <th>kickoff</th>\n",
       "      <th>Home/Neutral</th>\n",
       "      <th>PTS.1</th>\n",
       "      <th>PTS</th>\n",
       "      <th>Visitor/Neutral</th>\n",
       "      <th>Result</th>\n",
       "      <th>Difference</th>\n",
       "      <th>Date</th>\n",
       "    </tr>\n",
       "  </thead>\n",
       "  <tbody>\n",
       "    <tr>\n",
       "      <th>0</th>\n",
       "      <td>2007-09-09</td>\n",
       "      <td>Bills</td>\n",
       "      <td>14</td>\n",
       "      <td>15</td>\n",
       "      <td>Broncos</td>\n",
       "      <td>Away Win</td>\n",
       "      <td>-1</td>\n",
       "      <td>2007-09-09</td>\n",
       "    </tr>\n",
       "    <tr>\n",
       "      <th>1</th>\n",
       "      <td>2007-09-09</td>\n",
       "      <td>Chargers</td>\n",
       "      <td>14</td>\n",
       "      <td>3</td>\n",
       "      <td>Bears</td>\n",
       "      <td>Home Win</td>\n",
       "      <td>11</td>\n",
       "      <td>2007-09-09</td>\n",
       "    </tr>\n",
       "    <tr>\n",
       "      <th>2</th>\n",
       "      <td>2007-09-09</td>\n",
       "      <td>Vikings</td>\n",
       "      <td>24</td>\n",
       "      <td>3</td>\n",
       "      <td>Falcons</td>\n",
       "      <td>Home Win</td>\n",
       "      <td>21</td>\n",
       "      <td>2007-09-09</td>\n",
       "    </tr>\n",
       "    <tr>\n",
       "      <th>3</th>\n",
       "      <td>2007-09-16</td>\n",
       "      <td>Bears</td>\n",
       "      <td>20</td>\n",
       "      <td>10</td>\n",
       "      <td>Chiefs</td>\n",
       "      <td>Home Win</td>\n",
       "      <td>10</td>\n",
       "      <td>2007-09-16</td>\n",
       "    </tr>\n",
       "    <tr>\n",
       "      <th>4</th>\n",
       "      <td>2007-09-16</td>\n",
       "      <td>Broncos</td>\n",
       "      <td>23</td>\n",
       "      <td>20</td>\n",
       "      <td>Raiders</td>\n",
       "      <td>Home Win</td>\n",
       "      <td>3</td>\n",
       "      <td>2007-09-16</td>\n",
       "    </tr>\n",
       "  </tbody>\n",
       "</table>\n",
       "</div>"
      ],
      "text/plain": [
       "     kickoff Home/Neutral  PTS.1  PTS Visitor/Neutral    Result  Difference  \\\n",
       "0 2007-09-09        Bills     14   15         Broncos  Away Win          -1   \n",
       "1 2007-09-09     Chargers     14    3           Bears  Home Win          11   \n",
       "2 2007-09-09      Vikings     24    3         Falcons  Home Win          21   \n",
       "3 2007-09-16        Bears     20   10          Chiefs  Home Win          10   \n",
       "4 2007-09-16      Broncos     23   20         Raiders  Home Win           3   \n",
       "\n",
       "        Date  \n",
       "0 2007-09-09  \n",
       "1 2007-09-09  \n",
       "2 2007-09-09  \n",
       "3 2007-09-16  \n",
       "4 2007-09-16  "
      ]
     },
     "execution_count": 19,
     "metadata": {},
     "output_type": "execute_result"
    }
   ],
   "source": [
    "nfl.head()"
   ]
  },
  {
   "cell_type": "code",
   "execution_count": 20,
   "metadata": {
    "collapsed": true
   },
   "outputs": [],
   "source": [
    "nfl = nfl.set_index('Date')"
   ]
  },
  {
   "cell_type": "code",
   "execution_count": 21,
   "metadata": {},
   "outputs": [
    {
     "data": {
      "text/html": [
       "<div>\n",
       "<style>\n",
       "    .dataframe thead tr:only-child th {\n",
       "        text-align: right;\n",
       "    }\n",
       "\n",
       "    .dataframe thead th {\n",
       "        text-align: left;\n",
       "    }\n",
       "\n",
       "    .dataframe tbody tr th {\n",
       "        vertical-align: top;\n",
       "    }\n",
       "</style>\n",
       "<table border=\"1\" class=\"dataframe\">\n",
       "  <thead>\n",
       "    <tr style=\"text-align: right;\">\n",
       "      <th></th>\n",
       "      <th>kickoff</th>\n",
       "      <th>Home/Neutral</th>\n",
       "      <th>PTS.1</th>\n",
       "      <th>PTS</th>\n",
       "      <th>Visitor/Neutral</th>\n",
       "      <th>Result</th>\n",
       "      <th>Difference</th>\n",
       "    </tr>\n",
       "    <tr>\n",
       "      <th>Date</th>\n",
       "      <th></th>\n",
       "      <th></th>\n",
       "      <th></th>\n",
       "      <th></th>\n",
       "      <th></th>\n",
       "      <th></th>\n",
       "      <th></th>\n",
       "    </tr>\n",
       "  </thead>\n",
       "  <tbody>\n",
       "    <tr>\n",
       "      <th>2014-12-21 18:00:00</th>\n",
       "      <td>2014-12-21 18:00:00</td>\n",
       "      <td>Dolphins</td>\n",
       "      <td>37</td>\n",
       "      <td>35</td>\n",
       "      <td>Vikings</td>\n",
       "      <td>Home Win</td>\n",
       "      <td>2</td>\n",
       "    </tr>\n",
       "    <tr>\n",
       "      <th>2014-12-23 02:00:00</th>\n",
       "      <td>2014-12-23 01:30:00</td>\n",
       "      <td>Bengals</td>\n",
       "      <td>37</td>\n",
       "      <td>28</td>\n",
       "      <td>Broncos</td>\n",
       "      <td>Home Win</td>\n",
       "      <td>9</td>\n",
       "    </tr>\n",
       "    <tr>\n",
       "      <th>2014-12-28 18:00:00</th>\n",
       "      <td>2014-12-28 18:00:00</td>\n",
       "      <td>Vikings</td>\n",
       "      <td>13</td>\n",
       "      <td>9</td>\n",
       "      <td>Bears</td>\n",
       "      <td>Home Win</td>\n",
       "      <td>4</td>\n",
       "    </tr>\n",
       "    <tr>\n",
       "      <th>2014-12-28 21:00:00</th>\n",
       "      <td>2014-12-28 21:25:00</td>\n",
       "      <td>Broncos</td>\n",
       "      <td>47</td>\n",
       "      <td>14</td>\n",
       "      <td>Raiders</td>\n",
       "      <td>Home Win</td>\n",
       "      <td>33</td>\n",
       "    </tr>\n",
       "    <tr>\n",
       "      <th>2015-01-11 22:00:00</th>\n",
       "      <td>2015-01-11 21:40:00</td>\n",
       "      <td>Broncos</td>\n",
       "      <td>13</td>\n",
       "      <td>24</td>\n",
       "      <td>Colts</td>\n",
       "      <td>Away Win</td>\n",
       "      <td>-11</td>\n",
       "    </tr>\n",
       "  </tbody>\n",
       "</table>\n",
       "</div>"
      ],
      "text/plain": [
       "                                kickoff Home/Neutral  PTS.1  PTS  \\\n",
       "Date                                                               \n",
       "2014-12-21 18:00:00 2014-12-21 18:00:00     Dolphins     37   35   \n",
       "2014-12-23 02:00:00 2014-12-23 01:30:00      Bengals     37   28   \n",
       "2014-12-28 18:00:00 2014-12-28 18:00:00      Vikings     13    9   \n",
       "2014-12-28 21:00:00 2014-12-28 21:25:00      Broncos     47   14   \n",
       "2015-01-11 22:00:00 2015-01-11 21:40:00      Broncos     13   24   \n",
       "\n",
       "                    Visitor/Neutral    Result  Difference  \n",
       "Date                                                       \n",
       "2014-12-21 18:00:00         Vikings  Home Win           2  \n",
       "2014-12-23 02:00:00         Broncos  Home Win           9  \n",
       "2014-12-28 18:00:00           Bears  Home Win           4  \n",
       "2014-12-28 21:00:00         Raiders  Home Win          33  \n",
       "2015-01-11 22:00:00           Colts  Away Win         -11  "
      ]
     },
     "execution_count": 21,
     "metadata": {},
     "output_type": "execute_result"
    }
   ],
   "source": [
    "nfl.tail()"
   ]
  },
  {
   "cell_type": "code",
   "execution_count": 22,
   "metadata": {
    "collapsed": true
   },
   "outputs": [],
   "source": [
    "nfl = nfl.drop(nfl.columns[[0, 2, 3, 5, 6]], axis=1)"
   ]
  },
  {
   "cell_type": "code",
   "execution_count": 23,
   "metadata": {},
   "outputs": [
    {
     "data": {
      "text/html": [
       "<div>\n",
       "<style>\n",
       "    .dataframe thead tr:only-child th {\n",
       "        text-align: right;\n",
       "    }\n",
       "\n",
       "    .dataframe thead th {\n",
       "        text-align: left;\n",
       "    }\n",
       "\n",
       "    .dataframe tbody tr th {\n",
       "        vertical-align: top;\n",
       "    }\n",
       "</style>\n",
       "<table border=\"1\" class=\"dataframe\">\n",
       "  <thead>\n",
       "    <tr style=\"text-align: right;\">\n",
       "      <th></th>\n",
       "      <th>Home/Neutral</th>\n",
       "      <th>Visitor/Neutral</th>\n",
       "    </tr>\n",
       "    <tr>\n",
       "      <th>Date</th>\n",
       "      <th></th>\n",
       "      <th></th>\n",
       "    </tr>\n",
       "  </thead>\n",
       "  <tbody>\n",
       "    <tr>\n",
       "      <th>2007-09-09</th>\n",
       "      <td>Bills</td>\n",
       "      <td>Broncos</td>\n",
       "    </tr>\n",
       "    <tr>\n",
       "      <th>2007-09-09</th>\n",
       "      <td>Chargers</td>\n",
       "      <td>Bears</td>\n",
       "    </tr>\n",
       "    <tr>\n",
       "      <th>2007-09-09</th>\n",
       "      <td>Vikings</td>\n",
       "      <td>Falcons</td>\n",
       "    </tr>\n",
       "    <tr>\n",
       "      <th>2007-09-16</th>\n",
       "      <td>Bears</td>\n",
       "      <td>Chiefs</td>\n",
       "    </tr>\n",
       "    <tr>\n",
       "      <th>2007-09-16</th>\n",
       "      <td>Broncos</td>\n",
       "      <td>Raiders</td>\n",
       "    </tr>\n",
       "  </tbody>\n",
       "</table>\n",
       "</div>"
      ],
      "text/plain": [
       "           Home/Neutral Visitor/Neutral\n",
       "Date                                   \n",
       "2007-09-09        Bills         Broncos\n",
       "2007-09-09     Chargers           Bears\n",
       "2007-09-09      Vikings         Falcons\n",
       "2007-09-16        Bears          Chiefs\n",
       "2007-09-16      Broncos         Raiders"
      ]
     },
     "execution_count": 23,
     "metadata": {},
     "output_type": "execute_result"
    }
   ],
   "source": [
    "nfl.head()"
   ]
  },
  {
   "cell_type": "code",
   "execution_count": 24,
   "metadata": {
    "collapsed": true
   },
   "outputs": [],
   "source": [
    "nfl.to_csv(\"../../data/prep/800_NFL.csv\")"
   ]
  },
  {
   "cell_type": "code",
   "execution_count": null,
   "metadata": {
    "collapsed": true
   },
   "outputs": [],
   "source": []
  }
 ],
 "metadata": {
  "kernelspec": {
   "display_name": "Python 3",
   "language": "python",
   "name": "python3"
  },
  "language_info": {
   "codemirror_mode": {
    "name": "ipython",
    "version": 3
   },
   "file_extension": ".py",
   "mimetype": "text/x-python",
   "name": "python",
   "nbconvert_exporter": "python",
   "pygments_lexer": "ipython3",
   "version": "3.6.3"
  }
 },
 "nbformat": 4,
 "nbformat_minor": 2
}
