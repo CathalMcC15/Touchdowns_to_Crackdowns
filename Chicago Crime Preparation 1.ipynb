{
 "cells": [
  {
   "cell_type": "markdown",
   "metadata": {},
   "source": [
    "# Chicago Preparation 1"
   ]
  },
  {
   "cell_type": "markdown",
   "metadata": {
    "collapsed": true
   },
   "source": [
    "This Notebook cleans the Chicago Crime Dataset. This dataset dates back to 2001, so we will need to filter the years we require. We will also get ride of any unnecessary columns and check for null values. "
   ]
  },
  {
   "cell_type": "markdown",
   "metadata": {
    "collapsed": true
   },
   "source": [
    "### Loading in the data"
   ]
  },
  {
   "cell_type": "code",
   "execution_count": 1,
   "metadata": {
    "collapsed": true
   },
   "outputs": [],
   "source": [
    "import os.path\n",
    "import datetime\n",
    "import pandas as pd\n",
    "import numpy as np\n",
    "import matplotlib\n",
    "import matplotlib.pyplot as plt\n",
    "%matplotlib inline"
   ]
  },
  {
   "cell_type": "markdown",
   "metadata": {},
   "source": [
    "The full Chicago crime dataset is loaded in..."
   ]
  },
  {
   "cell_type": "code",
   "execution_count": 2,
   "metadata": {
    "collapsed": true
   },
   "outputs": [],
   "source": [
    "if not os.path.exists( \"../../data/raw/Crimes_-_2001_to_presentday.csv\" ):\n",
    "    print(\"Missing dataset file\")"
   ]
  },
  {
   "cell_type": "markdown",
   "metadata": {},
   "source": [
    "The Date column is made the index..."
   ]
  },
  {
   "cell_type": "code",
   "execution_count": 3,
   "metadata": {
    "collapsed": true
   },
   "outputs": [],
   "source": [
    "chicago = pd.read_csv( \"../../data/raw/Crimes_-_2001_to_presentday.csv\", index_col=\"Date\", parse_dates=True)"
   ]
  },
  {
   "cell_type": "code",
   "execution_count": 4,
   "metadata": {},
   "outputs": [
    {
     "data": {
      "text/html": [
       "<div>\n",
       "<style>\n",
       "    .dataframe thead tr:only-child th {\n",
       "        text-align: right;\n",
       "    }\n",
       "\n",
       "    .dataframe thead th {\n",
       "        text-align: left;\n",
       "    }\n",
       "\n",
       "    .dataframe tbody tr th {\n",
       "        vertical-align: top;\n",
       "    }\n",
       "</style>\n",
       "<table border=\"1\" class=\"dataframe\">\n",
       "  <thead>\n",
       "    <tr style=\"text-align: right;\">\n",
       "      <th></th>\n",
       "      <th>ID</th>\n",
       "      <th>Case Number</th>\n",
       "      <th>Block</th>\n",
       "      <th>IUCR</th>\n",
       "      <th>Primary Type</th>\n",
       "      <th>Description</th>\n",
       "      <th>Location Description</th>\n",
       "      <th>Arrest</th>\n",
       "      <th>Domestic</th>\n",
       "      <th>Beat</th>\n",
       "      <th>...</th>\n",
       "      <th>Ward</th>\n",
       "      <th>Community Area</th>\n",
       "      <th>FBI Code</th>\n",
       "      <th>X Coordinate</th>\n",
       "      <th>Y Coordinate</th>\n",
       "      <th>Year</th>\n",
       "      <th>Updated On</th>\n",
       "      <th>Latitude</th>\n",
       "      <th>Longitude</th>\n",
       "      <th>Location</th>\n",
       "    </tr>\n",
       "    <tr>\n",
       "      <th>Date</th>\n",
       "      <th></th>\n",
       "      <th></th>\n",
       "      <th></th>\n",
       "      <th></th>\n",
       "      <th></th>\n",
       "      <th></th>\n",
       "      <th></th>\n",
       "      <th></th>\n",
       "      <th></th>\n",
       "      <th></th>\n",
       "      <th></th>\n",
       "      <th></th>\n",
       "      <th></th>\n",
       "      <th></th>\n",
       "      <th></th>\n",
       "      <th></th>\n",
       "      <th></th>\n",
       "      <th></th>\n",
       "      <th></th>\n",
       "      <th></th>\n",
       "      <th></th>\n",
       "    </tr>\n",
       "  </thead>\n",
       "  <tbody>\n",
       "    <tr>\n",
       "      <th>2015-03-18 19:44:00</th>\n",
       "      <td>10000092</td>\n",
       "      <td>HY189866</td>\n",
       "      <td>047XX W OHIO ST</td>\n",
       "      <td>041A</td>\n",
       "      <td>BATTERY</td>\n",
       "      <td>AGGRAVATED: HANDGUN</td>\n",
       "      <td>STREET</td>\n",
       "      <td>False</td>\n",
       "      <td>False</td>\n",
       "      <td>1111</td>\n",
       "      <td>...</td>\n",
       "      <td>28.0</td>\n",
       "      <td>25.0</td>\n",
       "      <td>04B</td>\n",
       "      <td>1144606.0</td>\n",
       "      <td>1903566.0</td>\n",
       "      <td>2015</td>\n",
       "      <td>02/10/2018 03:50:01 PM</td>\n",
       "      <td>41.891399</td>\n",
       "      <td>-87.744385</td>\n",
       "      <td>(41.891398861, -87.744384567)</td>\n",
       "    </tr>\n",
       "    <tr>\n",
       "      <th>2015-03-18 23:00:00</th>\n",
       "      <td>10000094</td>\n",
       "      <td>HY190059</td>\n",
       "      <td>066XX S MARSHFIELD AVE</td>\n",
       "      <td>4625</td>\n",
       "      <td>OTHER OFFENSE</td>\n",
       "      <td>PAROLE VIOLATION</td>\n",
       "      <td>STREET</td>\n",
       "      <td>True</td>\n",
       "      <td>False</td>\n",
       "      <td>725</td>\n",
       "      <td>...</td>\n",
       "      <td>15.0</td>\n",
       "      <td>67.0</td>\n",
       "      <td>26</td>\n",
       "      <td>1166468.0</td>\n",
       "      <td>1860715.0</td>\n",
       "      <td>2015</td>\n",
       "      <td>02/10/2018 03:50:01 PM</td>\n",
       "      <td>41.773372</td>\n",
       "      <td>-87.665319</td>\n",
       "      <td>(41.773371528, -87.665319468)</td>\n",
       "    </tr>\n",
       "    <tr>\n",
       "      <th>2015-03-18 22:45:00</th>\n",
       "      <td>10000095</td>\n",
       "      <td>HY190052</td>\n",
       "      <td>044XX S LAKE PARK AVE</td>\n",
       "      <td>0486</td>\n",
       "      <td>BATTERY</td>\n",
       "      <td>DOMESTIC BATTERY SIMPLE</td>\n",
       "      <td>APARTMENT</td>\n",
       "      <td>False</td>\n",
       "      <td>True</td>\n",
       "      <td>222</td>\n",
       "      <td>...</td>\n",
       "      <td>4.0</td>\n",
       "      <td>39.0</td>\n",
       "      <td>08B</td>\n",
       "      <td>1185075.0</td>\n",
       "      <td>1875622.0</td>\n",
       "      <td>2015</td>\n",
       "      <td>02/10/2018 03:50:01 PM</td>\n",
       "      <td>41.813861</td>\n",
       "      <td>-87.596643</td>\n",
       "      <td>(41.81386068, -87.596642837)</td>\n",
       "    </tr>\n",
       "    <tr>\n",
       "      <th>2015-03-18 22:30:00</th>\n",
       "      <td>10000096</td>\n",
       "      <td>HY190054</td>\n",
       "      <td>051XX S MICHIGAN AVE</td>\n",
       "      <td>0460</td>\n",
       "      <td>BATTERY</td>\n",
       "      <td>SIMPLE</td>\n",
       "      <td>APARTMENT</td>\n",
       "      <td>False</td>\n",
       "      <td>False</td>\n",
       "      <td>225</td>\n",
       "      <td>...</td>\n",
       "      <td>3.0</td>\n",
       "      <td>40.0</td>\n",
       "      <td>08B</td>\n",
       "      <td>1178033.0</td>\n",
       "      <td>1870804.0</td>\n",
       "      <td>2015</td>\n",
       "      <td>02/10/2018 03:50:01 PM</td>\n",
       "      <td>41.800802</td>\n",
       "      <td>-87.622619</td>\n",
       "      <td>(41.800802415, -87.622619343)</td>\n",
       "    </tr>\n",
       "    <tr>\n",
       "      <th>2015-03-18 21:00:00</th>\n",
       "      <td>10000097</td>\n",
       "      <td>HY189976</td>\n",
       "      <td>047XX W ADAMS ST</td>\n",
       "      <td>031A</td>\n",
       "      <td>ROBBERY</td>\n",
       "      <td>ARMED: HANDGUN</td>\n",
       "      <td>SIDEWALK</td>\n",
       "      <td>False</td>\n",
       "      <td>False</td>\n",
       "      <td>1113</td>\n",
       "      <td>...</td>\n",
       "      <td>28.0</td>\n",
       "      <td>25.0</td>\n",
       "      <td>03</td>\n",
       "      <td>1144920.0</td>\n",
       "      <td>1898709.0</td>\n",
       "      <td>2015</td>\n",
       "      <td>02/10/2018 03:50:01 PM</td>\n",
       "      <td>41.878065</td>\n",
       "      <td>-87.743354</td>\n",
       "      <td>(41.878064761, -87.743354013)</td>\n",
       "    </tr>\n",
       "  </tbody>\n",
       "</table>\n",
       "<p>5 rows × 21 columns</p>\n",
       "</div>"
      ],
      "text/plain": [
       "                           ID Case Number                   Block  IUCR  \\\n",
       "Date                                                                      \n",
       "2015-03-18 19:44:00  10000092    HY189866         047XX W OHIO ST  041A   \n",
       "2015-03-18 23:00:00  10000094    HY190059  066XX S MARSHFIELD AVE  4625   \n",
       "2015-03-18 22:45:00  10000095    HY190052   044XX S LAKE PARK AVE  0486   \n",
       "2015-03-18 22:30:00  10000096    HY190054    051XX S MICHIGAN AVE  0460   \n",
       "2015-03-18 21:00:00  10000097    HY189976        047XX W ADAMS ST  031A   \n",
       "\n",
       "                      Primary Type              Description  \\\n",
       "Date                                                          \n",
       "2015-03-18 19:44:00        BATTERY      AGGRAVATED: HANDGUN   \n",
       "2015-03-18 23:00:00  OTHER OFFENSE         PAROLE VIOLATION   \n",
       "2015-03-18 22:45:00        BATTERY  DOMESTIC BATTERY SIMPLE   \n",
       "2015-03-18 22:30:00        BATTERY                   SIMPLE   \n",
       "2015-03-18 21:00:00        ROBBERY           ARMED: HANDGUN   \n",
       "\n",
       "                    Location Description  Arrest  Domestic  Beat  \\\n",
       "Date                                                               \n",
       "2015-03-18 19:44:00               STREET   False     False  1111   \n",
       "2015-03-18 23:00:00               STREET    True     False   725   \n",
       "2015-03-18 22:45:00            APARTMENT   False      True   222   \n",
       "2015-03-18 22:30:00            APARTMENT   False     False   225   \n",
       "2015-03-18 21:00:00             SIDEWALK   False     False  1113   \n",
       "\n",
       "                                 ...                Ward  Community Area  \\\n",
       "Date                             ...                                       \n",
       "2015-03-18 19:44:00              ...                28.0            25.0   \n",
       "2015-03-18 23:00:00              ...                15.0            67.0   \n",
       "2015-03-18 22:45:00              ...                 4.0            39.0   \n",
       "2015-03-18 22:30:00              ...                 3.0            40.0   \n",
       "2015-03-18 21:00:00              ...                28.0            25.0   \n",
       "\n",
       "                     FBI Code X Coordinate  Y Coordinate  Year  \\\n",
       "Date                                                             \n",
       "2015-03-18 19:44:00       04B    1144606.0     1903566.0  2015   \n",
       "2015-03-18 23:00:00        26    1166468.0     1860715.0  2015   \n",
       "2015-03-18 22:45:00       08B    1185075.0     1875622.0  2015   \n",
       "2015-03-18 22:30:00       08B    1178033.0     1870804.0  2015   \n",
       "2015-03-18 21:00:00        03    1144920.0     1898709.0  2015   \n",
       "\n",
       "                                 Updated On   Latitude  Longitude  \\\n",
       "Date                                                                \n",
       "2015-03-18 19:44:00  02/10/2018 03:50:01 PM  41.891399 -87.744385   \n",
       "2015-03-18 23:00:00  02/10/2018 03:50:01 PM  41.773372 -87.665319   \n",
       "2015-03-18 22:45:00  02/10/2018 03:50:01 PM  41.813861 -87.596643   \n",
       "2015-03-18 22:30:00  02/10/2018 03:50:01 PM  41.800802 -87.622619   \n",
       "2015-03-18 21:00:00  02/10/2018 03:50:01 PM  41.878065 -87.743354   \n",
       "\n",
       "                                          Location  \n",
       "Date                                                \n",
       "2015-03-18 19:44:00  (41.891398861, -87.744384567)  \n",
       "2015-03-18 23:00:00  (41.773371528, -87.665319468)  \n",
       "2015-03-18 22:45:00   (41.81386068, -87.596642837)  \n",
       "2015-03-18 22:30:00  (41.800802415, -87.622619343)  \n",
       "2015-03-18 21:00:00  (41.878064761, -87.743354013)  \n",
       "\n",
       "[5 rows x 21 columns]"
      ]
     },
     "execution_count": 4,
     "metadata": {},
     "output_type": "execute_result"
    }
   ],
   "source": [
    "chicago.head()"
   ]
  },
  {
   "cell_type": "code",
   "execution_count": 5,
   "metadata": {},
   "outputs": [
    {
     "name": "stdout",
     "output_type": "stream",
     "text": [
      "<class 'pandas.core.frame.DataFrame'>\n",
      "DatetimeIndex: 6567463 entries, 2015-03-18 19:44:00 to 2014-07-11 06:00:00\n",
      "Data columns (total 21 columns):\n",
      "ID                      int64\n",
      "Case Number             object\n",
      "Block                   object\n",
      "IUCR                    object\n",
      "Primary Type            object\n",
      "Description             object\n",
      "Location Description    object\n",
      "Arrest                  bool\n",
      "Domestic                bool\n",
      "Beat                    int64\n",
      "District                float64\n",
      "Ward                    float64\n",
      "Community Area          float64\n",
      "FBI Code                object\n",
      "X Coordinate            float64\n",
      "Y Coordinate            float64\n",
      "Year                    int64\n",
      "Updated On              object\n",
      "Latitude                float64\n",
      "Longitude               float64\n",
      "Location                object\n",
      "dtypes: bool(2), float64(7), int64(3), object(9)\n",
      "memory usage: 1014.6+ MB\n"
     ]
    }
   ],
   "source": [
    "chicago.info()"
   ]
  },
  {
   "cell_type": "markdown",
   "metadata": {},
   "source": [
    "Checking the amount of null values..."
   ]
  },
  {
   "cell_type": "code",
   "execution_count": 6,
   "metadata": {},
   "outputs": [
    {
     "data": {
      "text/plain": [
       "ID                           0\n",
       "Case Number                  4\n",
       "Block                        0\n",
       "IUCR                         0\n",
       "Primary Type                 0\n",
       "Description                  0\n",
       "Location Description      3310\n",
       "Arrest                       0\n",
       "Domestic                     0\n",
       "Beat                         0\n",
       "District                    51\n",
       "Ward                    614853\n",
       "Community Area          616029\n",
       "FBI Code                     0\n",
       "X Coordinate             58258\n",
       "Y Coordinate             58258\n",
       "Year                         0\n",
       "Updated On                   0\n",
       "Latitude                 58258\n",
       "Longitude                58258\n",
       "Location                 58258\n",
       "dtype: int64"
      ]
     },
     "execution_count": 6,
     "metadata": {},
     "output_type": "execute_result"
    }
   ],
   "source": [
    "chicago.isnull().sum()"
   ]
  },
  {
   "cell_type": "markdown",
   "metadata": {},
   "source": [
    "### Dropping Columns"
   ]
  },
  {
   "cell_type": "markdown",
   "metadata": {},
   "source": [
    "The following columns are dropped as they are not needed. We do not any of the location types or X and Y Coordinates for our project. We are also not interested in things like FBI code and the date the crime was updated on"
   ]
  },
  {
   "cell_type": "code",
   "execution_count": 7,
   "metadata": {
    "collapsed": true
   },
   "outputs": [],
   "source": [
    "chicago = chicago.drop('IUCR', 1)"
   ]
  },
  {
   "cell_type": "code",
   "execution_count": 8,
   "metadata": {
    "collapsed": true
   },
   "outputs": [],
   "source": [
    "chicago = chicago.drop('FBI Code', 1)"
   ]
  },
  {
   "cell_type": "code",
   "execution_count": 9,
   "metadata": {
    "collapsed": true
   },
   "outputs": [],
   "source": [
    "chicago = chicago.drop('Updated On', 1)"
   ]
  },
  {
   "cell_type": "code",
   "execution_count": 10,
   "metadata": {
    "collapsed": true
   },
   "outputs": [],
   "source": [
    "chicago = chicago.drop('Arrest', 1)"
   ]
  },
  {
   "cell_type": "code",
   "execution_count": 11,
   "metadata": {
    "collapsed": true
   },
   "outputs": [],
   "source": [
    "chicago = chicago.drop('Beat', 1)"
   ]
  },
  {
   "cell_type": "code",
   "execution_count": 12,
   "metadata": {
    "collapsed": true
   },
   "outputs": [],
   "source": [
    "chicago = chicago.drop('Block', 1)"
   ]
  },
  {
   "cell_type": "code",
   "execution_count": 13,
   "metadata": {
    "collapsed": true
   },
   "outputs": [],
   "source": [
    "chicago = chicago.drop('Ward', 1)"
   ]
  },
  {
   "cell_type": "code",
   "execution_count": 14,
   "metadata": {
    "collapsed": true
   },
   "outputs": [],
   "source": [
    "chicago = chicago.drop('Community Area', 1)"
   ]
  },
  {
   "cell_type": "code",
   "execution_count": 15,
   "metadata": {
    "collapsed": true
   },
   "outputs": [],
   "source": [
    "chicago = chicago.drop('District', 1)"
   ]
  },
  {
   "cell_type": "code",
   "execution_count": 16,
   "metadata": {
    "collapsed": true
   },
   "outputs": [],
   "source": [
    "chicago = chicago.drop('X Coordinate', 1)"
   ]
  },
  {
   "cell_type": "code",
   "execution_count": 17,
   "metadata": {
    "collapsed": true
   },
   "outputs": [],
   "source": [
    "chicago = chicago.drop('Y Coordinate', 1)"
   ]
  },
  {
   "cell_type": "code",
   "execution_count": 18,
   "metadata": {},
   "outputs": [
    {
     "data": {
      "text/html": [
       "<div>\n",
       "<style>\n",
       "    .dataframe thead tr:only-child th {\n",
       "        text-align: right;\n",
       "    }\n",
       "\n",
       "    .dataframe thead th {\n",
       "        text-align: left;\n",
       "    }\n",
       "\n",
       "    .dataframe tbody tr th {\n",
       "        vertical-align: top;\n",
       "    }\n",
       "</style>\n",
       "<table border=\"1\" class=\"dataframe\">\n",
       "  <thead>\n",
       "    <tr style=\"text-align: right;\">\n",
       "      <th></th>\n",
       "      <th>ID</th>\n",
       "      <th>Case Number</th>\n",
       "      <th>Primary Type</th>\n",
       "      <th>Description</th>\n",
       "      <th>Location Description</th>\n",
       "      <th>Domestic</th>\n",
       "      <th>Year</th>\n",
       "      <th>Latitude</th>\n",
       "      <th>Longitude</th>\n",
       "      <th>Location</th>\n",
       "    </tr>\n",
       "    <tr>\n",
       "      <th>Date</th>\n",
       "      <th></th>\n",
       "      <th></th>\n",
       "      <th></th>\n",
       "      <th></th>\n",
       "      <th></th>\n",
       "      <th></th>\n",
       "      <th></th>\n",
       "      <th></th>\n",
       "      <th></th>\n",
       "      <th></th>\n",
       "    </tr>\n",
       "  </thead>\n",
       "  <tbody>\n",
       "    <tr>\n",
       "      <th>2015-03-18 19:44:00</th>\n",
       "      <td>10000092</td>\n",
       "      <td>HY189866</td>\n",
       "      <td>BATTERY</td>\n",
       "      <td>AGGRAVATED: HANDGUN</td>\n",
       "      <td>STREET</td>\n",
       "      <td>False</td>\n",
       "      <td>2015</td>\n",
       "      <td>41.891399</td>\n",
       "      <td>-87.744385</td>\n",
       "      <td>(41.891398861, -87.744384567)</td>\n",
       "    </tr>\n",
       "    <tr>\n",
       "      <th>2015-03-18 23:00:00</th>\n",
       "      <td>10000094</td>\n",
       "      <td>HY190059</td>\n",
       "      <td>OTHER OFFENSE</td>\n",
       "      <td>PAROLE VIOLATION</td>\n",
       "      <td>STREET</td>\n",
       "      <td>False</td>\n",
       "      <td>2015</td>\n",
       "      <td>41.773372</td>\n",
       "      <td>-87.665319</td>\n",
       "      <td>(41.773371528, -87.665319468)</td>\n",
       "    </tr>\n",
       "    <tr>\n",
       "      <th>2015-03-18 22:45:00</th>\n",
       "      <td>10000095</td>\n",
       "      <td>HY190052</td>\n",
       "      <td>BATTERY</td>\n",
       "      <td>DOMESTIC BATTERY SIMPLE</td>\n",
       "      <td>APARTMENT</td>\n",
       "      <td>True</td>\n",
       "      <td>2015</td>\n",
       "      <td>41.813861</td>\n",
       "      <td>-87.596643</td>\n",
       "      <td>(41.81386068, -87.596642837)</td>\n",
       "    </tr>\n",
       "    <tr>\n",
       "      <th>2015-03-18 22:30:00</th>\n",
       "      <td>10000096</td>\n",
       "      <td>HY190054</td>\n",
       "      <td>BATTERY</td>\n",
       "      <td>SIMPLE</td>\n",
       "      <td>APARTMENT</td>\n",
       "      <td>False</td>\n",
       "      <td>2015</td>\n",
       "      <td>41.800802</td>\n",
       "      <td>-87.622619</td>\n",
       "      <td>(41.800802415, -87.622619343)</td>\n",
       "    </tr>\n",
       "    <tr>\n",
       "      <th>2015-03-18 21:00:00</th>\n",
       "      <td>10000097</td>\n",
       "      <td>HY189976</td>\n",
       "      <td>ROBBERY</td>\n",
       "      <td>ARMED: HANDGUN</td>\n",
       "      <td>SIDEWALK</td>\n",
       "      <td>False</td>\n",
       "      <td>2015</td>\n",
       "      <td>41.878065</td>\n",
       "      <td>-87.743354</td>\n",
       "      <td>(41.878064761, -87.743354013)</td>\n",
       "    </tr>\n",
       "  </tbody>\n",
       "</table>\n",
       "</div>"
      ],
      "text/plain": [
       "                           ID Case Number   Primary Type  \\\n",
       "Date                                                       \n",
       "2015-03-18 19:44:00  10000092    HY189866        BATTERY   \n",
       "2015-03-18 23:00:00  10000094    HY190059  OTHER OFFENSE   \n",
       "2015-03-18 22:45:00  10000095    HY190052        BATTERY   \n",
       "2015-03-18 22:30:00  10000096    HY190054        BATTERY   \n",
       "2015-03-18 21:00:00  10000097    HY189976        ROBBERY   \n",
       "\n",
       "                                 Description Location Description  Domestic  \\\n",
       "Date                                                                          \n",
       "2015-03-18 19:44:00      AGGRAVATED: HANDGUN               STREET     False   \n",
       "2015-03-18 23:00:00         PAROLE VIOLATION               STREET     False   \n",
       "2015-03-18 22:45:00  DOMESTIC BATTERY SIMPLE            APARTMENT      True   \n",
       "2015-03-18 22:30:00                   SIMPLE            APARTMENT     False   \n",
       "2015-03-18 21:00:00           ARMED: HANDGUN             SIDEWALK     False   \n",
       "\n",
       "                     Year   Latitude  Longitude                       Location  \n",
       "Date                                                                            \n",
       "2015-03-18 19:44:00  2015  41.891399 -87.744385  (41.891398861, -87.744384567)  \n",
       "2015-03-18 23:00:00  2015  41.773372 -87.665319  (41.773371528, -87.665319468)  \n",
       "2015-03-18 22:45:00  2015  41.813861 -87.596643   (41.81386068, -87.596642837)  \n",
       "2015-03-18 22:30:00  2015  41.800802 -87.622619  (41.800802415, -87.622619343)  \n",
       "2015-03-18 21:00:00  2015  41.878065 -87.743354  (41.878064761, -87.743354013)  "
      ]
     },
     "execution_count": 18,
     "metadata": {},
     "output_type": "execute_result"
    }
   ],
   "source": [
    "chicago.head()"
   ]
  },
  {
   "cell_type": "code",
   "execution_count": 19,
   "metadata": {},
   "outputs": [
    {
     "data": {
      "text/plain": [
       "(6567463, 10)"
      ]
     },
     "execution_count": 19,
     "metadata": {},
     "output_type": "execute_result"
    }
   ],
   "source": [
    "chicago.shape"
   ]
  },
  {
   "cell_type": "markdown",
   "metadata": {},
   "source": [
    "### Filtering out years"
   ]
  },
  {
   "cell_type": "markdown",
   "metadata": {},
   "source": [
    "We delete all years up to 2007 as that is the first year of our NBA dataset. "
   ]
  },
  {
   "cell_type": "code",
   "execution_count": 20,
   "metadata": {
    "collapsed": true
   },
   "outputs": [],
   "source": [
    "chicago = chicago.drop(chicago[chicago.Year == 2001].index)\n",
    "chicago = chicago.drop(chicago[chicago.Year == 2002].index)\n",
    "chicago = chicago.drop(chicago[chicago.Year == 2003].index)\n",
    "chicago = chicago.drop(chicago[chicago.Year == 2004].index)\n",
    "chicago = chicago.drop(chicago[chicago.Year == 2005].index)\n",
    "chicago = chicago.drop(chicago[chicago.Year == 2006].index)"
   ]
  },
  {
   "cell_type": "code",
   "execution_count": 21,
   "metadata": {},
   "outputs": [
    {
     "data": {
      "text/plain": [
       "0"
      ]
     },
     "execution_count": 21,
     "metadata": {},
     "output_type": "execute_result"
    }
   ],
   "source": [
    "chicago.ID.duplicated().sum()"
   ]
  },
  {
   "cell_type": "markdown",
   "metadata": {},
   "source": [
    "A look at the different crimes...\n",
    "Some of them will fall into the category of assult, vandalism or domestic violence without being named so. "
   ]
  },
  {
   "cell_type": "markdown",
   "metadata": {},
   "source": [
    "### Focusing on certain crimes"
   ]
  },
  {
   "cell_type": "code",
   "execution_count": 22,
   "metadata": {},
   "outputs": [
    {
     "data": {
      "text/plain": [
       "Primary Type\n",
       "THEFT                                810238\n",
       "BATTERY                              670819\n",
       "CRIMINAL DAMAGE                      420913\n",
       "NARCOTICS                            376582\n",
       "ASSAULT                              230443\n",
       "OTHER OFFENSE                        229142\n",
       "BURGLARY                             228889\n",
       "DECEPTIVE PRACTICE                   166783\n",
       "MOTOR VEHICLE THEFT                  165364\n",
       "ROBBERY                              147103\n",
       "CRIMINAL TRESPASS                     99924\n",
       "WEAPONS VIOLATION                     41957\n",
       "PUBLIC PEACE VIOLATION                30939\n",
       "PROSTITUTION                          28494\n",
       "OFFENSE INVOLVING CHILDREN            27175\n",
       "CRIM SEXUAL ASSAULT                   16096\n",
       "SEX OFFENSE                           12571\n",
       "INTERFERENCE WITH PUBLIC OFFICER      11185\n",
       "GAMBLING                               7678\n",
       "LIQUOR LAW VIOLATION                   6379\n",
       "HOMICIDE                               5706\n",
       "ARSON                                  5703\n",
       "KIDNAPPING                             2883\n",
       "STALKING                               1983\n",
       "INTIMIDATION                           1954\n",
       "OBSCENITY                               415\n",
       "CONCEALED CARRY LICENSE VIOLATION       172\n",
       "NON-CRIMINAL                            142\n",
       "PUBLIC INDECENCY                        110\n",
       "OTHER NARCOTIC VIOLATION                 83\n",
       "HUMAN TRAFFICKING                        39\n",
       "NON - CRIMINAL                           38\n",
       "NON-CRIMINAL (SUBJECT SPECIFIED)          6\n",
       "RITUALISM                                 1\n",
       "Name: ID, dtype: int64"
      ]
     },
     "execution_count": 22,
     "metadata": {},
     "output_type": "execute_result"
    }
   ],
   "source": [
    "pt = chicago.groupby('Primary Type')[('ID')].count()\n",
    "pt.sort_values(ascending = False)"
   ]
  },
  {
   "cell_type": "markdown",
   "metadata": {},
   "source": [
    "Getting rid of all crimes that don't fall into these categories..."
   ]
  },
  {
   "cell_type": "code",
   "execution_count": 23,
   "metadata": {
    "collapsed": true
   },
   "outputs": [],
   "source": [
    "chicago = chicago[chicago['Primary Type'] != 'RITUALISM']\n",
    "chicago = chicago[chicago['Primary Type'] != 'NON-CRIMINAL (SUBJECT SPECIFIED)']\n",
    "chicago = chicago[chicago['Primary Type'] != 'NON - CRIMINAL']\n",
    "chicago = chicago[chicago['Primary Type'] != 'HUMAN TRAFFICKING']\n",
    "chicago = chicago[chicago['Primary Type'] != 'OTHER NARCOTIC VIOLATION']\n",
    "chicago = chicago[chicago['Primary Type'] != 'NON-CRIMINAL']\n",
    "chicago = chicago[chicago['Primary Type'] != 'PUBLIC INDECENCY']\n",
    "chicago = chicago[chicago['Primary Type'] != 'CONCEALED CARRY LICENSE VIOLATION']\n",
    "chicago = chicago[chicago['Primary Type'] != 'STALKING']\n",
    "chicago = chicago[chicago['Primary Type'] != 'INTIMIDATION']\n",
    "chicago = chicago[chicago['Primary Type'] != 'KIDNAPPING']\n",
    "chicago = chicago[chicago['Primary Type'] != 'HOMICIDE']\n",
    "chicago = chicago[chicago['Primary Type'] != 'LIQUOR LAW VIOLATION']\n",
    "chicago = chicago[chicago['Primary Type'] != 'GAMBLING']\n",
    "chicago = chicago[chicago['Primary Type'] != 'INTERFERENCE WITH PUBLIC OFFICER']\n",
    "chicago = chicago[chicago['Primary Type'] != 'SEX OFFENSE']\n",
    "chicago = chicago[chicago['Primary Type'] != 'CRIM SEXUAL ASSAULT']\n",
    "chicago = chicago[chicago['Primary Type'] != 'CRIMINAL TRESPASS']\n",
    "chicago = chicago[chicago['Primary Type'] != 'PUBLIC PEACE VIOLATION']\n",
    "chicago = chicago[chicago['Primary Type'] != 'WEAPONS VIOLATION']\n",
    "chicago = chicago[chicago['Primary Type'] != 'PROSTITUTION']\n",
    "chicago = chicago[chicago['Primary Type'] != 'DECEPTIVE PRACTICE']\n",
    "chicago = chicago[chicago['Primary Type'] != 'ROBBERY']\n",
    "chicago = chicago[chicago['Primary Type'] != 'MOTOR VEHICLE THEFT']\n",
    "chicago = chicago[chicago['Primary Type'] != 'BURGLARY']\n",
    "chicago = chicago[chicago['Primary Type'] != 'OTHER OFFENSE']\n",
    "chicago = chicago[chicago['Primary Type'] != 'NARCOTICS']\n",
    "chicago = chicago[chicago['Primary Type'] != 'THEFT']"
   ]
  },
  {
   "cell_type": "code",
   "execution_count": 24,
   "metadata": {},
   "outputs": [
    {
     "data": {
      "text/plain": [
       "Primary Type\n",
       "BATTERY                       670819\n",
       "CRIMINAL DAMAGE               420913\n",
       "ASSAULT                       230443\n",
       "OFFENSE INVOLVING CHILDREN     27175\n",
       "ARSON                           5703\n",
       "OBSCENITY                        415\n",
       "Name: ID, dtype: int64"
      ]
     },
     "execution_count": 24,
     "metadata": {},
     "output_type": "execute_result"
    }
   ],
   "source": [
    "pt = chicago.groupby('Primary Type')[('ID')].count()\n",
    "pt.sort_values(ascending = False)"
   ]
  },
  {
   "cell_type": "code",
   "execution_count": 25,
   "metadata": {},
   "outputs": [
    {
     "data": {
      "text/html": [
       "<div>\n",
       "<style>\n",
       "    .dataframe thead tr:only-child th {\n",
       "        text-align: right;\n",
       "    }\n",
       "\n",
       "    .dataframe thead th {\n",
       "        text-align: left;\n",
       "    }\n",
       "\n",
       "    .dataframe tbody tr th {\n",
       "        vertical-align: top;\n",
       "    }\n",
       "</style>\n",
       "<table border=\"1\" class=\"dataframe\">\n",
       "  <thead>\n",
       "    <tr style=\"text-align: right;\">\n",
       "      <th></th>\n",
       "      <th>ID</th>\n",
       "      <th>Case Number</th>\n",
       "      <th>Primary Type</th>\n",
       "      <th>Description</th>\n",
       "      <th>Location Description</th>\n",
       "      <th>Domestic</th>\n",
       "      <th>Year</th>\n",
       "      <th>Latitude</th>\n",
       "      <th>Longitude</th>\n",
       "      <th>Location</th>\n",
       "    </tr>\n",
       "    <tr>\n",
       "      <th>Date</th>\n",
       "      <th></th>\n",
       "      <th></th>\n",
       "      <th></th>\n",
       "      <th></th>\n",
       "      <th></th>\n",
       "      <th></th>\n",
       "      <th></th>\n",
       "      <th></th>\n",
       "      <th></th>\n",
       "      <th></th>\n",
       "    </tr>\n",
       "  </thead>\n",
       "  <tbody>\n",
       "    <tr>\n",
       "      <th>2015-03-18 19:44:00</th>\n",
       "      <td>10000092</td>\n",
       "      <td>HY189866</td>\n",
       "      <td>BATTERY</td>\n",
       "      <td>AGGRAVATED: HANDGUN</td>\n",
       "      <td>STREET</td>\n",
       "      <td>False</td>\n",
       "      <td>2015</td>\n",
       "      <td>41.891399</td>\n",
       "      <td>-87.744385</td>\n",
       "      <td>(41.891398861, -87.744384567)</td>\n",
       "    </tr>\n",
       "    <tr>\n",
       "      <th>2015-03-18 22:45:00</th>\n",
       "      <td>10000095</td>\n",
       "      <td>HY190052</td>\n",
       "      <td>BATTERY</td>\n",
       "      <td>DOMESTIC BATTERY SIMPLE</td>\n",
       "      <td>APARTMENT</td>\n",
       "      <td>True</td>\n",
       "      <td>2015</td>\n",
       "      <td>41.813861</td>\n",
       "      <td>-87.596643</td>\n",
       "      <td>(41.81386068, -87.596642837)</td>\n",
       "    </tr>\n",
       "    <tr>\n",
       "      <th>2015-03-18 22:30:00</th>\n",
       "      <td>10000096</td>\n",
       "      <td>HY190054</td>\n",
       "      <td>BATTERY</td>\n",
       "      <td>SIMPLE</td>\n",
       "      <td>APARTMENT</td>\n",
       "      <td>False</td>\n",
       "      <td>2015</td>\n",
       "      <td>41.800802</td>\n",
       "      <td>-87.622619</td>\n",
       "      <td>(41.800802415, -87.622619343)</td>\n",
       "    </tr>\n",
       "    <tr>\n",
       "      <th>2015-03-18 22:00:00</th>\n",
       "      <td>10000098</td>\n",
       "      <td>HY190032</td>\n",
       "      <td>BATTERY</td>\n",
       "      <td>SIMPLE</td>\n",
       "      <td>APARTMENT</td>\n",
       "      <td>False</td>\n",
       "      <td>2015</td>\n",
       "      <td>41.805443</td>\n",
       "      <td>-87.604284</td>\n",
       "      <td>(41.805443345, -87.604283976)</td>\n",
       "    </tr>\n",
       "    <tr>\n",
       "      <th>2015-03-18 23:00:00</th>\n",
       "      <td>10000099</td>\n",
       "      <td>HY190047</td>\n",
       "      <td>BATTERY</td>\n",
       "      <td>DOMESTIC BATTERY SIMPLE</td>\n",
       "      <td>APARTMENT</td>\n",
       "      <td>True</td>\n",
       "      <td>2015</td>\n",
       "      <td>41.766403</td>\n",
       "      <td>-87.649296</td>\n",
       "      <td>(41.766402779, -87.649296123)</td>\n",
       "    </tr>\n",
       "  </tbody>\n",
       "</table>\n",
       "</div>"
      ],
      "text/plain": [
       "                           ID Case Number Primary Type  \\\n",
       "Date                                                     \n",
       "2015-03-18 19:44:00  10000092    HY189866      BATTERY   \n",
       "2015-03-18 22:45:00  10000095    HY190052      BATTERY   \n",
       "2015-03-18 22:30:00  10000096    HY190054      BATTERY   \n",
       "2015-03-18 22:00:00  10000098    HY190032      BATTERY   \n",
       "2015-03-18 23:00:00  10000099    HY190047      BATTERY   \n",
       "\n",
       "                                 Description Location Description  Domestic  \\\n",
       "Date                                                                          \n",
       "2015-03-18 19:44:00      AGGRAVATED: HANDGUN               STREET     False   \n",
       "2015-03-18 22:45:00  DOMESTIC BATTERY SIMPLE            APARTMENT      True   \n",
       "2015-03-18 22:30:00                   SIMPLE            APARTMENT     False   \n",
       "2015-03-18 22:00:00                   SIMPLE            APARTMENT     False   \n",
       "2015-03-18 23:00:00  DOMESTIC BATTERY SIMPLE            APARTMENT      True   \n",
       "\n",
       "                     Year   Latitude  Longitude                       Location  \n",
       "Date                                                                            \n",
       "2015-03-18 19:44:00  2015  41.891399 -87.744385  (41.891398861, -87.744384567)  \n",
       "2015-03-18 22:45:00  2015  41.813861 -87.596643   (41.81386068, -87.596642837)  \n",
       "2015-03-18 22:30:00  2015  41.800802 -87.622619  (41.800802415, -87.622619343)  \n",
       "2015-03-18 22:00:00  2015  41.805443 -87.604284  (41.805443345, -87.604283976)  \n",
       "2015-03-18 23:00:00  2015  41.766403 -87.649296  (41.766402779, -87.649296123)  "
      ]
     },
     "execution_count": 25,
     "metadata": {},
     "output_type": "execute_result"
    }
   ],
   "source": [
    "chicago.head()"
   ]
  },
  {
   "cell_type": "code",
   "execution_count": 26,
   "metadata": {},
   "outputs": [
    {
     "data": {
      "text/plain": [
       "(1355468, 10)"
      ]
     },
     "execution_count": 26,
     "metadata": {},
     "output_type": "execute_result"
    }
   ],
   "source": [
    "chicago.shape"
   ]
  },
  {
   "cell_type": "markdown",
   "metadata": {},
   "source": [
    "The new dataframe is saved to a new csv file. This will make it easier to load."
   ]
  },
  {
   "cell_type": "code",
   "execution_count": 28,
   "metadata": {
    "collapsed": true
   },
   "outputs": [],
   "source": [
    "chicago.to_csv('../../data/prep/100_Chicago.csv')"
   ]
  },
  {
   "cell_type": "code",
   "execution_count": null,
   "metadata": {
    "collapsed": true
   },
   "outputs": [],
   "source": []
  }
 ],
 "metadata": {
  "kernelspec": {
   "display_name": "Python 3",
   "language": "python",
   "name": "python3"
  },
  "language_info": {
   "codemirror_mode": {
    "name": "ipython",
    "version": 3
   },
   "file_extension": ".py",
   "mimetype": "text/x-python",
   "name": "python",
   "nbconvert_exporter": "python",
   "pygments_lexer": "ipython3",
   "version": "3.6.3"
  }
 },
 "nbformat": 4,
 "nbformat_minor": 2
}
