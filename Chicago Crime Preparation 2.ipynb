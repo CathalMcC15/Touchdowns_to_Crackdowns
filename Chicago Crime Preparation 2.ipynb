{
 "cells": [
  {
   "cell_type": "markdown",
   "metadata": {},
   "source": [
    "# Chicago Preparation 2"
   ]
  },
  {
   "cell_type": "markdown",
   "metadata": {},
   "source": [
    "Preparing the Data for analysation. We will group the crimes together in this notebook. "
   ]
  },
  {
   "cell_type": "markdown",
   "metadata": {},
   "source": [
    "### Loading in the Data"
   ]
  },
  {
   "cell_type": "code",
   "execution_count": 61,
   "metadata": {
    "collapsed": true
   },
   "outputs": [],
   "source": [
    "import os.path\n",
    "import datetime\n",
    "import pandas as pd\n",
    "import numpy as np\n",
    "import matplotlib\n",
    "import matplotlib.pyplot as plt\n",
    "%matplotlib inline"
   ]
  },
  {
   "cell_type": "markdown",
   "metadata": {},
   "source": [
    "The cleaned Chicago crime dataset is loaded..."
   ]
  },
  {
   "cell_type": "code",
   "execution_count": 62,
   "metadata": {
    "collapsed": true
   },
   "outputs": [],
   "source": [
    "if not os.path.exists( \"../../data/prep/100_Chicago.csv\" ):\n",
    "    print(\"Missing dataset file\")"
   ]
  },
  {
   "cell_type": "code",
   "execution_count": 63,
   "metadata": {
    "collapsed": true
   },
   "outputs": [],
   "source": [
    "ch = pd.read_csv( \"../../data/prep/100_Chicago.csv\", index_col=\"Date\", parse_dates=True)"
   ]
  },
  {
   "cell_type": "code",
   "execution_count": 64,
   "metadata": {},
   "outputs": [
    {
     "data": {
      "text/html": [
       "<div>\n",
       "<style>\n",
       "    .dataframe thead tr:only-child th {\n",
       "        text-align: right;\n",
       "    }\n",
       "\n",
       "    .dataframe thead th {\n",
       "        text-align: left;\n",
       "    }\n",
       "\n",
       "    .dataframe tbody tr th {\n",
       "        vertical-align: top;\n",
       "    }\n",
       "</style>\n",
       "<table border=\"1\" class=\"dataframe\">\n",
       "  <thead>\n",
       "    <tr style=\"text-align: right;\">\n",
       "      <th></th>\n",
       "      <th>ID</th>\n",
       "      <th>Case Number</th>\n",
       "      <th>Primary Type</th>\n",
       "      <th>Description</th>\n",
       "      <th>Location Description</th>\n",
       "      <th>Domestic</th>\n",
       "      <th>Year</th>\n",
       "      <th>Latitude</th>\n",
       "      <th>Longitude</th>\n",
       "      <th>Location</th>\n",
       "    </tr>\n",
       "    <tr>\n",
       "      <th>Date</th>\n",
       "      <th></th>\n",
       "      <th></th>\n",
       "      <th></th>\n",
       "      <th></th>\n",
       "      <th></th>\n",
       "      <th></th>\n",
       "      <th></th>\n",
       "      <th></th>\n",
       "      <th></th>\n",
       "      <th></th>\n",
       "    </tr>\n",
       "  </thead>\n",
       "  <tbody>\n",
       "    <tr>\n",
       "      <th>2015-03-18 19:44:00</th>\n",
       "      <td>10000092</td>\n",
       "      <td>HY189866</td>\n",
       "      <td>BATTERY</td>\n",
       "      <td>AGGRAVATED: HANDGUN</td>\n",
       "      <td>STREET</td>\n",
       "      <td>False</td>\n",
       "      <td>2015</td>\n",
       "      <td>41.891399</td>\n",
       "      <td>-87.744385</td>\n",
       "      <td>(41.891398861, -87.744384567)</td>\n",
       "    </tr>\n",
       "    <tr>\n",
       "      <th>2015-03-18 22:45:00</th>\n",
       "      <td>10000095</td>\n",
       "      <td>HY190052</td>\n",
       "      <td>BATTERY</td>\n",
       "      <td>DOMESTIC BATTERY SIMPLE</td>\n",
       "      <td>APARTMENT</td>\n",
       "      <td>True</td>\n",
       "      <td>2015</td>\n",
       "      <td>41.813861</td>\n",
       "      <td>-87.596643</td>\n",
       "      <td>(41.81386068, -87.596642837)</td>\n",
       "    </tr>\n",
       "    <tr>\n",
       "      <th>2015-03-18 22:30:00</th>\n",
       "      <td>10000096</td>\n",
       "      <td>HY190054</td>\n",
       "      <td>BATTERY</td>\n",
       "      <td>SIMPLE</td>\n",
       "      <td>APARTMENT</td>\n",
       "      <td>False</td>\n",
       "      <td>2015</td>\n",
       "      <td>41.800802</td>\n",
       "      <td>-87.622619</td>\n",
       "      <td>(41.800802415, -87.622619343)</td>\n",
       "    </tr>\n",
       "    <tr>\n",
       "      <th>2015-03-18 22:00:00</th>\n",
       "      <td>10000098</td>\n",
       "      <td>HY190032</td>\n",
       "      <td>BATTERY</td>\n",
       "      <td>SIMPLE</td>\n",
       "      <td>APARTMENT</td>\n",
       "      <td>False</td>\n",
       "      <td>2015</td>\n",
       "      <td>41.805443</td>\n",
       "      <td>-87.604284</td>\n",
       "      <td>(41.805443345, -87.604283976)</td>\n",
       "    </tr>\n",
       "    <tr>\n",
       "      <th>2015-03-18 23:00:00</th>\n",
       "      <td>10000099</td>\n",
       "      <td>HY190047</td>\n",
       "      <td>BATTERY</td>\n",
       "      <td>DOMESTIC BATTERY SIMPLE</td>\n",
       "      <td>APARTMENT</td>\n",
       "      <td>True</td>\n",
       "      <td>2015</td>\n",
       "      <td>41.766403</td>\n",
       "      <td>-87.649296</td>\n",
       "      <td>(41.766402779, -87.649296123)</td>\n",
       "    </tr>\n",
       "  </tbody>\n",
       "</table>\n",
       "</div>"
      ],
      "text/plain": [
       "                           ID Case Number Primary Type  \\\n",
       "Date                                                     \n",
       "2015-03-18 19:44:00  10000092    HY189866      BATTERY   \n",
       "2015-03-18 22:45:00  10000095    HY190052      BATTERY   \n",
       "2015-03-18 22:30:00  10000096    HY190054      BATTERY   \n",
       "2015-03-18 22:00:00  10000098    HY190032      BATTERY   \n",
       "2015-03-18 23:00:00  10000099    HY190047      BATTERY   \n",
       "\n",
       "                                 Description Location Description  Domestic  \\\n",
       "Date                                                                          \n",
       "2015-03-18 19:44:00      AGGRAVATED: HANDGUN               STREET     False   \n",
       "2015-03-18 22:45:00  DOMESTIC BATTERY SIMPLE            APARTMENT      True   \n",
       "2015-03-18 22:30:00                   SIMPLE            APARTMENT     False   \n",
       "2015-03-18 22:00:00                   SIMPLE            APARTMENT     False   \n",
       "2015-03-18 23:00:00  DOMESTIC BATTERY SIMPLE            APARTMENT      True   \n",
       "\n",
       "                     Year   Latitude  Longitude                       Location  \n",
       "Date                                                                            \n",
       "2015-03-18 19:44:00  2015  41.891399 -87.744385  (41.891398861, -87.744384567)  \n",
       "2015-03-18 22:45:00  2015  41.813861 -87.596643   (41.81386068, -87.596642837)  \n",
       "2015-03-18 22:30:00  2015  41.800802 -87.622619  (41.800802415, -87.622619343)  \n",
       "2015-03-18 22:00:00  2015  41.805443 -87.604284  (41.805443345, -87.604283976)  \n",
       "2015-03-18 23:00:00  2015  41.766403 -87.649296  (41.766402779, -87.649296123)  "
      ]
     },
     "execution_count": 64,
     "metadata": {},
     "output_type": "execute_result"
    }
   ],
   "source": [
    "ch.head()"
   ]
  },
  {
   "cell_type": "markdown",
   "metadata": {},
   "source": [
    "### Dropping more columns"
   ]
  },
  {
   "cell_type": "markdown",
   "metadata": {},
   "source": [
    "More unnecessary columns are dropped. There is no need for ID or Case Number. The Location data (if needed) is available in its own column so Latitude and Longitude can be deleted. We also have access to the year already"
   ]
  },
  {
   "cell_type": "code",
   "execution_count": 65,
   "metadata": {
    "collapsed": true
   },
   "outputs": [],
   "source": [
    "ch = ch.drop('ID', 1)\n",
    "ch = ch.drop('Case Number', 1)\n",
    "ch = ch.drop('Year', 1)\n",
    "ch = ch.drop('Latitude', 1)\n",
    "ch = ch.drop('Longitude', 1)"
   ]
  },
  {
   "cell_type": "code",
   "execution_count": 66,
   "metadata": {},
   "outputs": [
    {
     "data": {
      "text/plain": [
       "Primary Type\n",
       "BATTERY                       670819\n",
       "CRIMINAL DAMAGE               420913\n",
       "ASSAULT                       230443\n",
       "OFFENSE INVOLVING CHILDREN     27175\n",
       "ARSON                           5703\n",
       "OBSCENITY                        415\n",
       "Name: Description, dtype: int64"
      ]
     },
     "execution_count": 66,
     "metadata": {},
     "output_type": "execute_result"
    }
   ],
   "source": [
    "pt = ch.groupby('Primary Type')[('Description')].count()\n",
    "pt.sort_values(ascending = False)"
   ]
  },
  {
   "cell_type": "code",
   "execution_count": 67,
   "metadata": {},
   "outputs": [
    {
     "name": "stdout",
     "output_type": "stream",
     "text": [
      "<class 'pandas.core.frame.DataFrame'>\n",
      "DatetimeIndex: 1355468 entries, 2015-03-18 19:44:00 to 2018-01-17 13:45:00\n",
      "Data columns (total 5 columns):\n",
      "Primary Type            1355468 non-null object\n",
      "Description             1355468 non-null object\n",
      "Location Description    1355463 non-null object\n",
      "Domestic                1355468 non-null bool\n",
      "Location                1350700 non-null object\n",
      "dtypes: bool(1), object(4)\n",
      "memory usage: 53.0+ MB\n"
     ]
    }
   ],
   "source": [
    "ch.info()"
   ]
  },
  {
   "cell_type": "code",
   "execution_count": 68,
   "metadata": {},
   "outputs": [
    {
     "data": {
      "text/html": [
       "<div>\n",
       "<style>\n",
       "    .dataframe thead tr:only-child th {\n",
       "        text-align: right;\n",
       "    }\n",
       "\n",
       "    .dataframe thead th {\n",
       "        text-align: left;\n",
       "    }\n",
       "\n",
       "    .dataframe tbody tr th {\n",
       "        vertical-align: top;\n",
       "    }\n",
       "</style>\n",
       "<table border=\"1\" class=\"dataframe\">\n",
       "  <thead>\n",
       "    <tr style=\"text-align: right;\">\n",
       "      <th></th>\n",
       "      <th>Primary Type</th>\n",
       "      <th>Description</th>\n",
       "      <th>Location Description</th>\n",
       "      <th>Domestic</th>\n",
       "      <th>Location</th>\n",
       "    </tr>\n",
       "    <tr>\n",
       "      <th>Date</th>\n",
       "      <th></th>\n",
       "      <th></th>\n",
       "      <th></th>\n",
       "      <th></th>\n",
       "      <th></th>\n",
       "    </tr>\n",
       "  </thead>\n",
       "  <tbody>\n",
       "    <tr>\n",
       "      <th>2015-03-18 19:44:00</th>\n",
       "      <td>BATTERY</td>\n",
       "      <td>AGGRAVATED: HANDGUN</td>\n",
       "      <td>STREET</td>\n",
       "      <td>False</td>\n",
       "      <td>(41.891398861, -87.744384567)</td>\n",
       "    </tr>\n",
       "    <tr>\n",
       "      <th>2015-03-18 22:45:00</th>\n",
       "      <td>BATTERY</td>\n",
       "      <td>DOMESTIC BATTERY SIMPLE</td>\n",
       "      <td>APARTMENT</td>\n",
       "      <td>True</td>\n",
       "      <td>(41.81386068, -87.596642837)</td>\n",
       "    </tr>\n",
       "    <tr>\n",
       "      <th>2015-03-18 22:30:00</th>\n",
       "      <td>BATTERY</td>\n",
       "      <td>SIMPLE</td>\n",
       "      <td>APARTMENT</td>\n",
       "      <td>False</td>\n",
       "      <td>(41.800802415, -87.622619343)</td>\n",
       "    </tr>\n",
       "    <tr>\n",
       "      <th>2015-03-18 22:00:00</th>\n",
       "      <td>BATTERY</td>\n",
       "      <td>SIMPLE</td>\n",
       "      <td>APARTMENT</td>\n",
       "      <td>False</td>\n",
       "      <td>(41.805443345, -87.604283976)</td>\n",
       "    </tr>\n",
       "    <tr>\n",
       "      <th>2015-03-18 23:00:00</th>\n",
       "      <td>BATTERY</td>\n",
       "      <td>DOMESTIC BATTERY SIMPLE</td>\n",
       "      <td>APARTMENT</td>\n",
       "      <td>True</td>\n",
       "      <td>(41.766402779, -87.649296123)</td>\n",
       "    </tr>\n",
       "  </tbody>\n",
       "</table>\n",
       "</div>"
      ],
      "text/plain": [
       "                    Primary Type              Description  \\\n",
       "Date                                                        \n",
       "2015-03-18 19:44:00      BATTERY      AGGRAVATED: HANDGUN   \n",
       "2015-03-18 22:45:00      BATTERY  DOMESTIC BATTERY SIMPLE   \n",
       "2015-03-18 22:30:00      BATTERY                   SIMPLE   \n",
       "2015-03-18 22:00:00      BATTERY                   SIMPLE   \n",
       "2015-03-18 23:00:00      BATTERY  DOMESTIC BATTERY SIMPLE   \n",
       "\n",
       "                    Location Description  Domestic  \\\n",
       "Date                                                 \n",
       "2015-03-18 19:44:00               STREET     False   \n",
       "2015-03-18 22:45:00            APARTMENT      True   \n",
       "2015-03-18 22:30:00            APARTMENT     False   \n",
       "2015-03-18 22:00:00            APARTMENT     False   \n",
       "2015-03-18 23:00:00            APARTMENT      True   \n",
       "\n",
       "                                          Location  \n",
       "Date                                                \n",
       "2015-03-18 19:44:00  (41.891398861, -87.744384567)  \n",
       "2015-03-18 22:45:00   (41.81386068, -87.596642837)  \n",
       "2015-03-18 22:30:00  (41.800802415, -87.622619343)  \n",
       "2015-03-18 22:00:00  (41.805443345, -87.604283976)  \n",
       "2015-03-18 23:00:00  (41.766402779, -87.649296123)  "
      ]
     },
     "execution_count": 68,
     "metadata": {},
     "output_type": "execute_result"
    }
   ],
   "source": [
    "ch.head()"
   ]
  },
  {
   "cell_type": "markdown",
   "metadata": {},
   "source": [
    "### Grouping Crimes"
   ]
  },
  {
   "cell_type": "markdown",
   "metadata": {},
   "source": [
    "We need to group our crimes under our 3 headings. \n",
    "Therefore if the crime is Assault and the domestic column is True then this would be grouped as 'Domestic', etc. "
   ]
  },
  {
   "cell_type": "code",
   "execution_count": 69,
   "metadata": {
    "collapsed": true
   },
   "outputs": [],
   "source": [
    "t1 = ch[(ch['Primary Type'] == \"BATTERY\") & (ch['Domestic'] == True)]\n",
    "t2 = ch[(ch['Primary Type'] == \"ASSAULT\") & (ch['Domestic'] == True)]\n",
    "t3 = ch[(ch['Primary Type'] == \"OFFENSE INVOLVING CHILDREN\") & (ch['Domestic'] == True)]\n",
    "\n",
    "t4 = ch[(ch['Primary Type'] == \"BATTERY\") & (ch['Domestic'] == False)]\n",
    "t5 = ch[(ch['Primary Type'] == \"ASSAULT\") & (ch['Domestic'] == False)]\n",
    "t6 = ch[(ch['Primary Type'] == \"OFFENSE INVOLVING CHILDREN\") & (ch['Domestic'] == False)]\n",
    "\n",
    "t7 = ch[(ch['Primary Type'] == \"CRIMINAL DAMAGE\")]\n",
    "t8 = ch[(ch['Primary Type'] == \"ARSON\")]"
   ]
  },
  {
   "cell_type": "markdown",
   "metadata": {},
   "source": [
    "The domestic columns are grouped..."
   ]
  },
  {
   "cell_type": "code",
   "execution_count": 70,
   "metadata": {
    "collapsed": true
   },
   "outputs": [],
   "source": [
    "fram = [t1, t2, t3]\n",
    "domestic = pd.concat(fram)"
   ]
  },
  {
   "cell_type": "code",
   "execution_count": 71,
   "metadata": {},
   "outputs": [
    {
     "data": {
      "text/html": [
       "<div>\n",
       "<style>\n",
       "    .dataframe thead tr:only-child th {\n",
       "        text-align: right;\n",
       "    }\n",
       "\n",
       "    .dataframe thead th {\n",
       "        text-align: left;\n",
       "    }\n",
       "\n",
       "    .dataframe tbody tr th {\n",
       "        vertical-align: top;\n",
       "    }\n",
       "</style>\n",
       "<table border=\"1\" class=\"dataframe\">\n",
       "  <thead>\n",
       "    <tr style=\"text-align: right;\">\n",
       "      <th></th>\n",
       "      <th>Primary Type</th>\n",
       "      <th>Description</th>\n",
       "      <th>Location Description</th>\n",
       "      <th>Domestic</th>\n",
       "      <th>Location</th>\n",
       "    </tr>\n",
       "    <tr>\n",
       "      <th>Date</th>\n",
       "      <th></th>\n",
       "      <th></th>\n",
       "      <th></th>\n",
       "      <th></th>\n",
       "      <th></th>\n",
       "    </tr>\n",
       "  </thead>\n",
       "  <tbody>\n",
       "    <tr>\n",
       "      <th>2015-03-18 22:45:00</th>\n",
       "      <td>BATTERY</td>\n",
       "      <td>DOMESTIC BATTERY SIMPLE</td>\n",
       "      <td>APARTMENT</td>\n",
       "      <td>True</td>\n",
       "      <td>(41.81386068, -87.596642837)</td>\n",
       "    </tr>\n",
       "    <tr>\n",
       "      <th>2015-03-18 23:00:00</th>\n",
       "      <td>BATTERY</td>\n",
       "      <td>DOMESTIC BATTERY SIMPLE</td>\n",
       "      <td>APARTMENT</td>\n",
       "      <td>True</td>\n",
       "      <td>(41.766402779, -87.649296123)</td>\n",
       "    </tr>\n",
       "    <tr>\n",
       "      <th>2015-03-18 21:35:00</th>\n",
       "      <td>BATTERY</td>\n",
       "      <td>DOMESTIC BATTERY SIMPLE</td>\n",
       "      <td>APARTMENT</td>\n",
       "      <td>True</td>\n",
       "      <td>(41.817552577, -87.619818523)</td>\n",
       "    </tr>\n",
       "    <tr>\n",
       "      <th>2015-03-18 23:30:00</th>\n",
       "      <td>BATTERY</td>\n",
       "      <td>DOMESTIC BATTERY SIMPLE</td>\n",
       "      <td>APARTMENT</td>\n",
       "      <td>True</td>\n",
       "      <td>(41.848024395, -87.682090877)</td>\n",
       "    </tr>\n",
       "    <tr>\n",
       "      <th>2015-03-18 22:45:00</th>\n",
       "      <td>BATTERY</td>\n",
       "      <td>DOMESTIC BATTERY SIMPLE</td>\n",
       "      <td>APARTMENT</td>\n",
       "      <td>True</td>\n",
       "      <td>(41.787480544, -87.618458018)</td>\n",
       "    </tr>\n",
       "  </tbody>\n",
       "</table>\n",
       "</div>"
      ],
      "text/plain": [
       "                    Primary Type              Description  \\\n",
       "Date                                                        \n",
       "2015-03-18 22:45:00      BATTERY  DOMESTIC BATTERY SIMPLE   \n",
       "2015-03-18 23:00:00      BATTERY  DOMESTIC BATTERY SIMPLE   \n",
       "2015-03-18 21:35:00      BATTERY  DOMESTIC BATTERY SIMPLE   \n",
       "2015-03-18 23:30:00      BATTERY  DOMESTIC BATTERY SIMPLE   \n",
       "2015-03-18 22:45:00      BATTERY  DOMESTIC BATTERY SIMPLE   \n",
       "\n",
       "                    Location Description  Domestic  \\\n",
       "Date                                                 \n",
       "2015-03-18 22:45:00            APARTMENT      True   \n",
       "2015-03-18 23:00:00            APARTMENT      True   \n",
       "2015-03-18 21:35:00            APARTMENT      True   \n",
       "2015-03-18 23:30:00            APARTMENT      True   \n",
       "2015-03-18 22:45:00            APARTMENT      True   \n",
       "\n",
       "                                          Location  \n",
       "Date                                                \n",
       "2015-03-18 22:45:00   (41.81386068, -87.596642837)  \n",
       "2015-03-18 23:00:00  (41.766402779, -87.649296123)  \n",
       "2015-03-18 21:35:00  (41.817552577, -87.619818523)  \n",
       "2015-03-18 23:30:00  (41.848024395, -87.682090877)  \n",
       "2015-03-18 22:45:00  (41.787480544, -87.618458018)  "
      ]
     },
     "execution_count": 71,
     "metadata": {},
     "output_type": "execute_result"
    }
   ],
   "source": [
    "domestic.head()"
   ]
  },
  {
   "cell_type": "markdown",
   "metadata": {},
   "source": [
    "They are all named 'Domestic'."
   ]
  },
  {
   "cell_type": "code",
   "execution_count": 72,
   "metadata": {
    "collapsed": true
   },
   "outputs": [],
   "source": [
    "domestic['Primary Type'] = domestic['Primary Type'].apply(lambda x: str ('Domestic'))"
   ]
  },
  {
   "cell_type": "code",
   "execution_count": 73,
   "metadata": {},
   "outputs": [
    {
     "data": {
      "text/html": [
       "<div>\n",
       "<style>\n",
       "    .dataframe thead tr:only-child th {\n",
       "        text-align: right;\n",
       "    }\n",
       "\n",
       "    .dataframe thead th {\n",
       "        text-align: left;\n",
       "    }\n",
       "\n",
       "    .dataframe tbody tr th {\n",
       "        vertical-align: top;\n",
       "    }\n",
       "</style>\n",
       "<table border=\"1\" class=\"dataframe\">\n",
       "  <thead>\n",
       "    <tr style=\"text-align: right;\">\n",
       "      <th></th>\n",
       "      <th>Primary Type</th>\n",
       "      <th>Description</th>\n",
       "      <th>Location Description</th>\n",
       "      <th>Domestic</th>\n",
       "      <th>Location</th>\n",
       "    </tr>\n",
       "    <tr>\n",
       "      <th>Date</th>\n",
       "      <th></th>\n",
       "      <th></th>\n",
       "      <th></th>\n",
       "      <th></th>\n",
       "      <th></th>\n",
       "    </tr>\n",
       "  </thead>\n",
       "  <tbody>\n",
       "    <tr>\n",
       "      <th>2015-03-18 22:45:00</th>\n",
       "      <td>Domestic</td>\n",
       "      <td>DOMESTIC BATTERY SIMPLE</td>\n",
       "      <td>APARTMENT</td>\n",
       "      <td>True</td>\n",
       "      <td>(41.81386068, -87.596642837)</td>\n",
       "    </tr>\n",
       "    <tr>\n",
       "      <th>2015-03-18 23:00:00</th>\n",
       "      <td>Domestic</td>\n",
       "      <td>DOMESTIC BATTERY SIMPLE</td>\n",
       "      <td>APARTMENT</td>\n",
       "      <td>True</td>\n",
       "      <td>(41.766402779, -87.649296123)</td>\n",
       "    </tr>\n",
       "    <tr>\n",
       "      <th>2015-03-18 21:35:00</th>\n",
       "      <td>Domestic</td>\n",
       "      <td>DOMESTIC BATTERY SIMPLE</td>\n",
       "      <td>APARTMENT</td>\n",
       "      <td>True</td>\n",
       "      <td>(41.817552577, -87.619818523)</td>\n",
       "    </tr>\n",
       "    <tr>\n",
       "      <th>2015-03-18 23:30:00</th>\n",
       "      <td>Domestic</td>\n",
       "      <td>DOMESTIC BATTERY SIMPLE</td>\n",
       "      <td>APARTMENT</td>\n",
       "      <td>True</td>\n",
       "      <td>(41.848024395, -87.682090877)</td>\n",
       "    </tr>\n",
       "    <tr>\n",
       "      <th>2015-03-18 22:45:00</th>\n",
       "      <td>Domestic</td>\n",
       "      <td>DOMESTIC BATTERY SIMPLE</td>\n",
       "      <td>APARTMENT</td>\n",
       "      <td>True</td>\n",
       "      <td>(41.787480544, -87.618458018)</td>\n",
       "    </tr>\n",
       "  </tbody>\n",
       "</table>\n",
       "</div>"
      ],
      "text/plain": [
       "                    Primary Type              Description  \\\n",
       "Date                                                        \n",
       "2015-03-18 22:45:00     Domestic  DOMESTIC BATTERY SIMPLE   \n",
       "2015-03-18 23:00:00     Domestic  DOMESTIC BATTERY SIMPLE   \n",
       "2015-03-18 21:35:00     Domestic  DOMESTIC BATTERY SIMPLE   \n",
       "2015-03-18 23:30:00     Domestic  DOMESTIC BATTERY SIMPLE   \n",
       "2015-03-18 22:45:00     Domestic  DOMESTIC BATTERY SIMPLE   \n",
       "\n",
       "                    Location Description  Domestic  \\\n",
       "Date                                                 \n",
       "2015-03-18 22:45:00            APARTMENT      True   \n",
       "2015-03-18 23:00:00            APARTMENT      True   \n",
       "2015-03-18 21:35:00            APARTMENT      True   \n",
       "2015-03-18 23:30:00            APARTMENT      True   \n",
       "2015-03-18 22:45:00            APARTMENT      True   \n",
       "\n",
       "                                          Location  \n",
       "Date                                                \n",
       "2015-03-18 22:45:00   (41.81386068, -87.596642837)  \n",
       "2015-03-18 23:00:00  (41.766402779, -87.649296123)  \n",
       "2015-03-18 21:35:00  (41.817552577, -87.619818523)  \n",
       "2015-03-18 23:30:00  (41.848024395, -87.682090877)  \n",
       "2015-03-18 22:45:00  (41.787480544, -87.618458018)  "
      ]
     },
     "execution_count": 73,
     "metadata": {},
     "output_type": "execute_result"
    }
   ],
   "source": [
    "domestic.head()"
   ]
  },
  {
   "cell_type": "markdown",
   "metadata": {},
   "source": [
    "We can now drop the columns that we used to group our crimes. They are no longer needed. "
   ]
  },
  {
   "cell_type": "code",
   "execution_count": 74,
   "metadata": {
    "collapsed": true
   },
   "outputs": [],
   "source": [
    "domestic = domestic.drop('Description', 1)\n",
    "domestic = domestic.drop('Domestic', 1)"
   ]
  },
  {
   "cell_type": "markdown",
   "metadata": {},
   "source": [
    "The assault columns are grouped. "
   ]
  },
  {
   "cell_type": "code",
   "execution_count": 75,
   "metadata": {
    "collapsed": true
   },
   "outputs": [],
   "source": [
    "fram1 = [t4, t5, t6]\n",
    "assault = pd.concat(fram1)"
   ]
  },
  {
   "cell_type": "code",
   "execution_count": 76,
   "metadata": {},
   "outputs": [
    {
     "data": {
      "text/html": [
       "<div>\n",
       "<style>\n",
       "    .dataframe thead tr:only-child th {\n",
       "        text-align: right;\n",
       "    }\n",
       "\n",
       "    .dataframe thead th {\n",
       "        text-align: left;\n",
       "    }\n",
       "\n",
       "    .dataframe tbody tr th {\n",
       "        vertical-align: top;\n",
       "    }\n",
       "</style>\n",
       "<table border=\"1\" class=\"dataframe\">\n",
       "  <thead>\n",
       "    <tr style=\"text-align: right;\">\n",
       "      <th></th>\n",
       "      <th>Primary Type</th>\n",
       "      <th>Description</th>\n",
       "      <th>Location Description</th>\n",
       "      <th>Domestic</th>\n",
       "      <th>Location</th>\n",
       "    </tr>\n",
       "    <tr>\n",
       "      <th>Date</th>\n",
       "      <th></th>\n",
       "      <th></th>\n",
       "      <th></th>\n",
       "      <th></th>\n",
       "      <th></th>\n",
       "    </tr>\n",
       "  </thead>\n",
       "  <tbody>\n",
       "    <tr>\n",
       "      <th>2015-03-18 19:44:00</th>\n",
       "      <td>BATTERY</td>\n",
       "      <td>AGGRAVATED: HANDGUN</td>\n",
       "      <td>STREET</td>\n",
       "      <td>False</td>\n",
       "      <td>(41.891398861, -87.744384567)</td>\n",
       "    </tr>\n",
       "    <tr>\n",
       "      <th>2015-03-18 22:30:00</th>\n",
       "      <td>BATTERY</td>\n",
       "      <td>SIMPLE</td>\n",
       "      <td>APARTMENT</td>\n",
       "      <td>False</td>\n",
       "      <td>(41.800802415, -87.622619343)</td>\n",
       "    </tr>\n",
       "    <tr>\n",
       "      <th>2015-03-18 22:00:00</th>\n",
       "      <td>BATTERY</td>\n",
       "      <td>SIMPLE</td>\n",
       "      <td>APARTMENT</td>\n",
       "      <td>False</td>\n",
       "      <td>(41.805443345, -87.604283976)</td>\n",
       "    </tr>\n",
       "    <tr>\n",
       "      <th>2015-03-18 21:25:00</th>\n",
       "      <td>BATTERY</td>\n",
       "      <td>SIMPLE</td>\n",
       "      <td>RESIDENCE PORCH/HALLWAY</td>\n",
       "      <td>False</td>\n",
       "      <td>(41.71745472, -87.617663257)</td>\n",
       "    </tr>\n",
       "    <tr>\n",
       "      <th>2015-03-18 22:50:00</th>\n",
       "      <td>BATTERY</td>\n",
       "      <td>SIMPLE</td>\n",
       "      <td>SIDEWALK</td>\n",
       "      <td>False</td>\n",
       "      <td>(41.86304084, -87.666288555)</td>\n",
       "    </tr>\n",
       "  </tbody>\n",
       "</table>\n",
       "</div>"
      ],
      "text/plain": [
       "                    Primary Type          Description  \\\n",
       "Date                                                    \n",
       "2015-03-18 19:44:00      BATTERY  AGGRAVATED: HANDGUN   \n",
       "2015-03-18 22:30:00      BATTERY               SIMPLE   \n",
       "2015-03-18 22:00:00      BATTERY               SIMPLE   \n",
       "2015-03-18 21:25:00      BATTERY               SIMPLE   \n",
       "2015-03-18 22:50:00      BATTERY               SIMPLE   \n",
       "\n",
       "                        Location Description  Domestic  \\\n",
       "Date                                                     \n",
       "2015-03-18 19:44:00                   STREET     False   \n",
       "2015-03-18 22:30:00                APARTMENT     False   \n",
       "2015-03-18 22:00:00                APARTMENT     False   \n",
       "2015-03-18 21:25:00  RESIDENCE PORCH/HALLWAY     False   \n",
       "2015-03-18 22:50:00                 SIDEWALK     False   \n",
       "\n",
       "                                          Location  \n",
       "Date                                                \n",
       "2015-03-18 19:44:00  (41.891398861, -87.744384567)  \n",
       "2015-03-18 22:30:00  (41.800802415, -87.622619343)  \n",
       "2015-03-18 22:00:00  (41.805443345, -87.604283976)  \n",
       "2015-03-18 21:25:00   (41.71745472, -87.617663257)  \n",
       "2015-03-18 22:50:00   (41.86304084, -87.666288555)  "
      ]
     },
     "execution_count": 76,
     "metadata": {},
     "output_type": "execute_result"
    }
   ],
   "source": [
    "assault.head()"
   ]
  },
  {
   "cell_type": "markdown",
   "metadata": {},
   "source": [
    "Every cell in the column is named 'Assault'. "
   ]
  },
  {
   "cell_type": "code",
   "execution_count": 77,
   "metadata": {
    "collapsed": true
   },
   "outputs": [],
   "source": [
    "assault['Primary Type'] = assault['Primary Type'].apply(lambda x: str ('Assault'))"
   ]
  },
  {
   "cell_type": "code",
   "execution_count": 78,
   "metadata": {},
   "outputs": [
    {
     "data": {
      "text/html": [
       "<div>\n",
       "<style>\n",
       "    .dataframe thead tr:only-child th {\n",
       "        text-align: right;\n",
       "    }\n",
       "\n",
       "    .dataframe thead th {\n",
       "        text-align: left;\n",
       "    }\n",
       "\n",
       "    .dataframe tbody tr th {\n",
       "        vertical-align: top;\n",
       "    }\n",
       "</style>\n",
       "<table border=\"1\" class=\"dataframe\">\n",
       "  <thead>\n",
       "    <tr style=\"text-align: right;\">\n",
       "      <th></th>\n",
       "      <th>Primary Type</th>\n",
       "      <th>Description</th>\n",
       "      <th>Location Description</th>\n",
       "      <th>Domestic</th>\n",
       "      <th>Location</th>\n",
       "    </tr>\n",
       "    <tr>\n",
       "      <th>Date</th>\n",
       "      <th></th>\n",
       "      <th></th>\n",
       "      <th></th>\n",
       "      <th></th>\n",
       "      <th></th>\n",
       "    </tr>\n",
       "  </thead>\n",
       "  <tbody>\n",
       "    <tr>\n",
       "      <th>2015-03-18 19:44:00</th>\n",
       "      <td>Assault</td>\n",
       "      <td>AGGRAVATED: HANDGUN</td>\n",
       "      <td>STREET</td>\n",
       "      <td>False</td>\n",
       "      <td>(41.891398861, -87.744384567)</td>\n",
       "    </tr>\n",
       "    <tr>\n",
       "      <th>2015-03-18 22:30:00</th>\n",
       "      <td>Assault</td>\n",
       "      <td>SIMPLE</td>\n",
       "      <td>APARTMENT</td>\n",
       "      <td>False</td>\n",
       "      <td>(41.800802415, -87.622619343)</td>\n",
       "    </tr>\n",
       "    <tr>\n",
       "      <th>2015-03-18 22:00:00</th>\n",
       "      <td>Assault</td>\n",
       "      <td>SIMPLE</td>\n",
       "      <td>APARTMENT</td>\n",
       "      <td>False</td>\n",
       "      <td>(41.805443345, -87.604283976)</td>\n",
       "    </tr>\n",
       "    <tr>\n",
       "      <th>2015-03-18 21:25:00</th>\n",
       "      <td>Assault</td>\n",
       "      <td>SIMPLE</td>\n",
       "      <td>RESIDENCE PORCH/HALLWAY</td>\n",
       "      <td>False</td>\n",
       "      <td>(41.71745472, -87.617663257)</td>\n",
       "    </tr>\n",
       "    <tr>\n",
       "      <th>2015-03-18 22:50:00</th>\n",
       "      <td>Assault</td>\n",
       "      <td>SIMPLE</td>\n",
       "      <td>SIDEWALK</td>\n",
       "      <td>False</td>\n",
       "      <td>(41.86304084, -87.666288555)</td>\n",
       "    </tr>\n",
       "  </tbody>\n",
       "</table>\n",
       "</div>"
      ],
      "text/plain": [
       "                    Primary Type          Description  \\\n",
       "Date                                                    \n",
       "2015-03-18 19:44:00      Assault  AGGRAVATED: HANDGUN   \n",
       "2015-03-18 22:30:00      Assault               SIMPLE   \n",
       "2015-03-18 22:00:00      Assault               SIMPLE   \n",
       "2015-03-18 21:25:00      Assault               SIMPLE   \n",
       "2015-03-18 22:50:00      Assault               SIMPLE   \n",
       "\n",
       "                        Location Description  Domestic  \\\n",
       "Date                                                     \n",
       "2015-03-18 19:44:00                   STREET     False   \n",
       "2015-03-18 22:30:00                APARTMENT     False   \n",
       "2015-03-18 22:00:00                APARTMENT     False   \n",
       "2015-03-18 21:25:00  RESIDENCE PORCH/HALLWAY     False   \n",
       "2015-03-18 22:50:00                 SIDEWALK     False   \n",
       "\n",
       "                                          Location  \n",
       "Date                                                \n",
       "2015-03-18 19:44:00  (41.891398861, -87.744384567)  \n",
       "2015-03-18 22:30:00  (41.800802415, -87.622619343)  \n",
       "2015-03-18 22:00:00  (41.805443345, -87.604283976)  \n",
       "2015-03-18 21:25:00   (41.71745472, -87.617663257)  \n",
       "2015-03-18 22:50:00   (41.86304084, -87.666288555)  "
      ]
     },
     "execution_count": 78,
     "metadata": {},
     "output_type": "execute_result"
    }
   ],
   "source": [
    "assault.head()"
   ]
  },
  {
   "cell_type": "markdown",
   "metadata": {},
   "source": [
    "The Description and Domestic columns are dropped as they are no longer needed for our project. We already have the primary types. "
   ]
  },
  {
   "cell_type": "code",
   "execution_count": 79,
   "metadata": {
    "collapsed": true
   },
   "outputs": [],
   "source": [
    "assault = assault.drop('Description', 1)\n",
    "assault = assault.drop('Domestic', 1)"
   ]
  },
  {
   "cell_type": "markdown",
   "metadata": {},
   "source": [
    "Checking where the most assaults occur. This will be key for our weather hypothesis. "
   ]
  },
  {
   "cell_type": "code",
   "execution_count": 80,
   "metadata": {},
   "outputs": [
    {
     "data": {
      "text/plain": [
       "Location Description\n",
       "SIDEWALK                    113622\n",
       "STREET                      105656\n",
       "RESIDENCE                    56811\n",
       "APARTMENT                    56167\n",
       "SCHOOL, PUBLIC, BUILDING     36435\n",
       "Name: Primary Type, dtype: int64"
      ]
     },
     "execution_count": 80,
     "metadata": {},
     "output_type": "execute_result"
    }
   ],
   "source": [
    "offence = assault.groupby('Location Description')[('Primary Type')].count()\n",
    "offence.sort_values(ascending=False).head()"
   ]
  },
  {
   "cell_type": "markdown",
   "metadata": {},
   "source": [
    "The vandalism dataframes are joined. "
   ]
  },
  {
   "cell_type": "code",
   "execution_count": 81,
   "metadata": {
    "collapsed": true
   },
   "outputs": [],
   "source": [
    "fram2 = [t7, t8]\n",
    "vandalism = pd.concat(fram2)"
   ]
  },
  {
   "cell_type": "code",
   "execution_count": 82,
   "metadata": {
    "collapsed": true
   },
   "outputs": [],
   "source": [
    "vandalism['Primary Type'] = vandalism['Primary Type'].apply(lambda x: str ('Vandalism'))"
   ]
  },
  {
   "cell_type": "code",
   "execution_count": 83,
   "metadata": {},
   "outputs": [
    {
     "data": {
      "text/html": [
       "<div>\n",
       "<style>\n",
       "    .dataframe thead tr:only-child th {\n",
       "        text-align: right;\n",
       "    }\n",
       "\n",
       "    .dataframe thead th {\n",
       "        text-align: left;\n",
       "    }\n",
       "\n",
       "    .dataframe tbody tr th {\n",
       "        vertical-align: top;\n",
       "    }\n",
       "</style>\n",
       "<table border=\"1\" class=\"dataframe\">\n",
       "  <thead>\n",
       "    <tr style=\"text-align: right;\">\n",
       "      <th></th>\n",
       "      <th>Primary Type</th>\n",
       "      <th>Description</th>\n",
       "      <th>Location Description</th>\n",
       "      <th>Domestic</th>\n",
       "      <th>Location</th>\n",
       "    </tr>\n",
       "    <tr>\n",
       "      <th>Date</th>\n",
       "      <th></th>\n",
       "      <th></th>\n",
       "      <th></th>\n",
       "      <th></th>\n",
       "      <th></th>\n",
       "    </tr>\n",
       "  </thead>\n",
       "  <tbody>\n",
       "    <tr>\n",
       "      <th>2015-03-18 21:30:00</th>\n",
       "      <td>Vandalism</td>\n",
       "      <td>TO VEHICLE</td>\n",
       "      <td>PARKING LOT/GARAGE(NON.RESID.)</td>\n",
       "      <td>False</td>\n",
       "      <td>(41.658138493, -87.613672862)</td>\n",
       "    </tr>\n",
       "    <tr>\n",
       "      <th>2015-03-19 00:35:00</th>\n",
       "      <td>Vandalism</td>\n",
       "      <td>CRIMINAL DEFACEMENT</td>\n",
       "      <td>FACTORY/MANUFACTURING BUILDING</td>\n",
       "      <td>False</td>\n",
       "      <td>(41.939055884, -87.730240399)</td>\n",
       "    </tr>\n",
       "    <tr>\n",
       "      <th>2015-03-18 22:45:00</th>\n",
       "      <td>Vandalism</td>\n",
       "      <td>TO PROPERTY</td>\n",
       "      <td>APARTMENT</td>\n",
       "      <td>False</td>\n",
       "      <td>(41.777694703, -87.607128049)</td>\n",
       "    </tr>\n",
       "    <tr>\n",
       "      <th>2015-03-18 23:20:00</th>\n",
       "      <td>Vandalism</td>\n",
       "      <td>CRIMINAL DEFACEMENT</td>\n",
       "      <td>RESIDENCE</td>\n",
       "      <td>False</td>\n",
       "      <td>(41.782423303, -87.771668137)</td>\n",
       "    </tr>\n",
       "    <tr>\n",
       "      <th>2015-03-19 02:55:00</th>\n",
       "      <td>Vandalism</td>\n",
       "      <td>TO PROPERTY</td>\n",
       "      <td>ALLEY</td>\n",
       "      <td>False</td>\n",
       "      <td>(41.813610224, -87.702061305)</td>\n",
       "    </tr>\n",
       "  </tbody>\n",
       "</table>\n",
       "</div>"
      ],
      "text/plain": [
       "                    Primary Type          Description  \\\n",
       "Date                                                    \n",
       "2015-03-18 21:30:00    Vandalism           TO VEHICLE   \n",
       "2015-03-19 00:35:00    Vandalism  CRIMINAL DEFACEMENT   \n",
       "2015-03-18 22:45:00    Vandalism          TO PROPERTY   \n",
       "2015-03-18 23:20:00    Vandalism  CRIMINAL DEFACEMENT   \n",
       "2015-03-19 02:55:00    Vandalism          TO PROPERTY   \n",
       "\n",
       "                               Location Description  Domestic  \\\n",
       "Date                                                            \n",
       "2015-03-18 21:30:00  PARKING LOT/GARAGE(NON.RESID.)     False   \n",
       "2015-03-19 00:35:00  FACTORY/MANUFACTURING BUILDING     False   \n",
       "2015-03-18 22:45:00                       APARTMENT     False   \n",
       "2015-03-18 23:20:00                       RESIDENCE     False   \n",
       "2015-03-19 02:55:00                           ALLEY     False   \n",
       "\n",
       "                                          Location  \n",
       "Date                                                \n",
       "2015-03-18 21:30:00  (41.658138493, -87.613672862)  \n",
       "2015-03-19 00:35:00  (41.939055884, -87.730240399)  \n",
       "2015-03-18 22:45:00  (41.777694703, -87.607128049)  \n",
       "2015-03-18 23:20:00  (41.782423303, -87.771668137)  \n",
       "2015-03-19 02:55:00  (41.813610224, -87.702061305)  "
      ]
     },
     "execution_count": 83,
     "metadata": {},
     "output_type": "execute_result"
    }
   ],
   "source": [
    "vandalism.head()"
   ]
  },
  {
   "cell_type": "code",
   "execution_count": 84,
   "metadata": {
    "collapsed": true
   },
   "outputs": [],
   "source": [
    "vandalism = vandalism.drop('Description', 1)\n",
    "vandalism = vandalism.drop('Domestic', 1)"
   ]
  },
  {
   "cell_type": "code",
   "execution_count": 85,
   "metadata": {},
   "outputs": [
    {
     "data": {
      "text/plain": [
       "Location Description\n",
       "STREET                            152840\n",
       "RESIDENCE                          79356\n",
       "APARTMENT                          50330\n",
       "RESIDENCE-GARAGE                   20110\n",
       "PARKING LOT/GARAGE(NON.RESID.)     17673\n",
       "Name: Primary Type, dtype: int64"
      ]
     },
     "execution_count": 85,
     "metadata": {},
     "output_type": "execute_result"
    }
   ],
   "source": [
    "offence1 = vandalism.groupby('Location Description')[('Primary Type')].count()\n",
    "offence1.sort_values(ascending=False).head()"
   ]
  },
  {
   "cell_type": "markdown",
   "metadata": {},
   "source": [
    "We then join our three dataframes to make a full crime dataframe. "
   ]
  },
  {
   "cell_type": "code",
   "execution_count": 86,
   "metadata": {
    "collapsed": true
   },
   "outputs": [],
   "source": [
    "fram3 = [vandalism, domestic, assault]\n",
    "ch_full = pd.concat(fram3, axis = 0)"
   ]
  },
  {
   "cell_type": "code",
   "execution_count": 87,
   "metadata": {},
   "outputs": [
    {
     "data": {
      "text/html": [
       "<div>\n",
       "<style>\n",
       "    .dataframe thead tr:only-child th {\n",
       "        text-align: right;\n",
       "    }\n",
       "\n",
       "    .dataframe thead th {\n",
       "        text-align: left;\n",
       "    }\n",
       "\n",
       "    .dataframe tbody tr th {\n",
       "        vertical-align: top;\n",
       "    }\n",
       "</style>\n",
       "<table border=\"1\" class=\"dataframe\">\n",
       "  <thead>\n",
       "    <tr style=\"text-align: right;\">\n",
       "      <th></th>\n",
       "      <th>Primary Type</th>\n",
       "      <th>Location Description</th>\n",
       "      <th>Location</th>\n",
       "    </tr>\n",
       "    <tr>\n",
       "      <th>Date</th>\n",
       "      <th></th>\n",
       "      <th></th>\n",
       "      <th></th>\n",
       "    </tr>\n",
       "  </thead>\n",
       "  <tbody>\n",
       "    <tr>\n",
       "      <th>2018-02-02 11:40:00</th>\n",
       "      <td>Assault</td>\n",
       "      <td>RESIDENCE</td>\n",
       "      <td>(41.698512614, -87.560750269)</td>\n",
       "    </tr>\n",
       "    <tr>\n",
       "      <th>2018-02-02 14:00:00</th>\n",
       "      <td>Assault</td>\n",
       "      <td>SCHOOL, PUBLIC, GROUNDS</td>\n",
       "      <td>(41.783284821, -87.590814803)</td>\n",
       "    </tr>\n",
       "    <tr>\n",
       "      <th>2018-02-02 08:00:00</th>\n",
       "      <td>Assault</td>\n",
       "      <td>RESIDENCE</td>\n",
       "      <td>(41.710854293, -87.566967811)</td>\n",
       "    </tr>\n",
       "    <tr>\n",
       "      <th>2018-02-02 16:42:00</th>\n",
       "      <td>Assault</td>\n",
       "      <td>RESIDENCE</td>\n",
       "      <td>(41.767220219, -87.587920939)</td>\n",
       "    </tr>\n",
       "    <tr>\n",
       "      <th>2018-02-02 15:00:00</th>\n",
       "      <td>Assault</td>\n",
       "      <td>RESIDENCE</td>\n",
       "      <td>(41.774275614, -87.604574728)</td>\n",
       "    </tr>\n",
       "  </tbody>\n",
       "</table>\n",
       "</div>"
      ],
      "text/plain": [
       "                    Primary Type     Location Description  \\\n",
       "Date                                                        \n",
       "2018-02-02 11:40:00      Assault                RESIDENCE   \n",
       "2018-02-02 14:00:00      Assault  SCHOOL, PUBLIC, GROUNDS   \n",
       "2018-02-02 08:00:00      Assault                RESIDENCE   \n",
       "2018-02-02 16:42:00      Assault                RESIDENCE   \n",
       "2018-02-02 15:00:00      Assault                RESIDENCE   \n",
       "\n",
       "                                          Location  \n",
       "Date                                                \n",
       "2018-02-02 11:40:00  (41.698512614, -87.560750269)  \n",
       "2018-02-02 14:00:00  (41.783284821, -87.590814803)  \n",
       "2018-02-02 08:00:00  (41.710854293, -87.566967811)  \n",
       "2018-02-02 16:42:00  (41.767220219, -87.587920939)  \n",
       "2018-02-02 15:00:00  (41.774275614, -87.604574728)  "
      ]
     },
     "execution_count": 87,
     "metadata": {},
     "output_type": "execute_result"
    }
   ],
   "source": [
    "ch_full.tail()"
   ]
  },
  {
   "cell_type": "code",
   "execution_count": 88,
   "metadata": {
    "collapsed": true
   },
   "outputs": [],
   "source": [
    "ch_full = ch_full.drop('Location Description', 1)\n",
    "ch_full = ch_full.drop('Location', 1)"
   ]
  },
  {
   "cell_type": "markdown",
   "metadata": {},
   "source": [
    "This new dataframe is saved as a new csv file. "
   ]
  },
  {
   "cell_type": "code",
   "execution_count": 89,
   "metadata": {
    "collapsed": true
   },
   "outputs": [],
   "source": [
    "ch_full.to_csv('../../data/prep/110_Chicago.csv')"
   ]
  },
  {
   "cell_type": "code",
   "execution_count": 90,
   "metadata": {},
   "outputs": [
    {
     "data": {
      "image/png": "[encoded data removed]",
      "text/plain": [
       "<matplotlib.figure.Figure at 0x22d682617b8>"
      ]
     },
     "metadata": {},
     "output_type": "display_data"
    }
   ],
   "source": [
    "ct = ch_full\n",
    "ass = ct[ct['Primary Type'] == \"Assault\"]['Primary Type']\n",
    "ass.resample('M').count().plot(figsize=(14,7))\n",
    "plt.title('Monthly Assaults')\n",
    "plt.show()"
   ]
  },
  {
   "cell_type": "code",
   "execution_count": null,
   "metadata": {
    "collapsed": true
   },
   "outputs": [],
   "source": []
  }
 ],
 "metadata": {
  "kernelspec": {
   "display_name": "Python 3",
   "language": "python",
   "name": "python3"
  },
  "language_info": {
   "codemirror_mode": {
    "name": "ipython",
    "version": 3
   },
   "file_extension": ".py",
   "mimetype": "text/x-python",
   "name": "python",
   "nbconvert_exporter": "python",
   "pygments_lexer": "ipython3",
   "version": "3.6.3"
  }
 },
 "nbformat": 4,
 "nbformat_minor": 2
}
